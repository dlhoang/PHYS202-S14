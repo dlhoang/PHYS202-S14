{
 "metadata": {
  "name": "",
  "signature": "sha256:c1913bffcbf1b88eb1de1bc52dfbd6b8028635a305c77a96345431cc6e019f6b"
 },
 "nbformat": 3,
 "nbformat_minor": 0,
 "worksheets": [
  {
   "cells": [
    {
     "cell_type": "code",
     "collapsed": false,
     "input": [
      "num = []\n",
      "\n",
      "def Fibonacci_number(n):\n",
      "    num.append(1)\n",
      "    num.append(2)\n",
      "    for i in range(2,n):\n",
      "        num.append(num[i-2]+num[i-1])\n",
      "        if num[i] > 4000000:\n",
      "            break\n",
      "            \n",
      "    tot = 0\n",
      "    if num[i] <= 4000000:\n",
      "        for i in range(0,n):\n",
      "            if num[i] % 2 == 0:\n",
      "                tot = tot + num[i]\n",
      "        return tot\n",
      "    \n",
      "    else:\n",
      "        print \"Term must not exceed 4 million.\"\n",
      "\n",
      "Fibonacci_number(32)"
     ],
     "language": "python",
     "metadata": {},
     "outputs": [
      {
       "metadata": {},
       "output_type": "pyout",
       "prompt_number": 1,
       "text": [
        "4613732"
       ]
      }
     ],
     "prompt_number": 1
    },
    {
     "cell_type": "code",
     "collapsed": false,
     "input": [],
     "language": "python",
     "metadata": {},
     "outputs": []
    }
   ],
   "metadata": {}
  }
 ]
}