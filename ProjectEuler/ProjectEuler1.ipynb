{
 "metadata": {
  "name": "",
  "signature": "sha256:78a1d47e2ee3c071238a6dc467aa989fb15ba550d071cfbdb54d63dfd36548b9"
 },
 "nbformat": 3,
 "nbformat_minor": 0,
 "worksheets": [
  {
   "cells": [
    {
     "cell_type": "heading",
     "level": 1,
     "metadata": {},
     "source": [
      "Multiples of 3 and 5"
     ]
    },
    {
     "cell_type": "heading",
     "level": 3,
     "metadata": {},
     "source": [
      "Problem 1"
     ]
    },
    {
     "cell_type": "markdown",
     "metadata": {},
     "source": [
      "If we list all the natural numbers below 10 that are multiples of 3 or 5, we get 3, 5, 6 and 9. The sum of these multiples is 23.\n",
      "\n",
      "Find the sum of all the multiples of 3 or 5 below 1000."
     ]
    },
    {
     "cell_type": "markdown",
     "metadata": {},
     "source": [
      "Driver: Di Hoang\n",
      "\n",
      "Navigator: Luke Horowitz "
     ]
    },
    {
     "cell_type": "code",
     "collapsed": false,
     "input": [
      "def multiples(x):\n",
      "    i = 1\n",
      "    add = 0\n",
      "    while i < x:\n",
      "        if i%3==0 or i%5==0:\n",
      "            num = i\n",
      "            add = add + num\n",
      "        i = i + 1\n",
      "    print add\n",
      "    \n",
      "multiples(10)\n",
      "multiples(1000)"
     ],
     "language": "python",
     "metadata": {},
     "outputs": [
      {
       "output_type": "stream",
       "stream": "stdout",
       "text": [
        "23\n",
        "233168\n"
       ]
      }
     ],
     "prompt_number": 11
    },
    {
     "cell_type": "code",
     "collapsed": false,
     "input": [],
     "language": "python",
     "metadata": {},
     "outputs": []
    }
   ],
   "metadata": {}
  }
 ]
}