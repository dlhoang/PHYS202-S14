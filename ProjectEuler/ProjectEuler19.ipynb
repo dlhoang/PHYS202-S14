{
 "metadata": {
  "name": "",
  "signature": "sha256:902cbe7cf0f1ece94a4d174bf935aa51347a15dc0e224201b92e0d10e213608b"
 },
 "nbformat": 3,
 "nbformat_minor": 0,
 "worksheets": [
  {
   "cells": [
    {
     "cell_type": "code",
     "collapsed": false,
     "input": [
      "def counting_sundays(year):\n",
      "    # Jan 1 1901 was a Tuesday\n",
      "    days_passed = 0\n",
      "    count = 0\n",
      "    for year in range(1901,year+1):\n",
      "        for month in range(1,13):\n",
      "            if month == 4 or month == 6 or month == 9 or month == 1:\n",
      "                days = 30\n",
      "            elif month == 2:\n",
      "                if year%400 == 0 or (year%100 != 0 and year%4 == 0):\n",
      "                    days = 29\n",
      "                else:\n",
      "                    days = 28\n",
      "            else:\n",
      "                days = 31\n",
      "                \n",
      "            # Sunday\n",
      "            days_passed = days_passed + days\n",
      "            if ((243+days_passed) % 7) == 0:\n",
      "                count = count + 1\n",
      "                \n",
      "    return count\n",
      "\n",
      "counting_sundays(2000)"
     ],
     "language": "python",
     "metadata": {},
     "outputs": [
      {
       "metadata": {},
       "output_type": "pyout",
       "prompt_number": 2,
       "text": [
        "171"
       ]
      }
     ],
     "prompt_number": 2
    },
    {
     "cell_type": "code",
     "collapsed": false,
     "input": [],
     "language": "python",
     "metadata": {},
     "outputs": []
    }
   ],
   "metadata": {}
  }
 ]
}