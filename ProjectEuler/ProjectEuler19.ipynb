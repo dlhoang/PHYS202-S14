{
 "metadata": {
  "name": "",
  "signature": "sha256:e46e4d9017124eacd4ab57b91cdeecf9addad44607fde6b24028aa758d52158f"
 },
 "nbformat": 3,
 "nbformat_minor": 0,
 "worksheets": [
  {
   "cells": [
    {
     "cell_type": "heading",
     "level": 1,
     "metadata": {},
     "source": [
      "Counting Sundays"
     ]
    },
    {
     "cell_type": "heading",
     "level": 2,
     "metadata": {},
     "source": [
      "Problem 19"
     ]
    },
    {
     "cell_type": "markdown",
     "metadata": {},
     "source": [
      "You are given the following information, but you may prefer to do some research for yourself.\n",
      "\n",
      "1 Jan 1900 was a Monday.\n",
      "\n",
      "Thirty days has September,\n",
      "\n",
      "April, June and November.\n",
      "\n",
      "All the rest have thirty-one,\n",
      "\n",
      "Saving February alone,\n",
      "\n",
      "Which has twenty-eight, rain or shine.\n",
      "\n",
      "And on leap years, twenty-nine.\n",
      "\n",
      "A leap year occurs on any year evenly divisible by 4, but not on a century unless it is divisible by 400.\n",
      "\n",
      "How many Sundays fell on the first of the month during the twentieth century (1 Jan 1901 to 31 Dec 2000)?"
     ]
    },
    {
     "cell_type": "code",
     "collapsed": false,
     "input": [
      "def counting_sundays(year):\n",
      "    # Jan 1 1901 was a Tuesday\n",
      "    days_passed = 0\n",
      "    count = 0\n",
      "    for year in range(1901,year+1):\n",
      "        for month in range(1,13):\n",
      "            if month == 4 or month == 6 or month == 9 or month == 1:\n",
      "                days = 30\n",
      "            elif month == 2:\n",
      "                if year%400 == 0 or (year%100 != 0 and year%4 == 0):\n",
      "                    days = 29\n",
      "                else:\n",
      "                    days = 28\n",
      "            else:\n",
      "                days = 31\n",
      "                \n",
      "            # Sunday\n",
      "            days_passed = days_passed + days\n",
      "            if ((243+days_passed) % 7) == 0:\n",
      "                count = count + 1\n",
      "                \n",
      "    return count\n",
      "\n",
      "counting_sundays(2000)"
     ],
     "language": "python",
     "metadata": {},
     "outputs": [
      {
       "metadata": {},
       "output_type": "pyout",
       "prompt_number": 2,
       "text": [
        "171"
       ]
      }
     ],
     "prompt_number": 2
    },
    {
     "cell_type": "code",
     "collapsed": false,
     "input": [],
     "language": "python",
     "metadata": {},
     "outputs": []
    }
   ],
   "metadata": {}
  }
 ]
}