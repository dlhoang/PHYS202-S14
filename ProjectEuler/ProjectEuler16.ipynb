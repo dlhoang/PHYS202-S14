{
 "metadata": {
  "name": "",
  "signature": "sha256:abe41632bd0169339de75ada53dace1ebfa212eeeac1eb704e6645e86cec9c73"
 },
 "nbformat": 3,
 "nbformat_minor": 0,
 "worksheets": [
  {
   "cells": [
    {
     "cell_type": "code",
     "collapsed": false,
     "input": [
      "def power_digit_sum(n):\n",
      "    number = str(2**n)\n",
      "    total = 0\n",
      "    for i in range(len(number)):\n",
      "        digit = number[i:i+1]\n",
      "        total = total + int(digit)\n",
      "    return total\n",
      "\n",
      "print power_digit_sum(15)\n",
      "print power_digit_sum(1000)"
     ],
     "language": "python",
     "metadata": {},
     "outputs": [
      {
       "output_type": "stream",
       "stream": "stdout",
       "text": [
        "26\n",
        "1366\n"
       ]
      }
     ],
     "prompt_number": 1
    },
    {
     "cell_type": "code",
     "collapsed": false,
     "input": [],
     "language": "python",
     "metadata": {},
     "outputs": []
    }
   ],
   "metadata": {}
  }
 ]
}