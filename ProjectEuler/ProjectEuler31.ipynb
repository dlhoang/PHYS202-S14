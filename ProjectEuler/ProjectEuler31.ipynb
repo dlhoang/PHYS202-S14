{
 "metadata": {
  "name": "",
  "signature": "sha256:df3cc1101fe709ac580bfc96fed655c8050399bd1726a7694409ffdacc9d2d48"
 },
 "nbformat": 3,
 "nbformat_minor": 0,
 "worksheets": [
  {
   "cells": [
    {
     "cell_type": "code",
     "collapsed": false,
     "input": [
      "def coin_sums(n,a):   \n",
      "    lst = [200,100,50,20,10,5,2,1]\n",
      "    count = 0\n",
      "    for i in range(a, len(lst)):\n",
      "        if n - lst[i] == 0:\n",
      "            count = count + 1\n",
      "        elif n - lst[i ] > 0:\n",
      "            count = count + coin_sums(n-lst[i],i)\n",
      "    return count\n",
      "    \n",
      "print coin_sums(200,0)"
     ],
     "language": "python",
     "metadata": {},
     "outputs": []
    }
   ],
   "metadata": {}
  }
 ]
}