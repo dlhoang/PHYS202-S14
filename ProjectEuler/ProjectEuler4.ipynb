{
 "metadata": {
  "name": "",
  "signature": "sha256:c39dc7545517c3c98e4fc8c30180163965d5ddd0950d0072eb03cfb18a3949f5"
 },
 "nbformat": 3,
 "nbformat_minor": 0,
 "worksheets": [
  {
   "cells": [
    {
     "cell_type": "code",
     "collapsed": false,
     "input": [
      "def palindrome(n):\n",
      "    num = str(n)\n",
      "    if num[::1] == num[::-1]:\n",
      "        return num[::1] == num[::-1]\n",
      "\n",
      "def max_palindrome(low,high):\n",
      "    max = 0\n",
      "    for i in range(low,high):\n",
      "        for j in range(low,high):\n",
      "            if palindrome(i*j) and i*j > max:\n",
      "                max = i*j\n",
      "    return max\n",
      "\n",
      "print max_palindrome(101,101)\n",
      "print max_palindrome(101,500)\n",
      "print max_palindrome(101,800)\n",
      "print max_palindrome(101,999)"
     ],
     "language": "python",
     "metadata": {},
     "outputs": [
      {
       "output_type": "stream",
       "stream": "stdout",
       "text": [
        "0\n",
        "222222"
       ]
      },
      {
       "output_type": "stream",
       "stream": "stdout",
       "text": [
        "\n",
        "612216"
       ]
      },
      {
       "output_type": "stream",
       "stream": "stdout",
       "text": [
        "\n",
        "906609"
       ]
      },
      {
       "output_type": "stream",
       "stream": "stdout",
       "text": [
        "\n"
       ]
      }
     ],
     "prompt_number": 1
    },
    {
     "cell_type": "code",
     "collapsed": false,
     "input": [],
     "language": "python",
     "metadata": {},
     "outputs": []
    }
   ],
   "metadata": {}
  }
 ]
}