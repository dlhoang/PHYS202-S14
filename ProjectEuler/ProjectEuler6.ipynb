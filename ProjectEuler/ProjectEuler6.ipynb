{
 "metadata": {
  "name": "",
  "signature": "sha256:13703c331228f13f6f82755d239585bb7b609d55bfe7dbf792625ad586a07595"
 },
 "nbformat": 3,
 "nbformat_minor": 0,
 "worksheets": [
  {
   "cells": [
    {
     "cell_type": "heading",
     "level": 1,
     "metadata": {},
     "source": [
      "Sum Square Difference"
     ]
    },
    {
     "cell_type": "heading",
     "level": 3,
     "metadata": {},
     "source": [
      "Problem 6"
     ]
    },
    {
     "cell_type": "markdown",
     "metadata": {},
     "source": [
      "The sum of the squares of the first ten natural numbers is,\n",
      "         385\n",
      "\n",
      "The square of the sum of the first ten natural numbers is,\n",
      "         3025\n",
      "\n",
      "Hence the difference between the sum of the squares of the first ten natural numbers and the square of the sum is 3025 - 385 = 2640.\n",
      "\n",
      "Find the difference between the sum of the squares of the first one hundred natural numbers and the square of the sum."
     ]
    },
    {
     "cell_type": "code",
     "collapsed": false,
     "input": [
      "def sum_square_difference(n):\n",
      "    return square_of_sum(n) - sum_of_squares(n)\n",
      "    \n",
      "def sum_of_squares(n):\n",
      "    tot = 0\n",
      "    for i in range(n+1):\n",
      "        tot = tot + i**2\n",
      "    return tot\n",
      "    \n",
      "def square_of_sum(n):\n",
      "    add = 0\n",
      "    tot = 0\n",
      "    for i in range(n+1):\n",
      "        add = add + i\n",
      "    tot = add**2\n",
      "    return tot\n",
      "\n",
      "print sum_of_squares(10)\n",
      "print square_of_sum(10)\n",
      "print sum_square_difference(10)"
     ],
     "language": "python",
     "metadata": {},
     "outputs": [
      {
       "output_type": "stream",
       "stream": "stdout",
       "text": [
        "385\n",
        "3025\n",
        "2640\n"
       ]
      }
     ],
     "prompt_number": 1
    },
    {
     "cell_type": "code",
     "collapsed": false,
     "input": [],
     "language": "python",
     "metadata": {},
     "outputs": []
    }
   ],
   "metadata": {}
  }
 ]
}