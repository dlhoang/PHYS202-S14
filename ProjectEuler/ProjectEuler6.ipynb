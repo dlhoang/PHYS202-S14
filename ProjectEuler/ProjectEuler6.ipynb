{
 "metadata": {
  "name": "",
  "signature": "sha256:7cecbf3f3ede56a1ee498e12b720ae86245b3af4f76643230fd0a0ea85e0872c"
 },
 "nbformat": 3,
 "nbformat_minor": 0,
 "worksheets": [
  {
   "cells": [
    {
     "cell_type": "code",
     "collapsed": false,
     "input": [
      "def sum_square_difference(n):\n",
      "    return square_of_sum(n) - sum_of_squares(n)\n",
      "    \n",
      "def sum_of_squares(n):\n",
      "    tot = 0\n",
      "    for i in range(n+1):\n",
      "        tot = tot + i**2\n",
      "    return tot\n",
      "    \n",
      "def square_of_sum(n):\n",
      "    add = 0\n",
      "    tot = 0\n",
      "    for i in range(n+1):\n",
      "        add = add + i\n",
      "    tot = add**2\n",
      "    return tot\n",
      "\n",
      "print sum_of_squares(10)\n",
      "print square_of_sum(10)\n",
      "print sum_square_difference(10)"
     ],
     "language": "python",
     "metadata": {},
     "outputs": [
      {
       "output_type": "stream",
       "stream": "stdout",
       "text": [
        "385\n",
        "3025\n",
        "2640\n"
       ]
      }
     ],
     "prompt_number": 1
    },
    {
     "cell_type": "code",
     "collapsed": false,
     "input": [],
     "language": "python",
     "metadata": {},
     "outputs": []
    }
   ],
   "metadata": {}
  }
 ]
}