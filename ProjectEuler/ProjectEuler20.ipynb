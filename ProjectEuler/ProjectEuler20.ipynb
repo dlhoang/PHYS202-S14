{
 "metadata": {
  "name": "",
  "signature": "sha256:bae0ee8c68b7be5e279e3cf5e01be2d3d5eae0683ff79761b2c384af700a8e01"
 },
 "nbformat": 3,
 "nbformat_minor": 0,
 "worksheets": [
  {
   "cells": [
    {
     "cell_type": "heading",
     "level": 1,
     "metadata": {},
     "source": [
      "Factorial digit sum"
     ]
    },
    {
     "cell_type": "heading",
     "level": 2,
     "metadata": {},
     "source": [
      "Problem 20"
     ]
    },
    {
     "cell_type": "markdown",
     "metadata": {},
     "source": [
      "n! means n \u00d7 (n \u2212 1) \u00d7 ... \u00d7 3 \u00d7 2 \u00d7 1\n",
      "\n",
      "For example, 10! = 10 \u00d7 9 \u00d7 ... \u00d7 3 \u00d7 2 \u00d7 1 = 3628800,\n",
      "and the sum of the digits in the number 10! is 3 + 6 + 2 + 8 + 8 + 0 + 0 = 27.\n",
      "\n",
      "Find the sum of the digits in the number 100!"
     ]
    },
    {
     "cell_type": "code",
     "collapsed": false,
     "input": [
      "def factorial_digit_sum(n):\n",
      "    value = n\n",
      "    total = 0\n",
      "    for i in range(1,n):\n",
      "        value = value * (n-i)\n",
      "    string = str(value)\n",
      "    for digit in string:\n",
      "        total = total + int(digit)\n",
      "    return total\n",
      "\n",
      "print factorial_digit_sum(10)\n",
      "print factorial_digit_sum(100)"
     ],
     "language": "python",
     "metadata": {},
     "outputs": [
      {
       "output_type": "stream",
       "stream": "stdout",
       "text": [
        "27\n",
        "648\n"
       ]
      }
     ],
     "prompt_number": 1
    },
    {
     "cell_type": "code",
     "collapsed": false,
     "input": [],
     "language": "python",
     "metadata": {},
     "outputs": []
    }
   ],
   "metadata": {}
  }
 ]
}