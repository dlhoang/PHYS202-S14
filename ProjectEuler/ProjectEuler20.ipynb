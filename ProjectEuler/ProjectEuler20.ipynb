{
 "metadata": {
  "name": "",
  "signature": "sha256:082e674ceff2b4a239dd1131f04f872afec3912c09595d98f88d04e8363e35c6"
 },
 "nbformat": 3,
 "nbformat_minor": 0,
 "worksheets": [
  {
   "cells": [
    {
     "cell_type": "code",
     "collapsed": false,
     "input": [
      "def factorial_digit_sum(n):\n",
      "    value = n\n",
      "    total = 0\n",
      "    for i in range(1,n):\n",
      "        value = value * (n-i)\n",
      "    string = str(value)\n",
      "    for digit in string:\n",
      "        total = total + int(digit)\n",
      "    return total\n",
      "\n",
      "print factorial_digit_sum(10)\n",
      "print factorial_digit_sum(100)"
     ],
     "language": "python",
     "metadata": {},
     "outputs": []
    }
   ],
   "metadata": {}
  }
 ]
}