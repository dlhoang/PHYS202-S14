{
 "metadata": {
  "name": "",
  "signature": "sha256:db522a0b4a9071be8f0242c31597d3f789d3c94b0a3aaaf85fee955ef67ac15e"
 },
 "nbformat": 3,
 "nbformat_minor": 0,
 "worksheets": [
  {
   "cells": [
    {
     "cell_type": "heading",
     "level": 1,
     "metadata": {},
     "source": [
      "Number Letter Counts"
     ]
    },
    {
     "cell_type": "heading",
     "level": 2,
     "metadata": {},
     "source": [
      "Problem 17"
     ]
    },
    {
     "cell_type": "markdown",
     "metadata": {},
     "source": [
      "If the numbers 1 to 5 are written out in words: one, two, three, four, five, then there are 3 + 3 + 5 + 4 + 4 = 19 letters used in total.\n",
      "\n",
      "If all the numbers from 1 to 1000 (one thousand) inclusive were written out in words, how many letters would be used?\n",
      "\n",
      "NOTE: Do not count spaces or hyphens. For example, 342 (three hundred and forty-two) contains 23 letters and 115 (one hundred and fifteen) contains 20 letters. The use of \"and\" when writing out numbers is in compliance with British usage."
     ]
    },
    {
     "cell_type": "code",
     "collapsed": false,
     "input": [
      "def number_letter_counts(n):\n",
      "    units = [\"one\", \"two\", \"three\", \"four\", \"five\", \"six\", \"seven\", \"eight\",\\\n",
      "             \"nine\"]\n",
      "    teens = [\"ten\", \"eleven\", \"twelve\", \"thirteen\", \"fourteen\", \"fifteen\", \"sixteen\",\\\n",
      "            \"seventeen\", \"eighteen\", \"nineteen\"]\n",
      "    tens = [\"twenty\", \"thirty\", \"forty\", \"fifty\", \"sixty\", \"seventy\", \"eighty\",\\\n",
      "            \"ninety\"]\n",
      "    hundreds = [\"onehundred\", \"twohundred\", \"threehundred\", \"fourhundred\",\\\n",
      "                \"fivehundred\", \"sixhundred\", \"sevenhundred\", \"eighthundred\",\\\n",
      "                \"ninehundred\"]\n",
      "    thousands = [\"thousand\"]\n",
      "    \n",
      "    start = 1\n",
      "    string = str(n)\n",
      "    length = 0\n",
      "    temp_length = 0\n",
      "    units_length = 0\n",
      "    unit_length = 0\n",
      "    \n",
      "    # 1-9\n",
      "    if n > 0:\n",
      "        for i in range(0,9):\n",
      "            length = length + len(units[i])\n",
      "        \n",
      "        # 10 - 19\n",
      "        if n >= 10:\n",
      "            length = length + len(teens[0])\n",
      "            for i in range(1,10):\n",
      "                length = length + len(teens[i])\n",
      "                \n",
      "            # 20 - 99\n",
      "            if n >= 20:\n",
      "                for i in range(0,8):\n",
      "                    temp_length = temp_length + len(tens[i])\n",
      "                length = length + 10*temp_length\n",
      "            \n",
      "                for i in range(0,9):\n",
      "                    units_length = units_length + 8*len(units[i])\n",
      "                length = length + units_length\n",
      "                one_thru_ninetynine = length\n",
      "\n",
      "            # 100 - 999\n",
      "            if n >= 100:\n",
      "                for i in range(0,9):\n",
      "                    unit_length = unit_length + 100*len(units[i])\n",
      "                length = length + unit_length\n",
      "            \n",
      "                teen_length = 9*(one_thru_ninetynine)\n",
      "                length = length + teen_length\n",
      "            \n",
      "                length = length + 9*len(\"hundred\") + 9*99*len(\"hundredand\") + len(\"onethousand\")\n",
      "                \n",
      "\n",
      "    return length\n",
      "\n",
      "print number_letter_counts(1000)\n"
     ],
     "language": "python",
     "metadata": {},
     "outputs": [
      {
       "output_type": "stream",
       "stream": "stdout",
       "text": [
        "21124\n"
       ]
      }
     ],
     "prompt_number": 2
    },
    {
     "cell_type": "code",
     "collapsed": false,
     "input": [],
     "language": "python",
     "metadata": {},
     "outputs": []
    }
   ],
   "metadata": {}
  }
 ]
}