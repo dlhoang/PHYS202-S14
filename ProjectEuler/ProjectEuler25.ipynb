{
 "metadata": {
  "name": "",
  "signature": "sha256:c5f9da630dfdc4af154ef38f98c7d24065da4dc980eeac2775bbd6aaa8465a37"
 },
 "nbformat": 3,
 "nbformat_minor": 0,
 "worksheets": [
  {
   "cells": [
    {
     "cell_type": "code",
     "collapsed": false,
     "input": [],
     "language": "python",
     "metadata": {},
     "outputs": []
    },
    {
     "cell_type": "heading",
     "level": 2,
     "metadata": {},
     "source": [
      "Problem 25"
     ]
    },
    {
     "cell_type": "markdown",
     "metadata": {},
     "source": [
      "The Fibonacci sequence is defined by the recurrence relation:\n",
      "\n",
      "$F_n$ = $F_{n\u22121}$ + $F_{n\u22122}$, where $F_1$ = 1 and $F_2$ = 1.\n",
      "Hence the first 12 terms will be:\n",
      "\n",
      "$F_1$ = 1\n",
      "\n",
      "$F_2$ = 1\n",
      "\n",
      "$F_3$ = 2\n",
      "\n",
      "$F_4$ = 3\n",
      "\n",
      "$F_5$ = 5\n",
      "\n",
      "$F_6$ = 8\n",
      "\n",
      "$F_7$ = 13\n",
      "\n",
      "$F_8$ = 21\n",
      "\n",
      "$F_9$ = 34\n",
      "\n",
      "$F_{10}$ = 55\n",
      "\n",
      "$F_{11}$ = 89\n",
      "\n",
      "$F_{12}$ = 144\n",
      "The 12th term, F12, is the first term to contain three digits.\n",
      "\n",
      "What is the first term in the Fibonacci sequence to contain 1000 digits?"
     ]
    },
    {
     "cell_type": "code",
     "collapsed": false,
     "input": [
      "num = []\n",
      "\n",
      "def Fibonacci_number():\n",
      "    num.append(1)\n",
      "    num.append(2)\n",
      "    for i in range(2,30):\n",
      "        num.append(num[i-2]+num[i-1])\n",
      "        \n",
      "    for i in range(2,30):\n",
      "        if len(str(num[i])) == 4:\n",
      "            return i+2\n",
      "            break\n",
      "            \n",
      "Fibonacci_number()"
     ],
     "language": "python",
     "metadata": {},
     "outputs": [
      {
       "metadata": {},
       "output_type": "pyout",
       "prompt_number": 1,
       "text": [
        "17"
       ]
      }
     ],
     "prompt_number": 1
    },
    {
     "cell_type": "code",
     "collapsed": false,
     "input": [],
     "language": "python",
     "metadata": {},
     "outputs": []
    }
   ],
   "metadata": {}
  }
 ]
}