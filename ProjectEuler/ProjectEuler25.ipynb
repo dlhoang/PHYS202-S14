{
 "metadata": {
  "name": "",
  "signature": "sha256:e31513319d95e990f5d5e01692ea9ad0b2139e1d5b8db2fdf52f51564fe63e2f"
 },
 "nbformat": 3,
 "nbformat_minor": 0,
 "worksheets": [
  {
   "cells": [
    {
     "cell_type": "code",
     "collapsed": false,
     "input": [
      "num = []\n",
      "\n",
      "def Fibonacci_number():\n",
      "    num.append(1)\n",
      "    num.append(2)\n",
      "    for i in range(2,30):\n",
      "        num.append(num[i-2]+num[i-1])\n",
      "        \n",
      "    for i in range(2,30):\n",
      "        if len(str(num[i])) == 4:\n",
      "            return i+2\n",
      "            break\n",
      "            \n",
      "Fibonacci_number()"
     ],
     "language": "python",
     "metadata": {},
     "outputs": [
      {
       "metadata": {},
       "output_type": "pyout",
       "prompt_number": 1,
       "text": [
        "17"
       ]
      }
     ],
     "prompt_number": 1
    },
    {
     "cell_type": "code",
     "collapsed": false,
     "input": [],
     "language": "python",
     "metadata": {},
     "outputs": []
    }
   ],
   "metadata": {}
  }
 ]
}