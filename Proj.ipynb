{
 "metadata": {
  "name": "",
  "signature": "sha256:4dc141f5ec1b0a378a1018ccb06f5e4d6b039dce2ea10e733b738715669e504d"
 },
 "nbformat": 3,
 "nbformat_minor": 0,
 "worksheets": [
  {
   "cells": [
    {
     "cell_type": "code",
     "collapsed": false,
     "input": [
      "%pylab inline\n",
      "import numpy as np\n",
      "import matplotlib.pyplot as plt\n",
      "from PIL import Image\n",
      "import requests\n",
      "from StringIO import StringIO\n",
      "\n",
      "class BlobFinder():\n",
      "    def __init__(self,mass,cm):\n",
      "        pass\n",
      "    def add(i,j):\n",
      "        pass\n",
      "    def mass():\n",
      "        pass\n",
      "    def distanceTo(blob):\n",
      "        pass\n",
      "    def centerOfMass():\n",
      "        pass\n",
      "\n",
      "    def monochrome(picture, threshold):\n",
      "        \"\"\"loops over the pixels in the loaded image, \n",
      "        replacing the RGB values of each with either \n",
      "        black or white depending on whether its total \n",
      "        luminance is above or below some threshold \n",
      "        passed in by the user\"\"\"\n",
      "        black = (0, 0, 0)\n",
      "        white = (255, 255, 255)\n",
      "        xsize, ysize = picture.size\n",
      "        temp = picture.load()\n",
      "        for x in range(xsize):\n",
      "            for y in range(ysize):\n",
      "                r,g,b = temp[x,y]\n",
      "                if r+g+b <= threshold: \n",
      "                    temp[x,y] = black\n",
      "                else:\n",
      "                    temp[x,y] = white\n",
      "                    \n",
      "picture = open(\"frame00000.jpg\")"
     ],
     "language": "python",
     "metadata": {},
     "outputs": [
      {
       "output_type": "stream",
       "stream": "stdout",
       "text": [
        "Populating the interactive namespace from numpy and matplotlib\n"
       ]
      },
      {
       "ename": "IOError",
       "evalue": "[Errno 2] No such file or directory: 'frame00000.jpg'",
       "output_type": "pyerr",
       "traceback": [
        "\u001b[1;31m---------------------------------------------------------------------------\u001b[0m\n\u001b[1;31mIOError\u001b[0m                                   Traceback (most recent call last)",
        "\u001b[1;32m<ipython-input-10-6660757c50ac>\u001b[0m in \u001b[0;36m<module>\u001b[1;34m()\u001b[0m\n\u001b[0;32m     36\u001b[0m                     \u001b[0mtemp\u001b[0m\u001b[1;33m[\u001b[0m\u001b[0mx\u001b[0m\u001b[1;33m,\u001b[0m\u001b[0my\u001b[0m\u001b[1;33m]\u001b[0m \u001b[1;33m=\u001b[0m \u001b[0mwhite\u001b[0m\u001b[1;33m\u001b[0m\u001b[0m\n\u001b[0;32m     37\u001b[0m \u001b[1;33m\u001b[0m\u001b[0m\n\u001b[1;32m---> 38\u001b[1;33m \u001b[0mpicture\u001b[0m \u001b[1;33m=\u001b[0m \u001b[0mopen\u001b[0m\u001b[1;33m(\u001b[0m\u001b[1;34m\"frame00000.jpg\"\u001b[0m\u001b[1;33m)\u001b[0m\u001b[1;33m\u001b[0m\u001b[0m\n\u001b[0m",
        "\u001b[1;31mIOError\u001b[0m: [Errno 2] No such file or directory: 'frame00000.jpg'"
       ]
      }
     ],
     "prompt_number": 10
    },
    {
     "cell_type": "code",
     "collapsed": false,
     "input": [],
     "language": "python",
     "metadata": {},
     "outputs": []
    }
   ],
   "metadata": {}
  }
 ]
}