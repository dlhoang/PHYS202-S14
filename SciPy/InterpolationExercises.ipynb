{
 "metadata": {
  "name": "",
  "signature": "sha256:50aeec2fd2bb1b3adde048abf7be0ee7fef1a537cb4f9004c61dec94da10c447"
 },
 "nbformat": 3,
 "nbformat_minor": 0,
 "worksheets": [
  {
   "cells": [
    {
     "cell_type": "heading",
     "level": 1,
     "metadata": {},
     "source": [
      "Interpolation Exercises"
     ]
    },
    {
     "cell_type": "code",
     "collapsed": false,
     "input": [
      "%pylab inline\n",
      "import numpy as np\n",
      "import matplotlib.pyplot as plt\n",
      "from scipy.interpolate import interp1d"
     ],
     "language": "python",
     "metadata": {},
     "outputs": [
      {
       "output_type": "stream",
       "stream": "stdout",
       "text": [
        "Populating the interactive namespace from numpy and matplotlib\n"
       ]
      }
     ],
     "prompt_number": 25
    },
    {
     "cell_type": "markdown",
     "metadata": {},
     "source": [
      "1) It is common to test functions where you know the answer they should give. Let's test the dipolePotential() function that we previously saved in Electrostatics.py to see that the function is zero along the bisector between the charges.\n",
      "\n",
      "First, set up a grid and evaluate the function."
     ]
    },
    {
     "cell_type": "code",
     "collapsed": false,
     "input": [
      "from Electrostatics import *\n",
      "x,y = np.meshgrid(np.arange(-5,5.01,0.5),np.arange(-5,5.01,0.5))\n",
      "Vdipole = dipolePotential(x,y,1e-9,2.)\n",
      "plt.contour(x,y,Vdipole,cmap=cm.coolwarm)\n",
      "plt.show()"
     ],
     "language": "python",
     "metadata": {},
     "outputs": [
      {
       "metadata": {},
       "output_type": "display_data",
       "png": "[encoded data removed]",
       "text": [
        "<matplotlib.figure.Figure at 0x1062c77d0>"
       ]
      }
     ],
     "prompt_number": 15
    },
    {
     "cell_type": "markdown",
     "metadata": {},
     "source": [
      "(a) Use a boolean mask to locate the positions where x=0."
     ]
    },
    {
     "cell_type": "code",
     "collapsed": false,
     "input": [
      "ii = (x == 0)"
     ],
     "language": "python",
     "metadata": {},
     "outputs": [],
     "prompt_number": 16
    },
    {
     "cell_type": "markdown",
     "metadata": {},
     "source": [
      "(b) Check that Vdipole for these locations is zero. i.e. print the value of Vdipole for these locations using your mask from part (a)."
     ]
    },
    {
     "cell_type": "code",
     "collapsed": false,
     "input": [
      "print Vdipole[ii]"
     ],
     "language": "python",
     "metadata": {},
     "outputs": [
      {
       "output_type": "stream",
       "stream": "stdout",
       "text": [
        "[ 0.  0.  0.  0.  0.  0.  0.  0.  0.  0.  0.  0.  0.  0.  0.  0.  0.  0.\n",
        "  0.  0.  0.]\n"
       ]
      }
     ],
     "prompt_number": 18
    },
    {
     "cell_type": "markdown",
     "metadata": {},
     "source": [
      "2) Thermistors are electrical devices that measure temperature. They are made out of a material whose resistance changes very predictably with temperature. In the lab we measure the resistance of the thermistor and then compute the temperature from the engineering data that the manufacturer sends with the devices. The table below is data for a set of thermistors used in PHYS 340. The temperature values are in \u2218C and the resistances in mega-Ohms, M\u03a9."
     ]
    },
    {
     "cell_type": "raw",
     "metadata": {},
     "source": [
      "Temp   Res   Temp   Res   Temp   Res   Temp   Res   Temp   Res\n",
      "--------------------------------------------------------------- \n",
      " 10   3.239   16   2.610   22   2.169   28   1.857   34   1.634\n",
      " 11   3.118   17   2.526   23   2.110   29   1.815   35   1.603\n",
      " 12   3.004   18   2.446   24   2.053   30   1.774   36   1.574\n",
      " 13   2.897   19   2.371   25   2.000   31   1.736   37   1.547\n",
      " 14   2.795   20   2.300   26   1.950   32   1.700   38   1.521\n",
      " 15   2.700   21   2.233   27   1.902   33   1.666   39   1.496"
     ]
    },
    {
     "cell_type": "markdown",
     "metadata": {},
     "source": [
      "(a) Let's turn this look-up table into a continuous function. Write a reusable function Temp(Resistance) that takes any value of Resistance and returns the interpolated temperature. Be sure to include a docstring in your function."
     ]
    },
    {
     "cell_type": "code",
     "collapsed": false,
     "input": [
      "def Temp(Resistance):\n",
      "    \"\"\" Interpolates and return temperature corresponding to resistance \"\"\"\n",
      "    temp = np.arange(39,9,-1)\n",
      "    res = np.array([1.496,1.521,1.547,1.574,1.603,1.634,1.666,1.700,1.736,1.774,1.815,1.857,1.902,\\\n",
      "           1.950,2.000,2.053,2.110,2.169,2.233,2.300,2.371,2.446,2.526,2.610,2.700,2.795,2.897,3.004,\\\n",
      "           3.118,3.239])\n",
      "    \n",
      "    interp = interp1d(res,temp)\n",
      "    return interp(Resistance)\n",
      "\n",
      "Temp(3)"
     ],
     "language": "python",
     "metadata": {},
     "outputs": [
      {
       "metadata": {},
       "output_type": "pyout",
       "prompt_number": 62,
       "text": [
        "array(12.037383177570094)"
       ]
      }
     ],
     "prompt_number": 62
    },
    {
     "cell_type": "markdown",
     "metadata": {},
     "source": [
      "(b) Show that the function returns expected values, including some from the table for a few specific input resistances."
     ]
    },
    {
     "cell_type": "code",
     "collapsed": false,
     "input": [
      "Temperature = 10\n",
      "for i in np.arange(1.5,3.2,0.1):\n",
      "    print \"Temp: %s\" %Temperature\n",
      "    Temperature = Temperature + 1\n",
      "    print \"Res: %s\" %Temp(i)"
     ],
     "language": "python",
     "metadata": {},
     "outputs": [
      {
       "output_type": "stream",
       "stream": "stdout",
       "text": [
        "Temp: 10\n",
        "Res: 38.84\n",
        "Temp: 11\n",
        "Res: 35.1034482759\n",
        "Temp: 12\n",
        "Res: 32.0\n",
        "Temp: 13\n",
        "Res: 29.3658536585\n",
        "Temp: 14\n",
        "Res: 27.0444444444\n",
        "Temp: 15\n",
        "Res: 25.0\n",
        "Temp: 16\n",
        "Res: 23.1754385965\n",
        "Temp: 17\n",
        "Res: 21.515625\n",
        "Temp: 18\n",
        "Res: 20.0\n",
        "Temp: 19\n",
        "Res: 18.6133333333\n",
        "Temp: 20\n",
        "Res: 17.325\n",
        "Temp: 21\n",
        "Res: 16.119047619\n",
        "Temp: 22\n",
        "Res: 15.0\n",
        "Temp: 23\n",
        "Res: 13.9509803922\n",
        "Temp: 24\n",
        "Res: 12.9719626168\n",
        "Temp: 25\n",
        "Res: 12.0373831776\n",
        "Temp: 26\n",
        "Res: 11.1578947368\n"
       ]
      }
     ],
     "prompt_number": 59
    },
    {
     "cell_type": "markdown",
     "metadata": {},
     "source": [
      "(c) Plot Temp(Resistance) vs. Resistance for a reasonable range of Resistance with reasonably fine sampling. Include as an annotation on the plot the value of the temperature for a resistance of 1.75 M\u03a9. (It's up to you to decide what \"reasonable\" means in both cases.)"
     ]
    },
    {
     "cell_type": "code",
     "collapsed": false,
     "input": [
      "temp = np.arange(39,9,-1)\n",
      "res = np.array([1.496,1.521,1.547,1.574,1.603,1.634,1.666,1.700,1.736,1.774,1.815,1.857,1.902,\\\n",
      "           1.950,2.000,2.053,2.110,2.169,2.233,2.300,2.371,2.446,2.526,2.610,2.700,2.795,2.897,3.004,\\\n",
      "           3.118,3.239])\n",
      "\n",
      "Interp = interp1d(res,temp)    \n",
      "newRes = 1.75\n",
      "newInterp = Interp(newRes)\n",
      "\n",
      "plt.plot(res, Interp(res), newRes, newInterp, 'r+', markersize=20, markeredgewidth=3)\n",
      "plt.show()"
     ],
     "language": "python",
     "metadata": {},
     "outputs": [
      {
       "metadata": {},
       "output_type": "display_data",
       "png": "[encoded data removed]",
       "text": [
        "<matplotlib.figure.Figure at 0x1074b16d0>"
       ]
      }
     ],
     "prompt_number": 67
    },
    {
     "cell_type": "code",
     "collapsed": false,
     "input": [],
     "language": "python",
     "metadata": {},
     "outputs": []
    }
   ],
   "metadata": {}
  }
 ]
}