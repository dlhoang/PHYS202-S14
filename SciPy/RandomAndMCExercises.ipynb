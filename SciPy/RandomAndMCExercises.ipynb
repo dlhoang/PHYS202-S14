{
 "metadata": {
  "name": "",
  "signature": "sha256:fc2c9fdab9af99aeb3570d807e3d41da5d6b772b9235137c6d97a5a2a7422826"
 },
 "nbformat": 3,
 "nbformat_minor": 0,
 "worksheets": [
  {
   "cells": [
    {
     "cell_type": "heading",
     "level": 1,
     "metadata": {},
     "source": [
      "Random Numbers, Monte Carlo Sampling and Simulation Exercises"
     ]
    },
    {
     "cell_type": "code",
     "collapsed": false,
     "input": [
      "%pylab inline\n",
      "import numpy as np\n",
      "import matplotlib.pyplot as plt\n",
      "from scipy import integrate\n",
      "from IPython.html.widgets import interact"
     ],
     "language": "python",
     "metadata": {},
     "outputs": [
      {
       "output_type": "stream",
       "stream": "stdout",
       "text": [
        "Populating the interactive namespace from numpy and matplotlib\n"
       ]
      }
     ],
     "prompt_number": 128
    },
    {
     "cell_type": "heading",
     "level": 2,
     "metadata": {},
     "source": [
      "Question 1"
     ]
    },
    {
     "cell_type": "markdown",
     "metadata": {},
     "source": [
      "(a) Solve for the CDF of the Weibull distribution analytically."
     ]
    },
    {
     "cell_type": "code",
     "collapsed": false,
     "input": [
      "x = np.arange(0.0,30.0,.01)\n",
      "\n",
      "# Weibull\n",
      "def Weibull(xlist,alpha=1.5,beta=6.0):\n",
      "    lst = []\n",
      "    for i in range(len(xlist)):\n",
      "        lst.append((alpha/(beta)**alpha)*(xlist[i]**(alpha - 1))*(1/np.exp(((xlist[i]/beta)**alpha))))\n",
      "    return lst\n",
      "\n",
      "# CDF\n",
      "def CDF(xlist, alpha=1.5, beta=6.0):\n",
      "    lst = []\n",
      "    for i in range(len(xlist)):\n",
      "        lst.append(1-np.exp(-(xlist[i]/beta)**alpha))\n",
      "    return lst\n",
      "\n",
      "# Plot Weibull and CDF\n",
      "plt.plot(x, Weibull(x) ,label=\"$Weibull$\")\n",
      "plt.plot(x, CDF(x), label=\"$CDF$\")\n",
      "plt.xlim(0,30)\n",
      "plt.xlabel(\"$x$\",fontsize = 20)\n",
      "plt.ylabel(\"$f(x) \\ and \\ F(x)$\",fontsize=20)\n",
      "plt.legend(loc=\"upper left\",fontsize=15)\n",
      "plt.show()"
     ],
     "language": "python",
     "metadata": {},
     "outputs": [],
     "prompt_number": 76
    },
    {
     "cell_type": "markdown",
     "metadata": {},
     "source": [
      "(b) Find the inverse of the CDF F$^{\u22121}$(x) analytically."
     ]
    },
    {
     "cell_type": "code",
     "collapsed": false,
     "input": [
      "N = 10000.0\n",
      "z = np.random.random_sample(N)\n",
      "alpha = 1.5\n",
      "beta = 6.0\n",
      "inv = lambda z : beta*(-np.log(1-z))**(1/alpha)\n",
      "samples = inv(z)\n",
      "\n",
      "plt.plot(x,Weibull(x),label=\"$Weibull$\")\n",
      "n,b,p = plt.hist(samples,bins=500,normed=True,label=\"Sampled distribution\")\n",
      "\n",
      "plt.xlabel(\"$x$\",fontsize=20)\n",
      "plt.ylabel(\"$f(x)\\ and \\ F(x)$\",fontsize=20)\n",
      "plt.legend(loc=\"upper right\",fontsize=10)\n",
      "plt.show()"
     ],
     "language": "python",
     "metadata": {},
     "outputs": [],
     "prompt_number": 78
    },
    {
     "cell_type": "markdown",
     "metadata": {},
     "source": [
      "(c) Write a program to generate 10,000 samples from the Weibull distribution and plot the true distribution, the CDF and the sampled distribution as a histogram, all on the same graph. Let \u03b1 = 1.5, \u03b2 = 6.\n",
      "Note: Do not use the built-in Weibull function from numpy.random."
     ]
    },
    {
     "cell_type": "code",
     "collapsed": false,
     "input": [
      "plt.plot(x,Weibull(x),label=\"$Weibull$\")\n",
      "plt.plot(x,CDF(x),label=\"$CDF$\")\n",
      "n,b,p = plt.hist(samples,500,normed=False,label=\"Sampled distribution\")\n",
      "\n",
      "n,b = np.histogram(samples,500)\n",
      "\n",
      "plt.xlim(0,20)\n",
      "plt.xlabel(\"$x$\",fontsize = 20)\n",
      "plt.ylabel(\"$f(x) \\ and \\ F(x)$\",fontsize=20)\n",
      "plt.legend(loc=\"upper left\",fontsize=10)\n",
      "plt.show()"
     ],
     "language": "python",
     "metadata": {},
     "outputs": [],
     "prompt_number": 85
    },
    {
     "cell_type": "code",
     "collapsed": false,
     "input": [
      "np.histogram?"
     ],
     "language": "python",
     "metadata": {},
     "outputs": []
    },
    {
     "cell_type": "markdown",
     "metadata": {},
     "source": [
      "(d) Run the four statistical tests of randomness (mean, variance, chi-square, K-S) on your results from question 1(c). Does it pass all of them?"
     ]
    },
    {
     "cell_type": "code",
     "collapsed": false,
     "input": [
      "# Mean test\n",
      "N = 10000.0\n",
      "m = (1.0/N)*sum(samples)\n",
      "print m\n",
      "    \n",
      "# Variance test\n",
      "sigma_2 = (1.0/(N-1.0))*sum((samples-m)**2)\n",
      "print sigma_2\n",
      "\n",
      "def Weibull(xlist,alpha=1.5,beta=6.0):\n",
      "    lst = []\n",
      "    for i in range(len(xlist)):\n",
      "        lst.append((alpha/(beta)**alpha)*(xlist[i]**(alpha - 1))*(1/np.exp(((xlist[i]/beta)**alpha))))\n",
      "    return lst\n",
      "\n",
      "chi_2 = []\n",
      "\n",
      "for j in range(0,1000):\n",
      "    N = 10000.0\n",
      "    z = np.random.random_sample(N)\n",
      "    alpha = 1.5\n",
      "    beta = 6.0\n",
      "    inv = lambda z : beta*(-np.log(1-z))**(1/alpha)\n",
      "    samples = inv(z)\n",
      "    \n",
      "    n,b = np.histogram(samples,500)\n",
      "\n",
      "    lst = Weibull(b)\n",
      "    \n",
      "    # Chi Square Bucket test\n",
      "    Oi = n\n",
      "    Ei = []\n",
      "    \n",
      "    for i in range(len(b)-1):\n",
      "        Ei.append((lst[i]*N)/20.)\n",
      "    \n",
      "    chi_2.append((((Oi-Ei)**2)/(Ei)).sum())"
     ],
     "language": "python",
     "metadata": {},
     "outputs": [
      {
       "output_type": "stream",
       "stream": "stdout",
       "text": [
        "5.4393851435\n",
        "13.6235202957\n"
       ]
      }
     ],
     "prompt_number": 123
    },
    {
     "cell_type": "code",
     "collapsed": false,
     "input": [
      "mean = (1./1000.)*sum(chi_2)\n",
      "\n",
      "print mean"
     ],
     "language": "python",
     "metadata": {},
     "outputs": [
      {
       "output_type": "stream",
       "stream": "stdout",
       "text": [
        "3578.3327317\n"
       ]
      }
     ],
     "prompt_number": 134
    },
    {
     "cell_type": "code",
     "collapsed": true,
     "input": [
      "# Kolmogorov-Smirnov test\n",
      "ii = [samples<x]\n",
      "Fn"
     ],
     "language": "python",
     "metadata": {},
     "outputs": []
    },
    {
     "cell_type": "heading",
     "level": 2,
     "metadata": {},
     "source": [
      "Question 2"
     ]
    },
    {
     "cell_type": "markdown",
     "metadata": {},
     "source": [
      "(a) Write a program that uses the Rejection Sampling Method to generate a set of 10,000 samples from this distribution and plot the density distribution, the CDF, and a histogram of the sampled distribution on the same graph.\n",
      "Note: Do not use the built-in Beta function from numpy.random."
     ]
    },
    {
     "cell_type": "code",
     "collapsed": false,
     "input": [
      "import numpy as np\n",
      "\n",
      "# create arrays\n",
      "x = np.arange(0.0,1.0,0.002)\n",
      "f = 60.0*(x**3)*(1-x)**2\n",
      "\n",
      "# array between 0 and 1\n",
      "CDF = np.cumsum(f)/f.sum()\n",
      "\n",
      "# random number r between 0 and 1\n",
      "r = np.random.uniform()\n",
      "print \"Random number = \",r\n",
      "\n",
      "# Find where in the CDF array this r falls and return the x value at that location in the x array\n",
      "xloc = x[CDF.searchsorted(r)]\n",
      "print \"x location = \",xloc\n",
      "\n",
      "# 10000 times\n",
      "N = 10000\n",
      "xsamples = np.zeros(N,float)\n",
      "for i in range(N):\n",
      "    rr = np.random.uniform()\n",
      "    xsamples[i] = x[CDF.searchsorted(rr)]\n",
      "\n",
      "#  a histogram of the xsamples and compare to the original function\n",
      "plt.plot(x,f,label='True distribution',lw=3,color='red')\n",
      "plt.plot(x,CDF,label=\"Cumulative distribution\",lw=3,color='green')\n",
      "plt.hist(xsamples,bins=100,normed=True,label=\"Sampled distribution\",alpha=0.5)\n",
      "\n",
      "# Plot the example point\n",
      "plt.plot(xloc,r,'g*',markersize=10)\n",
      "plt.plot((xloc,xloc),(0.,r),\"k--\",(0.,xloc),(r,r),\"k--\")\n",
      "plt.legend(loc='upper left')\n",
      "\n",
      "plt.show()"
     ],
     "language": "python",
     "metadata": {},
     "outputs": []
    },
    {
     "cell_type": "markdown",
     "metadata": {},
     "source": [
      "(b) Run the four statistical tests of randomness (mean, variance, chi-square, K-S) on your results from question 2(a). Does it pass all of them?"
     ]
    },
    {
     "cell_type": "heading",
     "level": 2,
     "metadata": {},
     "source": [
      "Question 3"
     ]
    },
    {
     "cell_type": "markdown",
     "metadata": {},
     "source": [
      "(a) Plot the Woods-Saxon distribution \u03c1(r) and r$^2$\u03c1(r) for gold from r = 0 fm to r = 18 fm."
     ]
    },
    {
     "cell_type": "code",
     "collapsed": false,
     "input": [
      "# Parameters for Au\n",
      "r = np.arange(0.,18.0,.01)\n",
      "w = 0\n",
      "R = 6.38\n",
      "a = 0.535\n",
      "\n",
      "# Equations\n",
      "rho = lambda r: (1+(w*r**2)/R**2)/(1+np.exp((r-R)/a))\n",
      "r2rho = lambda r: (r**2)*((((1+(w*r**2)))/R**2)/(1+np.exp((r-R)/a)))\n",
      "\n",
      "# Plot\n",
      "plt.plot(r,rho(r),label=r'$p(r)$')\n",
      "plt.plot(r,r2rho(r),label=r'$r^2 p(r)$')\n",
      "plt.ylabel(\"$p(r) \\ and \\ r^2p(r)$\",fontsize=20)\n",
      "plt.xlabel(r'$r$',fontsize=20)\n",
      "plt.legend(loc='best',fontsize=15)\n",
      "plt.show()"
     ],
     "language": "python",
     "metadata": {},
     "outputs": []
    },
    {
     "cell_type": "markdown",
     "metadata": {},
     "source": [
      "(b) Let\u2019s create a realistic distribution for two gold ions, A, and B.\n",
      "\n",
      "First, distribute 197 nucleons for each nucleus using the Woods-Saxon distribution multiplied by the spherical coordinate weighting factor, $r^2$. Use the distribute1d function from the tour to sample r values numerically.\n",
      "Then, use uniform sampling of a number u from [0,1) scaled by 2\u03c0 to obtain the azimuthal angle \u03d5 = 2\u03c0u\n",
      "\n",
      "Followed by uniform sampling of another number v = [0,1), transformed to \u03b8=cos\u22121(2v\u22121) to obtain the polar angle \u03b8.\n",
      "\n",
      "(Note that this is the physics definition of azimuthal and polar angles, not the math definition.)\n",
      "The reason for these transformations is that the volume element dV=$r^2$sin\u03b8drd\u03b8d\u03d5 has both radial and polar angle dependence. If you do not sample in this way, your results will be bunched up at the poles and toward the outer edges of the sphere."
     ]
    },
    {
     "cell_type": "code",
     "collapsed": false,
     "input": [
      "def distribute1D(x,prob,N):\n",
      "    \"\"\"takes any distribution which is directly proportional \n",
      "    to the number of particles, and returns data that is \n",
      "    statistically the same as the input data.\"\"\"\n",
      "    CDF = integrate.cumtrapz(prob)/np.sum(prob)\n",
      "    xsamples = np.zeros(N,float)\n",
      "    for i in range(0,N):\n",
      "        r = np.random.ranf()\n",
      "        xsamples[i] = x[CDF.searchsorted(r)]\n",
      "    return xsamples\n",
      "\n",
      "samples1 = distribute1D(r,r2rho(r),197)\n",
      "phi1 = []\n",
      "theta1 = []\n",
      "for i in np.linspace(0,1,197):\n",
      "    angle = 2*np.pi*i\n",
      "    phi1.append(angle)\n",
      "    thet = np.arccos(2*i-1)\n",
      "    theta1.append(thet)\n",
      "    \n",
      "samples2 = distribute1D(r,r2rho(r),197)\n",
      "phi2 = []\n",
      "theta2 = []\n",
      "for i in np.linspace(0,1,197):\n",
      "    angle = 2*np.pi*i\n",
      "    phi2.append(angle)\n",
      "    thet = np.arccos(2*i-1)\n",
      "    theta2.append(thet)"
     ],
     "language": "python",
     "metadata": {},
     "outputs": []
    },
    {
     "cell_type": "markdown",
     "metadata": {},
     "source": [
      "(c) Once you have the spherical coordinates for each of the nucleons in each nucleus, convert to cartesian coordinates. In nuclear collisions, the beam axis along which the particles travel/collide is the z axis. The polar angle \u03b8 is measured up from the positive-z axis and the azimuthal angle \u03d5 is measured up from the positive x-axis.\n",
      "Plot the nuclei in 2d for two different planar projections: the side view (y-z) and the beam's eye view (x-y) side-by-side.\n",
      "Let the nucleons have radius of 1 fm, make the nucleons from each nucleus a different color, and displace them by a randomly chosen impact parameter b between 0 and 18 fm. For example, shift ion A by b/2 to the left along the x-axis and B by b/2 to the right along the x-axis."
     ]
    },
    {
     "cell_type": "code",
     "collapsed": false,
     "input": [
      "b = 9.0\n",
      "x1 = samples1*np.sin(theta1)*np.cos(phi1) - (b/2)\n",
      "y1 = samples1*np.sin(theta1)*np.sin(phi1)\n",
      "z1 = samples1*np.cos(theta1)\n",
      "\n",
      "x2 = samples2*np.sin(theta2)*np.cos(phi2) + (b/2)\n",
      "y2 = samples2*np.sin(theta2)*np.sin(phi2)\n",
      "z2 = samples2*np.cos(theta2)\n",
      "\n",
      "plt.scatter(x1,z1,color='r',label='Nucleus 1')\n",
      "plt.scatter(x2,z2,color='b',s=10,label='Nucleus 2')\n",
      "plt.title('Side View',fontsize=20)\n",
      "plt.xlabel('$y$',fontsize=20)\n",
      "plt.ylabel('$z$',fontsize=20)\n",
      "plt.legend(loc='best',fontsize=15)\n",
      "plt.show()\n",
      "\n",
      "plt.scatter(x1,y1,color='r',label='Nucleus 1')\n",
      "plt.scatter(x2,y2,color='b',s=10,label='Nucleus 2')\n",
      "plt.title(\"Beam's Eye View\",fontsize=20)\n",
      "plt.xlabel('$x$',fontsize=20)\n",
      "plt.ylabel('$y$',fontsize=20)\n",
      "plt.legend(loc='best',fontsize=15)\n",
      "plt.xlim(-25,25)\n",
      "plt.ylim(-15,20)\n",
      "plt.show()"
     ],
     "language": "python",
     "metadata": {},
     "outputs": []
    },
    {
     "cell_type": "markdown",
     "metadata": {},
     "source": [
      "(d) Since we cannot measure the impact parameter directly for each collision, we need a method to estimate the geometric overlap so that we can categorize the collisions based on the number of nucleons participating in each collision and how many nucleon-nucleon collisions occurred. Nucleons that pass close enough to each other will experience an inelastic collision that will rip the quarks right out of the nucleon. The distance that dictates when an inelastic collision occurs is governed by the interaction cross-section, which has been measured very carefully at proton colliders. The inelastic cross-section at collision energy of 200 GeV is \u03c3inel = 42 mb (1 mb = 1 millibarn = 10\u221224 cm2 = 10\u221231 m2), defining an overlap area between two nucleons.\n",
      "Make an interact object for your two plots in part (c) that let's you vary the impact parameter from 0 to 18 fm. On the plots, change the color of the nucleons that \"participate\" in interactions to something else. (Let the participating nucleons in nucleus A be one color and those in nucleus B be another color.)\n",
      "To do this, you\u2019ll need to find all the nucleons from ion A that are within a distance, D, of a nucleon from ion B using D=1\u03c0\u03c3inel\u203e\u203e\u203e\u203e\u221a, where \u03c3inel is the cross sectional area measured in millibarns. Don\u2019t forget to convert the millibarns to fm2."
     ]
    },
    {
     "cell_type": "code",
     "collapsed": false,
     "input": [
      "def GoldCollider(b=9):\n",
      "\n",
      "    def distribute1D(x,prob,N):\n",
      "        \"\"\"takes any distribution which is directly proportional\n",
      "        to the number of particles, and returns data that is\n",
      "        statistically the same as the input data.\"\"\"\n",
      "        CDF = integrate.cumtrapz(prob)/np.sum(prob)\n",
      "        xsamples = np.zeros(N,float)\n",
      "        for i in range(0,N):\n",
      "            r = np.random.ranf()\n",
      "            xsamples[i] = x[CDF.searchsorted(r)]\n",
      "        return xsamples\n",
      "\n",
      "    samples1 = distribute1D(r,r2rho(r),197)\n",
      "    phi1 = []\n",
      "    theta1 = []\n",
      "    for i in np.linspace(0,1,197):\n",
      "        angle = 2*np.pi*i\n",
      "        phi1.append(angle)\n",
      "        thet = np.arccos(2*i-1)\n",
      "        theta1.append(thet)\n",
      "        \n",
      "    samples2 = distribute1D(r,r2rho(r),197)\n",
      "    phi2 = []\n",
      "    theta2 = []\n",
      "    for i in np.linspace(0,1,197):\n",
      "        angle = 2*np.pi*i\n",
      "        phi2.append(angle)\n",
      "        thet = np.arccos(2*i-1)\n",
      "        theta2.append(thet)\n",
      "    sigma = 0.42\n",
      "    D = (sigma**0.5)/np.pi\n",
      "\n",
      "    x1 = samples1*np.sin(theta1)*np.cos(phi1) - (b/2)\n",
      "    y1 = samples1*np.sin(theta1)*np.sin(phi1)\n",
      "    z1 = samples1*np.cos(theta1)\n",
      "\n",
      "    x2 = samples2*np.sin(theta2)*np.cos(phi2) + (b/2)\n",
      "    y2 = samples2*np.sin(theta2)*np.sin(phi2)\n",
      "    z2 = samples2*np.cos(theta2)\n",
      "\n",
      "    xmask1 = []\n",
      "    ymask1 = []\n",
      "    \n",
      "    for i in range(0,197):\n",
      "         for j in range(0,197):\n",
      "            if (((x1[i]-x2[j])**2-(y1[i]-y2[j])**2))**0.5 < D:\n",
      "                xmask1.append(x1[i])\n",
      "                ymask1.append(y1[i])\n",
      "\n",
      "    xmask2 = []\n",
      "    ymask2 = []\n",
      "    for i in range(197):\n",
      "        for j in xrange(197):\n",
      "            if (((x2[i]-x1[j])**2-(y2[i]-y1[j])**2))**0.5 < D:\n",
      "                xmask2.append(x2[i])\n",
      "                ymask2.append(y2[i])\n",
      "\n",
      "\n",
      "    plt.scatter(x1,z1,color='r',label='Nucleus 1')\n",
      "    plt.scatter(x2,z2,color='b',s=10,label='Nucleus 2')\n",
      "    plt.title('Side View',fontsize=20)\n",
      "    plt.xlabel('$y$',fontsize=20)\n",
      "    plt.ylabel('$z$',fontsize=20)\n",
      "    plt.legend(loc='best',fontsize=15)\n",
      "    plt.show()\n",
      "\n",
      "    plt.scatter(x1,y1,color='Black',s=15,label='Gold 1')\n",
      "    plt.scatter(x2,y2,color='Indigo',s=15,label='Gold 2')\n",
      "    plt.scatter(xmask1,ymask1,color='Red',s=20,label='Hit 1')\n",
      "    plt.scatter(xmask2,ymask2,color='DeepSkyBlue',s=20,label='Hit 2')\n",
      "    plt.title(\"Beam's Eye View\",fontsize=20)\n",
      "    plt.xlabel('$x$',fontsize=20)\n",
      "    plt.ylabel('$y$',fontsize=20)\n",
      "    # plt.xlim(-25,25)\n",
      "    # plt.ylim(-15,20)\n",
      "    plt.legend(loc='best',fontsize=15)\n",
      "    plt.show()\n",
      "\n",
      "v = interact(GoldCollider,b=(0.0,18.0))"
     ],
     "language": "python",
     "metadata": {},
     "outputs": []
    },
    {
     "cell_type": "code",
     "collapsed": false,
     "input": [],
     "language": "python",
     "metadata": {},
     "outputs": []
    },
    {
     "cell_type": "code",
     "collapsed": false,
     "input": [],
     "language": "python",
     "metadata": {},
     "outputs": []
    }
   ],
   "metadata": {}
  }
 ]
}