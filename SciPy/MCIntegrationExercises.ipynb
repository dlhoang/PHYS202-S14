{
 "metadata": {
  "name": "",
  "signature": "sha256:791379df68680cd6493bb287c80b10231dcea5eba0d728b4ba981fd3ceb2f9f2"
 },
 "nbformat": 3,
 "nbformat_minor": 0,
 "worksheets": [
  {
   "cells": [
    {
     "cell_type": "heading",
     "level": 1,
     "metadata": {},
     "source": [
      "Monte Carlo Integration Exercises"
     ]
    },
    {
     "cell_type": "code",
     "collapsed": false,
     "input": [
      "%pylab inline"
     ],
     "language": "python",
     "metadata": {},
     "outputs": [
      {
       "output_type": "stream",
       "stream": "stdout",
       "text": [
        "Populating the interactive namespace from numpy and matplotlib\n"
       ]
      }
     ],
     "prompt_number": 2
    },
    {
     "cell_type": "heading",
     "level": 3,
     "metadata": {},
     "source": [
      "Question 1"
     ]
    },
    {
     "cell_type": "code",
     "collapsed": false,
     "input": [
      "from Electrostatics import *\n",
      "from IPython.html.widgets import interact, interactive\n",
      "import numpy as np\n",
      "import matplotlib.pyplot as plt\n",
      "from matplotlib import cm\n",
      "from mpl_toolkits.mplot3d.axes3d import Axes3D"
     ],
     "language": "python",
     "metadata": {},
     "outputs": [],
     "prompt_number": 3
    },
    {
     "cell_type": "code",
     "collapsed": false,
     "input": [
      "!cat Electrostatics.py"
     ],
     "language": "python",
     "metadata": {},
     "outputs": [
      {
       "output_type": "stream",
       "stream": "stderr",
       "text": [
        "'cat' is not recognized as an internal or external command,\n",
        "operable program or batch file.\n"
       ]
      }
     ],
     "prompt_number": 4
    },
    {
     "cell_type": "markdown",
     "metadata": {},
     "source": [
      "(a) Use the sample mean method to compute the potential at point P(2,3) due to the disk of charge for different numbers of samples N=($10^1$,$10^2$,$10^3$,$10^4$,$10^5$,$10^6$). Report the value and its statistical uncertainty for each sample size. How does the result depend on N?"
     ]
    },
    {
     "cell_type": "code",
     "collapsed": false,
     "input": [
      "import numpy as np\n",
      "import matplotlib.pyplot as plt\n",
      "from mpl_toolkits.mplot3d.axes3d import Axes3D\n",
      "from matplotlib import cm\n",
      " \n",
      "def sampleMean(xmin=-1.0,xmax=1.0,ymin=0.0,ymax=2.0):\n",
      "\n",
      "    i = [1e1,1e2,1e3,1e4,1e5,1e6]\n",
      "    \n",
      "    for N in i:\n",
      "        #Set up the function\n",
      "        sigma = 1e-6 # C/m^2\n",
      "        q = sigma\n",
      "        k = 8.987551787997912e9 #(Nm^2/C^2)\n",
      "\n",
      "        f = lambda x,y : k*q/np.sqrt(((x-2.0)**2 +(y-3.0)**2))\n",
      "    \n",
      "        #Here's the integration part:\n",
      "        samples_x = xmin + (xmax-xmin)*np.random.random_sample(N);\n",
      "        samples_y = ymin + (ymax-ymin)*np.random.random_sample(N);\n",
      "        approx = f(samples_x,samples_y)\n",
      "    \n",
      "        I = approx.mean()*(xmax-xmin)*(ymax-ymin)\n",
      "        unc = (xmax-xmin) * (ymax-ymin) * np.sqrt(((approx**2).mean() - (approx.mean())**2)/N)\n",
      "    \n",
      "        print \"Integral = %.5f, +/- %.6f, N = %d\"%(I,unc,N)\n",
      "        \n",
      "sampleMean()"
     ],
     "language": "python",
     "metadata": {},
     "outputs": [
      {
       "output_type": "stream",
       "stream": "stdout",
       "text": [
        "Integral = 12664.74195, +/- 619.786846, N = 10\n",
        "Integral = 13035.35137, +/- 295.097215, N = 100\n",
        "Integral = 12985.09643, +/- 92.786462, N = 1000\n",
        "Integral = 13010.42345, +/- 29.943838, N = 10000\n",
        "Integral = 13035.33014, +/- 9.418880, N = 100000\n",
        "Integral = 13024.50371, +/- 2.972132, N = 1000000"
       ]
      },
      {
       "output_type": "stream",
       "stream": "stdout",
       "text": [
        "\n"
       ]
      }
     ],
     "prompt_number": 15
    },
    {
     "cell_type": "markdown",
     "metadata": {},
     "source": [
      "Increasing N by a factor of $10^5$ decreases the uncertainty by a factor of $10^2$."
     ]
    },
    {
     "cell_type": "markdown",
     "metadata": {},
     "source": [
      "(b) Now use the same method to compute the electric potential, V, at point P(2,3), from a disk centered on the origin with radius, R=1.2 m, and charge density, \u03c3 = 2 nC/m2 ."
     ]
    },
    {
     "cell_type": "code",
     "collapsed": false,
     "input": [
      "import numpy as np\n",
      "\n",
      "k = 8.987551787997912e9 #(Nm^2/C^2)\n",
      "sigma = 2e-6 # C/m^2\n",
      "rb = 1.2\n",
      "thetab = 2*np.pi\n",
      "f =  lambda r,theta: k*sigma*r/(abs(r-rb))\n",
      " \n",
      "i = [1e1,1e2,1e3,1e4,1e5,1e6]\n",
      "for N in i:\n",
      "    r = abs((rb * np.random.random_sample(N)) - (13)**0.5)\n",
      "    theta = thetab * np.random.random_sample(N)\n",
      "    \n",
      "    approx = f(r,theta)\n",
      " \n",
      "    I = rb * thetab * approx.mean()\n",
      "    unc = rb * thetab * np.sqrt(((approx**2).mean() - (approx.mean())**2)/N)\n",
      "    \n",
      "    print \"Integral = %.5f, +/- %.6f, N = %d\"%(I,unc,N)"
     ],
     "language": "python",
     "metadata": {},
     "outputs": [
      {
       "output_type": "stream",
       "stream": "stdout",
       "text": [
        "Integral = 229004.93778, +/- 6181.521592, N = 10\n",
        "Integral = 225011.83230, +/- 1736.515779, N = 100\n",
        "Integral = 227949.17841, +/- 578.840597, N = 1000\n",
        "Integral = 229254.69486, +/- 188.723618, N = 10000\n",
        "Integral = 229140.23680, +/- 59.441504, N = 100000\n",
        "Integral = 229137.76299, +/- 18.812452, N = 1000000"
       ]
      },
      {
       "output_type": "stream",
       "stream": "stdout",
       "text": [
        "\n"
       ]
      }
     ],
     "prompt_number": 17
    },
    {
     "cell_type": "markdown",
     "metadata": {},
     "source": [
      "Increasing N by a factor of $10^5$ decreases the uncertainty by a factor of $10^2$."
     ]
    },
    {
     "cell_type": "heading",
     "level": 3,
     "metadata": {},
     "source": [
      "Question 2"
     ]
    },
    {
     "cell_type": "markdown",
     "metadata": {},
     "source": [
      "Use the sample mean method to compute the volume of a sphere with radius 1 using spherical coordinates:\n",
      "\n",
      "V=\u222b10\u222b\u03c00\u222b2\u03c00r2sin(\u03b8)drd\u03b8d\u03d5\n",
      "\n",
      "for N=($10^1$,$10^2$,$10^3$,$10^4$,$10^5$,$10^6$). Report the value and statistical uncertainty for each sample size. How does the result depend on N?"
     ]
    },
    {
     "cell_type": "code",
     "collapsed": false,
     "input": [
      "import numpy as np\n",
      "\n",
      "f =  lambda r,theta,phi: r**2 * np.sin(theta)\n",
      "rb = 1.0\n",
      "thetab = np.pi\n",
      "phib = 2*np.pi\n",
      " \n",
      "i = (10,100,1000,10000,100000,1000000)\n",
      "for N in i:\n",
      "    r = rb * np.random.random_sample(N)\n",
      "    theta = thetab * np.random.random_sample(N)\n",
      "    phi = phib * np.random.random_sample(N)\n",
      " \n",
      "    I = rb * thetab * phib * f(r,theta,phi).mean()\n",
      "    unc = rb * thetab * phib * np.sqrt(((f(r, theta, phi)**2).mean() - (f(r, theta, phi).mean())**2)/N)\n",
      "    \n",
      "    print \"Integral = %.5f, +/- %.6f, N = %d\"%(I,unc,N)"
     ],
     "language": "python",
     "metadata": {},
     "outputs": [
      {
       "output_type": "stream",
       "stream": "stdout",
       "text": [
        "Integral = 6.64696, +/- 1.768718, N = 10\n",
        "Integral = 3.97588, +/- 0.431669, N = 100\n",
        "Integral = 4.33687, +/- 0.149349, N = 1000\n",
        "Integral = 4.05818, +/- 0.045034, N = 10000\n",
        "Integral = 4.18175, +/- 0.014651, N = 100000\n",
        "Integral = 4.19435, +/- 0.004630, N = 1000000"
       ]
      },
      {
       "output_type": "stream",
       "stream": "stdout",
       "text": [
        "\n"
       ]
      }
     ],
     "prompt_number": 7
    },
    {
     "cell_type": "markdown",
     "metadata": {},
     "source": [
      "Increasing N by a factor of $10^5$ decreases the uncertainty by a factor of $10^2$."
     ]
    },
    {
     "cell_type": "heading",
     "level": 3,
     "metadata": {},
     "source": [
      "Question 3"
     ]
    },
    {
     "cell_type": "markdown",
     "metadata": {},
     "source": [
      "(a) Use the hit or miss Monte Carlo method to estimate the integral of\n",
      "\n",
      "f(x)=4sqrt(1-$x^2$)\n",
      "\n",
      "in the interval 0\u2264x\u22641 as a function of N, the number of samples. Let N range from $10^1$ to $10^6$ and use at least 100 different values for N (np.logspace might be useful here to get evenly spaced values for N.)"
     ]
    },
    {
     "cell_type": "code",
     "collapsed": false,
     "input": [
      "def HitOrMiss():\n",
      "\n",
      "    i = np.logspace(1.0,6.0,100)\n",
      "    integral = []\n",
      "    errors = []\n",
      "    xmin = 0.0\n",
      "    xmax = 1.0\n",
      " \n",
      "    for N in i:\n",
      "        f = lambda x: 4 * (1-x**2)**0.5\n",
      "        x = np.arange(0.0,1.0,1.0/N)\n",
      "        # find the maximum value of f within the boundary to set ymax\n",
      "        subx = x[logical_and((x > xmin),(x < xmax))]\n",
      "        ymax = f(subx).max()*1.05\n",
      "        ymin = 0.\n",
      "        I = f(x).mean()\n",
      "        unc = np.sqrt(((f(x)**2).mean() - (f(x).mean())**2)/N)\n",
      "        error = abs(I - np.pi)\n",
      "        # print \"Integral=%.5f, +/- %.6f, N = %d\"%(I,unc,N)\n",
      "        samples_x = xmin + (xmax-xmin)*np.random.random_sample(N);\n",
      "        samples_y = ymin + (ymax-ymin)*np.random.random_sample(N);\n",
      "        newmask = (samples_y < f(samples_x))\n",
      "        integral.append(I)\n",
      "        errors.append(error)\n",
      "         \n",
      "    # Plot\n",
      "    plt.semilogx(i,integral)\n",
      "    plt.ylabel(r'$integral$',fontsize=20)\n",
      "    plt.xlabel(r'$N$', fontsize = 20)\n",
      "    plt.ylim(3.0,3.45)\n",
      "    plt.show()\n",
      "    \n",
      "HitOrMiss()"
     ],
     "language": "python",
     "metadata": {},
     "outputs": [
      {
       "metadata": {},
       "output_type": "display_data",
       "png": "[encoded data removed]",
       "text": [
        "<matplotlib.figure.Figure at 0xa3057f0>"
       ]
      }
     ],
     "prompt_number": 8
    },
    {
     "cell_type": "markdown",
     "metadata": {},
     "source": [
      "(b) Calculate the percent error for the N values from part (a) using the exact result \u03c0. Make a log-log plot of the error as a function of N.\n",
      "What is the approximate functional dependence of the error on N for large N, for example N\u2265$10^4$?"
     ]
    },
    {
     "cell_type": "code",
     "collapsed": false,
     "input": [
      "def HitOrMiss():\n",
      "\n",
      "    i = np.logspace(1.0,6.0,100)\n",
      "    integral = []\n",
      "    errors = []\n",
      "    xmin = 0.0\n",
      "    xmax = 1.0\n",
      " \n",
      "    for N in i:\n",
      "        f = lambda x: 4 * (1-x**2)**0.5\n",
      "        x = np.arange(0.0,1.0,1.0/N)\n",
      "        \n",
      "        # Find maximum value of f within boundary to set ymax\n",
      "        subx = x[logical_and((x > xmin),(x < xmax))]\n",
      "        ymax = f(subx).max()*1.05\n",
      "        ymin = 0.\n",
      "        \n",
      "        # Integrate, uncertainty, and errors\n",
      "        I = f(x).mean()\n",
      "        unc = np.sqrt(((f(x)**2).mean() - (f(x).mean())**2)/N)\n",
      "        error = abs((I - np.pi)/np.pi) * 100\n",
      "        integral.append(I)\n",
      "        errors.append(error)\n",
      "         \n",
      "    # Plot\n",
      "    plt.loglog(i,errors)\n",
      "    plt.ylabel(r'$error$',fontsize=20)\n",
      "    plt.xlabel(r'$N$', fontsize = 20)\n",
      "    plt.show()\n",
      "    \n",
      "HitOrMiss()"
     ],
     "language": "python",
     "metadata": {},
     "outputs": [
      {
       "metadata": {},
       "output_type": "display_data",
       "png": "[encoded data removed]",
       "text": [
        "<matplotlib.figure.Figure at 0xa43c390>"
       ]
      }
     ],
     "prompt_number": 9
    },
    {
     "cell_type": "markdown",
     "metadata": {},
     "source": [
      "(c) Estimate the same integral using the sample mean method and compute the statistical uncertainty and error as a function of the number of samples N for N\u2265$10^4$. Use at least 100 different values for N.\n",
      "Make a log-log plot of both the statistical uncertainty and the error as a function of N.\n",
      "How many samples are needed to determine the result to two decimal places? What is the approximate functional dependence of the error on N for large N?"
     ]
    },
    {
     "cell_type": "code",
     "collapsed": false,
     "input": [
      "import numpy as np\n",
      " \n",
      "def sampleMean(xmin=0.0,xmax=1.0):\n",
      "\n",
      "    i = np.logspace(4.0,6.0,100)\n",
      "    integral = []\n",
      "    errors = []\n",
      "    unc = []\n",
      "    \n",
      "    for N in i:\n",
      "        # Function\n",
      "        f = lambda x: 4 * (1-x**2)**0.5\n",
      "        x = np.arange(0.0,1.0,1.0/N)\n",
      "        \n",
      "        # Exact value\n",
      "        Iexact = np.pi\n",
      "        \n",
      "        # Integrate\n",
      "        samples_x = xmin + (xmax-xmin)*np.random.random_sample(N);\n",
      "        approx = f(samples_x)\n",
      "        I = approx.mean()*(xmax-xmin)\n",
      "        integral.append(I)\n",
      "\n",
      "        # Uncertainty\n",
      "        Iunc = (xmax-xmin)*np.sqrt( ((approx**2).mean()-(approx.mean())**2)/N )\n",
      "        unc.append(Iunc)\n",
      "\n",
      "        # Compare with exact result\n",
      "        Ierr = 100*np.abs(Iexact-I)/Iexact\n",
      "        errors.append(Ierr)\n",
      "        \n",
      "    # Plot\n",
      "    plt.loglog(i,errors)\n",
      "    plt.ylabel(r'$error$',fontsize=20)\n",
      "    plt.xlabel(r'$N$', fontsize = 20)\n",
      "    plt.show()\n",
      "    \n",
      "    plt.loglog(i,unc)\n",
      "    plt.ylabel(r'$uncertainty$',fontsize=20)\n",
      "    plt.xlabel(r'$N$', fontsize = 20)\n",
      "    plt.show()\n",
      "    \n",
      "sampleMean(xmin=0.0,xmax=1.0)"
     ],
     "language": "python",
     "metadata": {},
     "outputs": [
      {
       "metadata": {},
       "output_type": "display_data",
       "png": "[encoded data removed]",
       "text": [
        "<matplotlib.figure.Figure at 0xa428fd0>"
       ]
      },
      {
       "metadata": {},
       "output_type": "display_data",
       "png": "[encoded data removed]",
       "text": [
        "<matplotlib.figure.Figure at 0xaafb6a0>"
       ]
      }
     ],
     "prompt_number": 10
    },
    {
     "cell_type": "markdown",
     "metadata": {},
     "source": [
      "You would need about 1000 sample points in order to guarantee to be within two decimal places of the actual answer. N increases by 100 and error decreases by a factor of 10. Thus the dependence is error proportional to square root of N."
     ]
    }
   ],
   "metadata": {}
  }
 ]
}