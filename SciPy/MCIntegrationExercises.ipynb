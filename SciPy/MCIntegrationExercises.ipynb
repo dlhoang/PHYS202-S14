{
 "metadata": {
  "name": "",
  "signature": "sha256:f3d27425efa774b7f4a64e89096f05e253f95c001ff4a91bbeec53da5a89c286"
 },
 "nbformat": 3,
 "nbformat_minor": 0,
 "worksheets": [
  {
   "cells": [
    {
     "cell_type": "heading",
     "level": 1,
     "metadata": {},
     "source": [
      "Monte Carlo Integration Exercises"
     ]
    },
    {
     "cell_type": "code",
     "collapsed": false,
     "input": [
      "%pylab inline"
     ],
     "language": "python",
     "metadata": {},
     "outputs": [
      {
       "output_type": "stream",
       "stream": "stdout",
       "text": [
        "Populating the interactive namespace from numpy and matplotlib\n"
       ]
      }
     ],
     "prompt_number": 1
    },
    {
     "cell_type": "heading",
     "level": 3,
     "metadata": {},
     "source": [
      "Question 1"
     ]
    },
    {
     "cell_type": "code",
     "collapsed": false,
     "input": [
      "from Electrostatics import *\n",
      "from IPython.html.widgets import interact, interactive\n",
      "import numpy as np\n",
      "import matplotlib.pyplot as plt\n",
      "from matplotlib import cm\n",
      "from mpl_toolkits.mplot3d.axes3d import Axes3D"
     ],
     "language": "python",
     "metadata": {},
     "outputs": [],
     "prompt_number": 20
    },
    {
     "cell_type": "code",
     "collapsed": false,
     "input": [
      "!cat Electrostatics.py"
     ],
     "language": "python",
     "metadata": {},
     "outputs": [
      {
       "output_type": "stream",
       "stream": "stdout",
       "text": [
        "\r\n",
        "import numpy as np\r\n",
        "\r\n",
        "def pointPotential(x,y,q,Xc,Yc):\r\n",
        "    \"\"\" return electric potential for point charge q at (Xc,Yc)\"\"\"\r\n",
        "    \r\n",
        "    k = 8.987551787997912e9 #(Nm^2/C^2)\r\n",
        "    \r\n",
        "    Vxy = k*q/np.sqrt(((x-Xc)**2 + (y-Yc)**2))\r\n",
        "    return Vxy\r\n",
        "\r\n",
        "def dipolePotential(x,y,q,d):\r\n",
        "    \"\"\" return electric potential for a pair of point charges +/- q separated by distance d along x axis\r\n",
        "    with their midpoint as (0,0)\"\"\"\r\n",
        "    \r\n",
        "    Vxy = pointPotential(x,y,q,-d/2.,0.) + pointPotential(x,y,-q,+d/2.,0.)\r\n",
        "    return Vxy"
       ]
      }
     ],
     "prompt_number": 1
    },
    {
     "cell_type": "markdown",
     "metadata": {},
     "source": [
      "(a) Use the sample mean method to compute the potential at point P(2,3) due to the disk of charge for different numbers of samples N=(101,102,103,104,105,106). Report the value and its statistical uncertainty for each sample size. How does the result depend on N?"
     ]
    },
    {
     "cell_type": "code",
     "collapsed": false,
     "input": [],
     "language": "python",
     "metadata": {},
     "outputs": [],
     "prompt_number": 6
    },
    {
     "cell_type": "code",
     "collapsed": false,
     "input": [
      "def sampleMean(N=10000,xmin=1.7,xmax=12.4,ymin=1.,ymax=12.4):\n",
      "\n",
      "    k = 8.987551787997912e9 #(Nm^2/C^2)\n",
      "    sigma = 1e-6\n",
      "    \n",
      "    #Set up the function\n",
      "    f = lambda x,y: k*q/np.sqrt(((x-2)**2 + (y-3)**2))\n",
      "    x = np.arange(0.,15.,0.001)\n",
      "    y = np.arange(0.,15.,0.001)\n",
      "\n",
      "    from scipy.integrate import dblquad\n",
      "\n",
      "    # IMPORTANT! y must come first in the integrand (see the help)\n",
      "    integrand = lambda y,x: sigma\n",
      "\n",
      "    xlower = 1.7\n",
      "    xupper = 12.4\n",
      "\n",
      "    # The callable functions for the y limits are just constants in this case:\n",
      "    ylower = lambda x : 1.7\n",
      "    yupper = lambda x : 12.4\n",
      "\n",
      "    # See the help for correct order of arguments\n",
      "    q, err = dblquad(integrand, xlower, xupper, ylower, yupper)\n",
      "    print \"The double integral is = \",q\n",
      "    \n",
      "    ##########################################################\n",
      "    #Here's the integration part:\n",
      "    samples_x = xmin + (xmax-xmin)*np.random.random_sample(N);\n",
      "    samples_y = ymin + (ymax-ymin)*np.random.random_sample(N);\n",
      "    \n",
      "    approx = f(samples_x,samples_y)\n",
      "    I = approx.mean()*(xmax-xmin)\n",
      "\n",
      "    #Numerical uncertainty\n",
      "    Iunc = (xmax-xmin)*np.sqrt( ((approx**2).mean()-(approx.mean())**2)/N )\n",
      "\n",
      "    #find the maximum value of f within the boundary to set ymax\n",
      "    ymax = approx.max()\n",
      "    ymin = 0.\n",
      "    \n",
      "    #Print our results\n",
      "    print \"I_samplemean =\", I, \" +/- \",Iunc\n",
      "\n",
      "    x, y = np.meshgrid(x, y)\n",
      "    # q = -(X**2+Y**2)\n",
      "    Z = q\n",
      "    \n",
      "    #Plot our function\n",
      "    levels = np.array([8.,4.,2.,0,-2.,-4.,-8.])\n",
      "    plt.contour(x,y,z,levels,linewidth=4,cmap=cm.coolwarm);\n",
      "    \n",
      "    plt.show()\n",
      "    \n",
      "v2 = interact(sampleMean,N=(1000,100000,100),xmin=(0.,15.,0.001),xmax=(0.,15.,0.001))"
     ],
     "language": "python",
     "metadata": {},
     "outputs": [
      {
       "output_type": "stream",
       "stream": "stdout",
       "text": [
        "\r"
       ]
      },
      {
       "output_type": "stream",
       "stream": "stderr",
       "text": [
        "\r"
       ]
      }
     ]
    },
    {
     "cell_type": "code",
     "collapsed": false,
     "input": [],
     "language": "python",
     "metadata": {},
     "outputs": []
    }
   ],
   "metadata": {}
  }
 ]
}