{
 "metadata": {
  "name": "",
  "signature": "sha256:b9e4f9b1cec76245d3ef962490cacd612f6d745f216ee5cc6450a0b44e28188a"
 },
 "nbformat": 3,
 "nbformat_minor": 0,
 "worksheets": [
  {
   "cells": [
    {
     "cell_type": "heading",
     "level": 1,
     "metadata": {},
     "source": [
      "Integration Exercises"
     ]
    },
    {
     "cell_type": "code",
     "collapsed": false,
     "input": [
      "%pylab inline\n",
      "import numpy as np\n",
      "import matplotlib.pyplot as plt\n",
      "import scipy.integrate as integrate"
     ],
     "language": "python",
     "metadata": {},
     "outputs": [
      {
       "output_type": "stream",
       "stream": "stdout",
       "text": [
        "Populating the interactive namespace from numpy and matplotlib\n"
       ]
      }
     ],
     "prompt_number": 2
    },
    {
     "cell_type": "heading",
     "level": 3,
     "metadata": {},
     "source": [
      "Question 1"
     ]
    },
    {
     "cell_type": "markdown",
     "metadata": {},
     "source": [
      "(a) Write two functions trapz(func,x) and simps(func,x) to compute the integral of the function func over the variable x using the trapezoidal rule and Simpson's rule to a file called Integrators.py. Do not use the scipy.integrate built-in functions. Include docstrings with each function that describe what they do. Then import the module and use the functions to answer the following questions."
     ]
    },
    {
     "cell_type": "code",
     "collapsed": false,
     "input": [
      "%%file Integrators.py\n",
      "import numpy as np\n",
      "\n",
      "def trapz(func,x,N):\n",
      "    a = 0.0\n",
      "    b = 2.0\n",
      "    h = (b-a)/N\n",
      "    k = np.arange(1,N)\n",
      "    I = h*(0.5*func(a) + 0.5*func(b) + func(a+k*h).sum())\n",
      "    # print \"Trapezoidal Rule Integral =\",I\n",
      "    return I\n",
      "\n",
      "def simps(func,x,N):\n",
      "    a = 0.0\n",
      "    b = 2.0\n",
      "    h = (b-a)/N\n",
      "    k1 = np.arange(1,N/2+1)\n",
      "    k2 = np.arange(1,N/2)\n",
      "    I = (1./3.)*h*(func(a) + func(b) + 4.*func(a+(2*k1-1)*h).sum() + 2.*func(a+2*k2*h).sum())\n",
      "    # print \"Simpsons Rule Integral =\",I\n",
      "    return I"
     ],
     "language": "python",
     "metadata": {},
     "outputs": [
      {
       "output_type": "stream",
       "stream": "stdout",
       "text": [
        "Overwriting Integrators.py\n"
       ]
      }
     ],
     "prompt_number": 11
    },
    {
     "cell_type": "markdown",
     "metadata": {},
     "source": [
      "(b) Use your trapz and simps functions from part (a) to calculate the integral of x4\u22122x+1 from x = 0 to x = 2 with N = 10, N = 100, and N = 1000. Then compare your result to the known correct value of 4.4. What is the percent error in each case?"
     ]
    },
    {
     "cell_type": "code",
     "collapsed": false,
     "input": [
      "import Integrators\n",
      "\n",
      "# x = linspace(0,2)\n",
      "func = lambda x : x**4 - 2*x + 1\n",
      "# func = x**4 - 2*x + 1\n",
      "\n",
      "print \"Trazoidal Rule: %f\" %trapz(func, x, 10.)\n",
      "print \"Error: %f\" %(trapz(func,x,10.) - 4.4)\n",
      "\n",
      "print \"Trazoidal Rule: %f\" %trapz(func, x, 100.)\n",
      "print \"Error: %f\" %(trapz(func,x,100.) - 4.4)\n",
      "\n",
      "print \"Trazoidal Rule: %f\" %trapz(func, x, 1000.)\n",
      "print \"Error: %f\" %(trapz(func,x,1000.) - 4.4)\n",
      "\n",
      "print \"Simpson's Rule: %f\" %simps(func,x,10.)\n",
      "print \"Error: %f\" %(simps(func,x,10.) - 4.4)\n",
      "\n",
      "print \"Simpson's Rule: %f\" %simps(func,x,100.)\n",
      "print \"Error: %f\" %(simps(func,x,100.) - 4.4)\n",
      "\n",
      "print \"Simpson's Rule: %f\" %simps(func,x,1000.)\n",
      "print \"Error: %f\" %(simps(func,x,1000.) - 4.4)"
     ],
     "language": "python",
     "metadata": {},
     "outputs": [
      {
       "output_type": "stream",
       "stream": "stdout",
       "text": [
        "Trazoidal Rule: 4.506560\n",
        "Error: 0.106560\n",
        "Trazoidal Rule: 4.401067\n",
        "Error: 0.001067\n",
        "Trazoidal Rule: 4.400011\n",
        "Error: 0.000011\n",
        "Simpson's Rule: 4.400427\n",
        "Error: 0.000427\n",
        "Simpson's Rule: 4.400000\n",
        "Error: 0.000000\n",
        "Simpson's Rule: 4.400000\n",
        "Error: 0.000000\n"
       ]
      }
     ],
     "prompt_number": 17
    },
    {
     "cell_type": "heading",
     "level": 3,
     "metadata": {},
     "source": [
      "Question 2"
     ]
    },
    {
     "cell_type": "markdown",
     "metadata": {},
     "source": [
      "(a) Use scipy.integrate.cumtrapz to calculate E(x) for values of x from 0 to 3 in steps of 0.1. Print the result."
     ]
    },
    {
     "cell_type": "code",
     "collapsed": false,
     "input": [
      "import scipy.integrate as integrate"
     ],
     "language": "python",
     "metadata": {},
     "outputs": [],
     "prompt_number": 18
    },
    {
     "cell_type": "code",
     "collapsed": false,
     "input": [
      "t = linspace(0,3,31)\n",
      "func = np.exp(-t**2)\n",
      "\n",
      "result = integrate.cumtrapz(func,t,initial=0)\n",
      "print result"
     ],
     "language": "python",
     "metadata": {},
     "outputs": [
      {
       "output_type": "stream",
       "stream": "stdout",
       "text": [
        "[ 0.          0.09950249  0.19704446  0.29078049  0.37908424  0.46063146\n",
        "  0.53445532  0.59997046  0.6569664   0.70557392  0.7462108   0.77951463\n",
        "  0.80627088  0.82734325  0.84361215  0.85592503  0.86506023  0.87170427\n",
        "  0.87644128  0.87975207  0.88202044  0.88354398  0.88454709  0.88519453\n",
        "  0.88560418  0.88585826  0.88601274  0.88610482  0.88615862  0.88618943\n",
        "  0.88620673]\n"
       ]
      }
     ],
     "prompt_number": 19
    },
    {
     "cell_type": "markdown",
     "metadata": {},
     "source": [
      "(b) Plot the integrand as a function of t and E(x) as a function of x (both ranging from 0 to 3) on the same graph."
     ]
    },
    {
     "cell_type": "code",
     "collapsed": false,
     "input": [
      "plt.plot(t,func,linewidth=2,label=\"func\")\n",
      "plt.plot(t,result,linewidth=2,label=\"error\")\n",
      "\n",
      "plt.ylim(0,3)\n",
      "plt.legend(loc=\"upper right\")"
     ],
     "language": "python",
     "metadata": {},
     "outputs": [
      {
       "metadata": {},
       "output_type": "pyout",
       "prompt_number": 20,
       "text": [
        "<matplotlib.legend.Legend at 0xa551978>"
       ]
      },
      {
       "metadata": {},
       "output_type": "display_data",
       "png": "[encoded data removed]",
       "text": [
        "<matplotlib.figure.Figure at 0xa4e5160>"
       ]
      }
     ],
     "prompt_number": 20
    },
    {
     "cell_type": "heading",
     "level": 3,
     "metadata": {},
     "source": [
      "Question 3"
     ]
    },
    {
     "cell_type": "markdown",
     "metadata": {},
     "source": [
      "(a) What is the probability of finding the particle between L/3 and L/2 for the ground state (n = 1) and for the first excited state (n = 2)? Let L = 1. Perform the integral using both scipy.integrate.trapz and scipy.integrate.quad with an accuracy of 6 sig figs. How many slices did you need to use for scipy.integrate.trapz?"
     ]
    },
    {
     "cell_type": "code",
     "collapsed": false,
     "input": [
      "x = linspace(1.0/3.0,1.0/2.0,100)\n",
      "P1 = (sqrt(2.0/1.0)*np.sin(1.0*np.pi*x/1.0))**2\n",
      "P2 = (sqrt(2.0/1.0)*np.sin(2.0*np.pi*x/1.0))**2\n",
      "\n",
      "P1_squared = lambda x : (sqrt(2.0/1.0)*np.sin(1.0*np.pi*x/1.0))**2\n",
      "P2_squared = lambda x : (sqrt(2.0/1.0)*np.sin(2.0*np.pi*x/1.0))**2\n",
      "\n",
      "print integrate.trapz(P1,x)\n",
      "print integrate.trapz(P2,x)"
     ],
     "language": "python",
     "metadata": {},
     "outputs": [
      {
       "output_type": "stream",
       "stream": "stdout",
       "text": [
        "0.304497605362\n",
        "0.0977531250732\n"
       ]
      }
     ],
     "prompt_number": 33
    },
    {
     "cell_type": "code",
     "collapsed": false,
     "input": [
      "print integrate.quad(P1_squared,1.0/3.0,1.0/2.0)\n",
      "print integrate.quad(P2_squared,1.0/3.0,1.0/2.0)"
     ],
     "language": "python",
     "metadata": {},
     "outputs": [
      {
       "output_type": "stream",
       "stream": "stdout",
       "text": [
        "(0.3044988905221147, 3.380616792304666e-15)\n",
        "(0.09775055473894276, 1.0852491654105595e-15)\n"
       ]
      }
     ],
     "prompt_number": 34
    },
    {
     "cell_type": "markdown",
     "metadata": {},
     "source": [
      "(b) Make a plot of |\u03c8(x)|2 vs. x for the first two excited states with L=1."
     ]
    },
    {
     "cell_type": "code",
     "collapsed": false,
     "input": [
      "plt.plot(x,P1,linewidth=2,label=\"ground state\")\n",
      "plt.plot(x,P2,linewidth=2,label=\"first excited state\")\n",
      "\n",
      "plt.legend(loc=\"lower left\")"
     ],
     "language": "python",
     "metadata": {},
     "outputs": [
      {
       "metadata": {},
       "output_type": "pyout",
       "prompt_number": 40,
       "text": [
        "<matplotlib.legend.Legend at 0xab75f28>"
       ]
      },
      {
       "metadata": {},
       "output_type": "display_data",
       "png": "[encoded data removed]",
       "text": [
        "<matplotlib.figure.Figure at 0xa9c7898>"
       ]
      }
     ],
     "prompt_number": 40
    },
    {
     "cell_type": "heading",
     "level": 3,
     "metadata": {},
     "source": [
      "Question 4"
     ]
    },
    {
     "cell_type": "markdown",
     "metadata": {},
     "source": [
      "(a) Use numerical integration to find M, r\u20d7 cm, and Icm. Note that you need M to compute r\u20d7 cm and r\u20d7 cm to compute Icm. The moments of inertia Icm are Ixx, Iyy, and Izz, where e.g. Ixx=\u222b((y\u2212ycm)2+(z\u2212zcm)2)\u03c1dV, etc."
     ]
    },
    {
     "cell_type": "markdown",
     "metadata": {},
     "source": [
      "(b) The mass, center of mass, and moments of inertia can be easily computed analytically for a rectangular box of uniform density. (Compute them yourself or look them up). Verify your algorithm from part (a) works by having it compute the result for this test case. How accurate (how many sig figs?) is the numerical result?"
     ]
    },
    {
     "cell_type": "markdown",
     "metadata": {},
     "source": [
      "(c) Finally, change the density function to something of your choosing (different from that used in parts (a) and (b)) and recompute M, r\u20d7 cm and Icm for that case."
     ]
    },
    {
     "cell_type": "code",
     "collapsed": false,
     "input": [
      "from scipy.integrate import tplquad\n",
      "\n",
      "integrand = lambda z,y,x: 100*(y+0.1) + 100*z**2\n",
      "\n",
      "xmin = 0\n",
      "xmax = 0.2\n",
      "\n",
      "ymin = lambda x: 0\n",
      "ymax = lambda x: 0.2\n",
      "\n",
      "zmin = lambda x,y: 0\n",
      "zmax = lambda x,y: 1.0\n",
      "\n",
      "M, err = tplquad(integrand, xmin, xmax, ymin, ymax, zmin, zmax)\n",
      "print \"Mass = \",M"
     ],
     "language": "python",
     "metadata": {},
     "outputs": [
      {
       "output_type": "stream",
       "stream": "stdout",
       "text": [
        "Mass =  2.13333333333\n"
       ]
      }
     ],
     "prompt_number": 3
    },
    {
     "cell_type": "code",
     "collapsed": false,
     "input": [],
     "language": "python",
     "metadata": {},
     "outputs": [],
     "prompt_number": 3
    },
    {
     "cell_type": "code",
     "collapsed": false,
     "input": [
      "from scipy.integrate import tplquad\n",
      "import numpy as np\n",
      "\n",
      "integrandx = lambda z,y,x: x*(100*(y+0.1) + 100*z**2)\n",
      "integrandy = lambda z,y,x: y*(100*(y+0.1) + 100*z**2)\n",
      "integrandz = lambda z,y,x: z*(100*(y+0.1) + 100*z**2)\n",
      "\n",
      "integrand = lambda z,y,x: np.sqrt(x**2 + y**2 + z**2)*(100*(y+0.1) + 100*z**2)\n",
      "\n",
      "xmin = 0\n",
      "xmax = 0.2\n",
      "\n",
      "ymin = lambda x: 0\n",
      "ymax = lambda x: 0.2\n",
      "\n",
      "zmin = lambda x,y: 0\n",
      "zmax = lambda x,y: 1.0\n",
      "\n",
      "integralx, errx = tplquad(integrandx, xmin, xmax, ymin, ymax, zmin, zmax)\n",
      "integraly, erry = tplquad(integrandy, xmin, xmax, ymin, ymax, zmin, zmax)\n",
      "integralz, errz = tplquad(integrandz, xmin, xmax, ymin, ymax, zmin, zmax)\n",
      "integral, err = tplquad(integrand, xmin, xmax, ymin, ymax, zmin, zmax)\n",
      "\n",
      "print \"rx = \",integralx/M\n",
      "print \"ry = \",integraly/M\n",
      "print \"rz = \",integralz/M\n",
      "print \"rcm = \", integral/M"
     ],
     "language": "python",
     "metadata": {},
     "outputs": [
      {
       "output_type": "stream",
       "stream": "stdout",
       "text": [
        "rx =  0.1\n",
        "ry =  0.10625\n",
        "rz =  0.65625\n",
        "rcm =  0.684373563696\n"
       ]
      }
     ],
     "prompt_number": 8
    },
    {
     "cell_type": "code",
     "collapsed": false,
     "input": [
      "from scipy.integrate import tplquad\n",
      "\n",
      "integrand1 = lambda z,y,x: ((y-integraly)**2 + (z-integralz)**2)*(100*(y+0.1) + 100*z**2)\n",
      "integrand2 = lambda z,y,x: ((x-integralx)**2 + (z-integralz)**2)*(100*(y+0.1) + 100*z**2)\n",
      "integrand3 = lambda z,y,x: ((x-integralx)**2 + (y-integraly)**2)*(100*(y+0.1) + 100*z**2)\n",
      "\n",
      "xmin = 0\n",
      "xmax = 0.2\n",
      "\n",
      "ymin = lambda x: 0\n",
      "ymax = lambda x: 0.2\n",
      "\n",
      "zmin = lambda x,y: 0\n",
      "zmax = lambda x,y: 1.0\n",
      "\n",
      "integral1, err1 = tplquad(integrand1, xmin, xmax, ymin, ymax, zmin, zmax)\n",
      "integral2, err2 = tplquad(integrand2, xmin, xmax, ymin, ymax, zmin, zmax)\n",
      "integral3, err3 = tplquad(integrand3, xmin, xmax, ymin, ymax, zmin, zmax)\n",
      "print \"Ixx = \",integral1\n",
      "print \"Iyy = \",integral2\n",
      "print \"Izz = \",integral3"
     ],
     "language": "python",
     "metadata": {},
     "outputs": [
      {
       "output_type": "stream",
       "stream": "stdout",
       "text": [
        "Ixx =  1.36596148148\n",
        "Iyy =  1.36251259259\n",
        "Izz =  0.0724740740741\n"
       ]
      }
     ],
     "prompt_number": 5
    },
    {
     "cell_type": "code",
     "collapsed": false,
     "input": [
      "Ixx = (1.0/12.0)*M*(0.4+0.4)\n",
      "print Ixx\n",
      "Iyy = (1.0/12.0)*M*(0.4+0.4)\n",
      "print Iyy\n",
      "Iw = (1.0/12.0)*M*(0.4+1.0)\n",
      "print Iw"
     ],
     "language": "python",
     "metadata": {},
     "outputs": [
      {
       "output_type": "stream",
       "stream": "stdout",
       "text": [
        "0.142222222222\n",
        "0.142222222222\n",
        "0.248888888889\n"
       ]
      }
     ],
     "prompt_number": 6
    },
    {
     "cell_type": "code",
     "collapsed": false,
     "input": [
      "from scipy.integrate import tplquad\n",
      "\n",
      "integrand1 = lambda z,y,x: ((y-integraly)**2 + (z-integralz)**2)\n",
      "integrand2 = lambda z,y,x: ((x-integralx)**2 + (z-integralz)**2)\n",
      "integrand3 = lambda z,y,x: ((x-integralx)**2 + (y-integraly)**2)\n",
      "\n",
      "xmin = 0\n",
      "xmax = 0.2\n",
      "\n",
      "ymin = lambda x: 0\n",
      "ymax = lambda x: 0.2\n",
      "\n",
      "zmin = lambda x,y: 0\n",
      "zmax = lambda x,y: 1.0\n",
      "\n",
      "integral1, err1 = tplquad(integrand1, xmin, xmax, ymin, ymax, zmin, zmax)\n",
      "integral2, err2 = tplquad(integrand2, xmin, xmax, ymin, ymax, zmin, zmax)\n",
      "integral3, err3 = tplquad(integrand3, xmin, xmax, ymin, ymax, zmin, zmax)\n",
      "print \"Ixx = \",integral1\n",
      "print \"Iyy = \",integral2\n",
      "print \"Izz = \",integral3"
     ],
     "language": "python",
     "metadata": {},
     "outputs": [
      {
       "output_type": "stream",
       "stream": "stdout",
       "text": [
        "Ixx =  0.0365084444444\n",
        "Iyy =  0.0363804444444\n",
        "Izz =  0.00142222222222\n"
       ]
      }
     ],
     "prompt_number": 62
    },
    {
     "cell_type": "code",
     "collapsed": false,
     "input": [
      "from scipy.integrate import tplquad\n",
      "\n",
      "integrand = lambda z,y,x: 1\n",
      "\n",
      "xmin = 0\n",
      "xmax = 0.2\n",
      "\n",
      "ymin = lambda x: 0\n",
      "ymax = lambda x: 0.2\n",
      "\n",
      "zmin = lambda x,y: 0\n",
      "zmax = lambda x,y: 1.0\n",
      "\n",
      "M, err = tplquad(integrand, xmin, xmax, ymin, ymax, zmin, zmax)\n",
      "print \"Mass = \",M"
     ],
     "language": "python",
     "metadata": {},
     "outputs": [
      {
       "output_type": "stream",
       "stream": "stdout",
       "text": [
        "Mass =  0.04\n"
       ]
      }
     ],
     "prompt_number": 9
    },
    {
     "cell_type": "code",
     "collapsed": false,
     "input": [
      "Ixx = (1.0/12.0)*M*(0.4+0.4)\n",
      "print Ixx\n",
      "Iyy = (1.0/12.0)*M*(0.4+0.4)\n",
      "print Iyy\n",
      "Iw = (1.0/12.0)*M*(0.4+1.0)\n",
      "print Iw"
     ],
     "language": "python",
     "metadata": {},
     "outputs": [
      {
       "output_type": "stream",
       "stream": "stdout",
       "text": [
        "0.00266666666667\n",
        "0.00266666666667\n",
        "0.00466666666667\n"
       ]
      }
     ],
     "prompt_number": 10
    },
    {
     "cell_type": "code",
     "collapsed": false,
     "input": [],
     "language": "python",
     "metadata": {},
     "outputs": []
    }
   ],
   "metadata": {}
  }
 ]
}