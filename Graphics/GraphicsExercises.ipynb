{
 "metadata": {
  "name": "",
  "signature": "sha256:a16f479531d3b6ac749bea22b60182e9aa2f3f2f7040ce69347e58b17dc6c6c3"
 },
 "nbformat": 3,
 "nbformat_minor": 0,
 "worksheets": [
  {
   "cells": [
    {
     "cell_type": "heading",
     "level": 1,
     "metadata": {},
     "source": [
      "Graphics Exercises"
     ]
    },
    {
     "cell_type": "code",
     "collapsed": false,
     "input": [
      "%pylab inline\n",
      "from mpl_toolkits.mplot3d.axes3d import Axes3D\n",
      "from matplotlib import cm\n",
      "import numpy as np\n",
      "import matplotlib.pyplot as plt"
     ],
     "language": "python",
     "metadata": {},
     "outputs": []
    },
    {
     "cell_type": "markdown",
     "metadata": {},
     "source": [
      "1) Have a look at the Matplotlib gallery, find a cool looking figure, use the %loadpy magic we used before to copy the code into the box below, and modify it. Note that some of the examples might require packages that are not installed on your machine (in particular those that make maps) - if this is the case, pick another example for the purposes of this exercise. Type %loadpy and then the URL of the py file containing the code, and it will automatically copy it into a cell below. Run the cell with the code to see the figure."
     ]
    },
    {
     "cell_type": "code",
     "collapsed": false,
     "input": [
      "%loadpy http://matplotlib.sourceforge.net/plot_directive/mpl_examples/mplot3d/contour3d_demo.py"
     ],
     "language": "python",
     "metadata": {},
     "outputs": [],
     "prompt_number": 1
    },
    {
     "cell_type": "code",
     "collapsed": false,
     "input": [
      "from mpl_toolkits.mplot3d import axes3d\n",
      "import matplotlib.pyplot as plt\n",
      "\n",
      "fig = plt.figure()\n",
      "ax = fig.add_subplot(111, projection='3d')\n",
      "X, Y, Z = axes3d.get_test_data(0.05)\n",
      "cset = ax.contour(X, Y, Z)\n",
      "ax.clabel(cset, fontsize=9, inline=1)\n",
      "\n",
      "plt.show()\n",
      "\n"
     ],
     "language": "python",
     "metadata": {},
     "outputs": [],
     "prompt_number": 2
    },
    {
     "cell_type": "markdown",
     "metadata": {},
     "source": [
      "2) Download the linked file called sunspots.txt, which contains the observed number of sunspots on the Sun for each month since January 1749. The file contains two columns of numbers, the first being the month and the second being the sunspot number. (See note below\u2217 for how to download it.) (a) Write some code that reads in the data and makes a graph of sunspots as a function of time. Format the x-axis labels to show every 25th year starting with 1750 e.g. (1750, 1775, 1800, 1825, 1850, etc.), instead of sunspot number. Be sure to think about how to make this graph publication quality, i.e. it should have labels, a legend, and customized (i.e. NOT default) color and data representation choices."
     ]
    },
    {
     "cell_type": "code",
     "collapsed": false,
     "input": [
      "f = open('sunspots.txt')\n",
      "x = []\n",
      "for num in f:\n",
      "    print num.split()\n",
      "f.close()"
     ],
     "language": "python",
     "metadata": {},
     "outputs": []
    },
    {
     "cell_type": "code",
     "collapsed": false,
     "input": [
      "x, y = loadtxt('sunspots.txt',unpack=True, usecols=[0,1])\n",
      "print x,y"
     ],
     "language": "python",
     "metadata": {},
     "outputs": []
    },
    {
     "cell_type": "code",
     "collapsed": false,
     "input": [
      "plt.figure(figsize=(20, 6), dpi=80)\n",
      "\n",
      "plt.plot(x, y, color=\"red\",  linewidth=0.5, linestyle=\"-\", label=\"sunspots plot\")\n",
      "\n",
      "plt.xlim(0, 3200)\n",
      "plt.ylim(0, 300)\n",
      "\n",
      "ax = plt.gca() \n",
      "for label in ax.get_xticklabels() + ax.get_yticklabels():\n",
      "    label.set_fontsize(20)\n",
      "    label.set_bbox(dict(facecolor='white', edgecolor='None', alpha=0.3))\n",
      "\n",
      "ax.set_title('Sunspots Plot',fontsize=25)\n",
      "ax.set_xlabel('year',fontsize=18)\n",
      "ax.set_ylabel('sunspots',fontsize=18)\n",
      "\n",
      "plt.xticks([12, 312, 612, 912, 1212, 1512, 1812, 2112, 2412, 2712, 3012, 3312],\n",
      "          [r'$1750$', r'$1775$', r'$1800$', r'$1825$', r'$1850$', r'$1875$', r'$1900$', r'$1925$',\\\n",
      "           r'$1950$', r'$1975$', r'$2000$', r'$2025$'])\n",
      "\n",
      "plt.yticks([50, 100, 150, 200, 250, 300],\n",
      "          [r'$50$', r'$100$', r'$150$', r'$200$', r'$250$', r'$300$'])\n",
      "\n",
      "plt.legend(loc='upper left')\n",
      "\n",
      "\n",
      "plt.plot(x, y, '-', markersize=0.5, color='r');"
     ],
     "language": "python",
     "metadata": {},
     "outputs": []
    },
    {
     "cell_type": "markdown",
     "metadata": {},
     "source": [
      "(b) Now add code to calculate the running average of the data. Plot both the original data and the running average on the same graph, only over the range covered by the first 1000 data points."
     ]
    },
    {
     "cell_type": "code",
     "collapsed": false,
     "input": [
      "plt.figure(figsize=(15, 6), dpi=80)\n",
      "\n",
      "mean = np.mean(y)\n",
      "z = np.empty(3142)\n",
      "\n",
      "plt.plot(x, y, color=\"red\",  linewidth=0.5, linestyle=\"-\", label=\"sunspots plot\")\n",
      "plt.plot(x, z, color=\"green\",  linewidth=0.5, linestyle=\"--\", label=\"running average\")\n",
      "\n",
      "plt.xlim(0, 1000)\n",
      "plt.ylim(0, 300)\n",
      "\n",
      "ax = plt.gca() \n",
      "for label in ax.get_xticklabels() + ax.get_yticklabels():\n",
      "    label.set_fontsize(20)\n",
      "    label.set_bbox(dict(facecolor='white', edgecolor='None', alpha=0.3))\n",
      "\n",
      "ax.set_title('Sunspots Plot with Running Average',fontsize=25)\n",
      "ax.set_xlabel('year',fontsize=18)\n",
      "ax.set_ylabel('sunspots',fontsize=18)\n",
      "\n",
      "\n",
      "plt.yticks([50, 100, 150, 200, 250, 300],\n",
      "          [r'$50$', r'$100$', r'$150$', r'$200$', r'$250$', r'$300$'])\n",
      "\n",
      "plt.legend(loc='upper left')"
     ],
     "language": "python",
     "metadata": {},
     "outputs": []
    }
   ],
   "metadata": {}
  }
 ]
}