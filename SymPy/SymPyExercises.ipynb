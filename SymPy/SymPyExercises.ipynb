{
 "metadata": {
  "name": "",
  "signature": "sha256:bf9512e1f4d27e4b19412aab7d3585dfb3643d7ecb4c6cb7313dc473c51c8aa3"
 },
 "nbformat": 3,
 "nbformat_minor": 0,
 "worksheets": [
  {
   "cells": [
    {
     "cell_type": "heading",
     "level": 1,
     "metadata": {},
     "source": [
      "SymPy Exercises"
     ]
    },
    {
     "cell_type": "code",
     "collapsed": false,
     "input": [
      "from IPython.html.widgets import interact\n",
      "from IPython.display import display"
     ],
     "language": "python",
     "metadata": {},
     "outputs": [],
     "prompt_number": 4
    },
    {
     "cell_type": "code",
     "collapsed": false,
     "input": [
      "%matplotlib inline\n",
      "import numpy as np\n",
      "import matplotlib.pyplot as plt"
     ],
     "language": "python",
     "metadata": {},
     "outputs": [],
     "prompt_number": 5
    },
    {
     "cell_type": "code",
     "collapsed": false,
     "input": [
      "from sympy import *\n",
      "init_printing(use_latex='mathjax')"
     ],
     "language": "python",
     "metadata": {},
     "outputs": [],
     "prompt_number": 6
    },
    {
     "cell_type": "heading",
     "level": 3,
     "metadata": {},
     "source": [
      "Question 1"
     ]
    },
    {
     "cell_type": "markdown",
     "metadata": {},
     "source": [
      "(a) Define SymPy symbols for the following variables:\n",
      "- z that is real\n",
      "- a that is real and positive\n",
      "- n that is a positive integer"
     ]
    },
    {
     "cell_type": "code",
     "collapsed": false,
     "input": [
      "z = Symbol('z', real=True)\n",
      "a = Symbol('a', real=True, positive=True)\n",
      "n = Symbol('n', positive=True, integer=True)"
     ],
     "language": "python",
     "metadata": {},
     "outputs": [],
     "prompt_number": 7
    },
    {
     "cell_type": "markdown",
     "metadata": {},
     "source": [
      "(b). Compute the integral I0(a) symbolically by passing the full integrand to the integrate function. Save the result as variable I0 and display it using IPython.display.display."
     ]
    },
    {
     "cell_type": "code",
     "collapsed": false,
     "input": [
      "I0 = integrate((z**n)/exp(a*(z**2)),(z,-oo,oo))"
     ],
     "language": "python",
     "metadata": {},
     "outputs": [],
     "prompt_number": 8
    },
    {
     "cell_type": "code",
     "collapsed": false,
     "input": [
      "display(I0)"
     ],
     "language": "python",
     "metadata": {},
     "outputs": [
      {
       "latex": [
        "$$\\frac{\\left(-1\\right)^{n}}{2 a} a^{- \\frac{n}{2} + \\frac{1}{2}} \\Gamma{\\left(\\frac{n}{2} + \\frac{1}{2} \\right)} + \\frac{a^{- \\frac{n}{2} + \\frac{1}{2}}}{2 a} \\Gamma{\\left(\\frac{n}{2} + \\frac{1}{2} \\right)}$$"
       ],
       "metadata": {},
       "output_type": "display_data",
       "text": [
        "         n   1               n   1         \n",
        "       - \u2500 + \u2500             - \u2500 + \u2500         \n",
        "    n    2   2  \u239bn   1\u239e      2   2  \u239bn   1\u239e\n",
        "(-1) \u22c5a       \u22c5\u0393\u239c\u2500 + \u2500\u239f   a       \u22c5\u0393\u239c\u2500 + \u2500\u239f\n",
        "                \u239d2   2\u23a0             \u239d2   2\u23a0\n",
        "\u2500\u2500\u2500\u2500\u2500\u2500\u2500\u2500\u2500\u2500\u2500\u2500\u2500\u2500\u2500\u2500\u2500\u2500\u2500\u2500\u2500\u2500\u2500 + \u2500\u2500\u2500\u2500\u2500\u2500\u2500\u2500\u2500\u2500\u2500\u2500\u2500\u2500\u2500\u2500\u2500\n",
        "          2\u22c5a                    2\u22c5a       "
       ]
      }
     ],
     "prompt_number": 9
    },
    {
     "cell_type": "markdown",
     "metadata": {},
     "source": [
      "(c) Verify that Im(a)=0 if m is odd by computing the integral symbolically for m=[1,3,5,7,9]. Use a loop or other control structure to interate through values of m. Why should you not use the variable n for this part?"
     ]
    },
    {
     "cell_type": "code",
     "collapsed": false,
     "input": [
      "for m in range(1,10,2):\n",
      "    I0 = integrate((z**m)/exp(a*(z**2)),(z,-oo,oo))\n",
      "    display(a.is_imaginary)"
     ],
     "language": "python",
     "metadata": {},
     "outputs": [
      {
       "metadata": {},
       "output_type": "display_data",
       "text": [
        "False"
       ]
      },
      {
       "metadata": {},
       "output_type": "display_data",
       "text": [
        "False"
       ]
      },
      {
       "metadata": {},
       "output_type": "display_data",
       "text": [
        "False"
       ]
      },
      {
       "metadata": {},
       "output_type": "display_data",
       "text": [
        "False"
       ]
      },
      {
       "metadata": {},
       "output_type": "display_data",
       "text": [
        "False"
       ]
      }
     ],
     "prompt_number": 11
    },
    {
     "cell_type": "markdown",
     "metadata": {},
     "source": [
      "Since a is not imaginary, Im(a) = 0. We should not use the variable n for this part since n is just a symbol, it has no value."
     ]
    },
    {
     "cell_type": "markdown",
     "metadata": {},
     "source": [
      "(d) Define a symbolic expression, saved under the variable In, for the unevaluated integral In(a) using SymPy's Integral class. Use symbolic manipulations to verify the following identity:"
     ]
    },
    {
     "cell_type": "code",
     "collapsed": false,
     "input": [
      "# Define symbolic expression\n",
      "\n",
      "In = Integral((z**m)/exp(a*(z**2)),(z,-oo,oo))\n",
      "display(In)"
     ],
     "language": "python",
     "metadata": {},
     "outputs": [
      {
       "latex": [
        "$$\\int_{-\\infty}^{\\infty} z^{9} e^{- a z^{2}}\\, dz$$"
       ],
       "metadata": {},
       "output_type": "display_data",
       "text": [
        "\u221e              \n",
        "\u2320              \n",
        "\u23ae          2   \n",
        "\u23ae   9  -a\u22c5z    \n",
        "\u23ae  z \u22c5\u212f      dz\n",
        "\u2321              \n",
        "-\u221e             "
       ]
      }
     ],
     "prompt_number": 29
    },
    {
     "cell_type": "code",
     "collapsed": false,
     "input": [
      "In1 = Integral((z**2)/exp(a*(z**2)),(z,-oo,oo))\n",
      "In1.doit()"
     ],
     "language": "python",
     "metadata": {},
     "outputs": [
      {
       "latex": [
        "$$\\frac{\\sqrt{\\pi}}{2 a^{\\frac{3}{2}}}$$"
       ],
       "metadata": {},
       "output_type": "pyout",
       "prompt_number": 24,
       "text": [
        "  ___ \n",
        "\u2572\u2571 \u03c0  \n",
        "\u2500\u2500\u2500\u2500\u2500\u2500\n",
        "   3/2\n",
        "2\u22c5a   "
       ]
      }
     ],
     "prompt_number": 24
    },
    {
     "cell_type": "code",
     "collapsed": false,
     "input": [
      "diff(I0,a)"
     ],
     "language": "python",
     "metadata": {},
     "outputs": [
      {
       "latex": [
        "$$0$$"
       ],
       "metadata": {},
       "output_type": "pyout",
       "prompt_number": 26,
       "text": [
        "0"
       ]
      }
     ],
     "prompt_number": 26
    },
    {
     "cell_type": "code",
     "collapsed": false,
     "input": [
      "# Verify identity\n",
      "\n",
      "Eq(Integral((z**2)/exp(a*(z**2)),(z,-oo,oo)),Derivative(I0,a)).doit()"
     ],
     "language": "python",
     "metadata": {},
     "outputs": [
      {
       "latex": [
        "$$\\frac{\\sqrt{\\pi}}{2 a^{\\frac{3}{2}}} = 0$$"
       ],
       "metadata": {},
       "output_type": "pyout",
       "prompt_number": 27,
       "text": [
        "  ___     \n",
        "\u2572\u2571 \u03c0      \n",
        "\u2500\u2500\u2500\u2500\u2500\u2500 = 0\n",
        "   3/2    \n",
        "2\u22c5a       "
       ]
      }
     ],
     "prompt_number": 27
    },
    {
     "cell_type": "heading",
     "level": 3,
     "metadata": {},
     "source": [
      "Question 2"
     ]
    },
    {
     "cell_type": "markdown",
     "metadata": {},
     "source": [
      "(a) Define and display the following matrix symbolically, where a is a positive real number:"
     ]
    },
    {
     "cell_type": "code",
     "collapsed": false,
     "input": [
      "a = Symbol('a', real=True, positive=True)"
     ],
     "language": "python",
     "metadata": {},
     "outputs": [],
     "prompt_number": 30
    },
    {
     "cell_type": "code",
     "collapsed": false,
     "input": [
      "H = Matrix([[-a+1,0,0], [0,1,a], [0,a,2]])\n",
      "H"
     ],
     "language": "python",
     "metadata": {},
     "outputs": [
      {
       "latex": [
        "$$\\left[\\begin{matrix}- a + 1 & 0 & 0\\\\0 & 1 & a\\\\0 & a & 2\\end{matrix}\\right]$$"
       ],
       "metadata": {},
       "output_type": "pyout",
       "prompt_number": 35,
       "text": [
        "\u23a1-a + 1  0  0\u23a4\n",
        "\u23a2            \u23a5\n",
        "\u23a2  0     1  a\u23a5\n",
        "\u23a2            \u23a5\n",
        "\u23a3  0     a  2\u23a6"
       ]
      }
     ],
     "prompt_number": 35
    },
    {
     "cell_type": "markdown",
     "metadata": {},
     "source": [
      "(b) Find the eigenvalues of H and store them in a list."
     ]
    },
    {
     "cell_type": "code",
     "collapsed": false,
     "input": [
      "H.eigenvals()"
     ],
     "language": "python",
     "metadata": {},
     "outputs": [
      {
       "latex": [
        "$$\\begin{Bmatrix}- a + 1 : 1, & - \\frac{1}{2} \\sqrt{4 a^{2} + 1} + \\frac{3}{2} : 1, & \\frac{1}{2} \\sqrt{4 a^{2} + 1} + \\frac{3}{2} : 1\\end{Bmatrix}$$"
       ],
       "metadata": {},
       "output_type": "pyout",
       "prompt_number": 41,
       "text": [
        "\u23a7                __________            __________       \u23ab\n",
        "\u23aa               \u2571    2                \u2571    2            \u23aa\n",
        "\u23a8             \u2572\u2571  4\u22c5a  + 1    3     \u2572\u2571  4\u22c5a  + 1    3   \u23ac\n",
        "\u23aa-a + 1: 1, - \u2500\u2500\u2500\u2500\u2500\u2500\u2500\u2500\u2500\u2500\u2500\u2500\u2500 + \u2500: 1, \u2500\u2500\u2500\u2500\u2500\u2500\u2500\u2500\u2500\u2500\u2500\u2500\u2500 + \u2500: 1\u23aa\n",
        "\u23a9                   2         2           2         2   \u23ad"
       ]
      }
     ],
     "prompt_number": 41
    },
    {
     "cell_type": "markdown",
     "metadata": {},
     "source": [
      "(c) Write a Python function with the signature shown below. This function should return two NumPy arrays, which, when passed to the matplotlib.pyplot.plot function will plot the expression as a function of the symbol over some range."
     ]
    },
    {
     "cell_type": "code",
     "collapsed": false,
     "input": [
      "def expr_to_data(expr, lim, n=100):\n",
      "    \"\"\"Evaluate an expression numerically over a range.\n",
      "    \n",
      "    Parameters\n",
      "    ----------\n",
      "    expr : Expr\n",
      "        A SymPy expression containing one free symbol, call it f(x).\n",
      "    lim : (x, xmin, xmax)\n",
      "        A 3-tuple of the symbol to use as the x variable and its xmin and\n",
      "        xmax values for numerical evaluation. In your function you can call\n",
      "        these \"x\", but the user will be able to pass any symbol.\n",
      "    n : int\n",
      "        The number of points to use in evaluating the expression between\n",
      "        xmin and xmax.\n",
      "    \n",
      "    Returns\n",
      "    -------\n",
      "    A 2-tuple of NumPy arrays (x, f(x)), which, when passed to\n",
      "    matplotlib's plot function will plot the expression as a function of the\n",
      "    symbol.\n",
      "    \"\"\"\n",
      "    \n",
      "    "
     ],
     "language": "python",
     "metadata": {},
     "outputs": []
    }
   ],
   "metadata": {}
  }
 ]
}