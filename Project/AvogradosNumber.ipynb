{
 "metadata": {
  "name": "",
  "signature": "sha256:26d3890f0cc10449e5896c3641718c33af6b99e5fee42b2ebe176a3913a639f8"
 },
 "nbformat": 3,
 "nbformat_minor": 0,
 "worksheets": []
}