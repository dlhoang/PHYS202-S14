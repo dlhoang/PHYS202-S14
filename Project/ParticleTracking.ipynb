{
 "metadata": {
  "name": "",
  "signature": "sha256:7a24cddbea1a8f8ef1ae66fd31933433875cf113a7f742d6c1fd65d47f055a56"
 },
 "nbformat": 3,
 "nbformat_minor": 0,
 "worksheets": [
  {
   "cells": [
    {
     "cell_type": "code",
     "collapsed": false,
     "input": [
      "import BlobFinder\n",
      "import numpy as np\n",
      "import matplotlib.pyplot as plt\n",
      "from PIL import Image\n",
      "import requests\n",
      "from StringIO import StringIO\n",
      "\n",
      "def images():\n",
      "    pictures = []\n",
      "    return pictures\n",
      "\n",
      "def movement(P,pictures,tau,delta):\n",
      "    distance = []\n",
      "    out = open('DistanceData.txt', 'w')\n",
      "    for i in range(0,199):\n",
      "        picture1 = open(pictures[i])\n",
      "        frame1 = BlobFinder.getBeads(P,picture1,tau)\n",
      "        picture2 = open(pictures[i+1])\n",
      "        frame2 = BlobFinder.getBeads(P,picture2,tau)\n",
      "        \n",
      "        for blob in frame1:\n",
      "            distance.append(BlobFinder.distanceTo())\n",
      "    out.writelines(distance)\n",
      "    out.close"
     ],
     "language": "python",
     "metadata": {},
     "outputs": [
      {
       "output_type": "stream",
       "stream": "stdout",
       "text": [
        "8\n"
       ]
      }
     ],
     "prompt_number": 2
    },
    {
     "cell_type": "code",
     "collapsed": false,
     "input": [],
     "language": "python",
     "metadata": {},
     "outputs": []
    }
   ],
   "metadata": {}
  }
 ]
}