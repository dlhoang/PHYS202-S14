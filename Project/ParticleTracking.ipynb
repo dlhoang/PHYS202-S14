{
 "metadata": {
  "name": "",
  "signature": "sha256:134cf4c1f542b106759ce9a1e0f3adbbfa7b22fa81fcc3706531f3a90cb0f105"
 },
 "nbformat": 3,
 "nbformat_minor": 0,
 "worksheets": [
  {
   "cells": [
    {
     "cell_type": "code",
     "collapsed": false,
     "input": [
      "import BlobFinder\n",
      "import numpy as np\n",
      "import matplotlib.pyplot as plt\n",
      "from PIL import Image\n",
      "import requests\n",
      "from StringIO import StringIO\n",
      "\n",
      "def images():\n",
      "    images = []\n",
      "    count = 0\n",
      "    for i in range(0,200):\n",
      "        images.append(\"run8/frame00%s.jpg\"%frame)\n",
      "        count = count + 1\n",
      "\n",
      "def movement(P,pictures,tau,delta):\n",
      "    distance = []\n",
      "    out = open('DistanceData.txt', 'w')\n",
      "    for i in range(0,200):\n",
      "        distance = 0\n",
      "    out.writelines(distance)\n",
      "    out.close"
     ],
     "language": "python",
     "metadata": {},
     "outputs": [],
     "prompt_number": 7
    },
    {
     "cell_type": "code",
     "collapsed": false,
     "input": [],
     "language": "python",
     "metadata": {},
     "outputs": []
    }
   ],
   "metadata": {}
  }
 ]
}