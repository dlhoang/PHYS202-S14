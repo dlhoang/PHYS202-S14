{
 "metadata": {
  "name": "",
  "signature": "sha256:344fa2b23cdac7ff0690dfd7188b299302fda98a4c2e93afeaf54dccac4a0309"
 },
 "nbformat": 3,
 "nbformat_minor": 0,
 "worksheets": [
  {
   "cells": [
    {
     "cell_type": "code",
     "collapsed": false,
     "input": [
      "%%file BlobFinder2.py\n",
      "\n",
      "import matplotlib.pyplot as plt\n",
      "from PIL import Image\n",
      "import requests\n",
      "from StringIO import StringIO\n",
      "\n",
      "# define colors\n",
      "BLACK = (0,0,0)\n",
      "RED = (255,0,0)\n",
      "WHITE = (255,255,255)\n",
      "\n",
      "# creating a blob\n",
      "class Blob():\n",
      "\n",
      "    def __init__(self):\n",
      "        \"\"\" initializes a blob \"\"\"\n",
      "        self.blob = []\n",
      "    def add(self,i,j):\n",
      "        \"\"\" adds (x,y) position of a pixel that is part of a blob \"\"\"\n",
      "        self.blob.append([i,j])\n",
      "    def mass(self):\n",
      "        \"\"\" returns mass of a blob determined by how many pixels it contains \"\"\"\n",
      "        return len(self.blob)\n",
      "\n",
      "    def distanceTo(self,blob):\n",
      "        \"\"\" returns distance from current blob to blob being passed in \"\"\"\n",
      "        distance = round((((self.centerOfMass()[0] - blob.centerOfMass()[0])**2)\\\n",
      "                        + ((self.centerOfMass()[1] - blob.centerOfMass()[1])**2))**0.5,4)\n",
      "        return distance\n",
      "\n",
      "    def centerOfMass(self):\n",
      "        \"\"\" returns (x,y) position of center of mass (center) of blob \"\"\"\n",
      "        xtot, ytot = 0, 0\n",
      "        for pix in self.blob:\n",
      "            xtot = xtot + pix[0]\n",
      "            ytot = ytot + pix[1]\n",
      "        xcm = float(xtot)/float(len(self.blob))\n",
      "        ycm = float(ytot)/float(len(self.blob))\n",
      "        return xcm, ycm\n",
      "\n",
      "def monochrome(picture,tau):\n",
      "    \"\"\" turns blobs in a picture red using luminance threshold tau and turn background noise black \"\"\"\n",
      "    xsize, ysize = picture.size\n",
      "    temp = picture.load()\n",
      "\n",
      "    for x in range(xsize):\n",
      "        for y in range(ysize):\n",
      "            r,g,b = temp[x,y]\n",
      "            # if color is higher than luminance threshold, consider a blob and turn red\n",
      "            if (r+g+b)/3 <= tau:\n",
      "                temp[x,y] = RED\n",
      "            # else consider background noise and turn black\n",
      "            else:\n",
      "                temp[x,y] = BLACK\n",
      "\n",
      "def BlobFinder(picture, tau):\n",
      "    \"\"\" returns a list of all blobs in the picture using the luminance threshold tau \"\"\"\n",
      "    # turns picture red and black first\n",
      "    monochrome(picture,tau)\n",
      "    xsize, ysize = picture.size\n",
      "    temp = picture.load()\n",
      "    blobs = []\n",
      "    for x in range(xsize):\n",
      "        for y in range(ysize):\n",
      "            # find blobs in picture and add to list of blobs\n",
      "            if temp[x,y] == RED:\n",
      "                blob = Fill(temp,xsize,ysize,x,y)\n",
      "                blobs.append(blob)\n",
      "    return blobs\n",
      "    \n",
      "def Fill(picture, xsize, ysize, xstart, ystart):\n",
      "    \"\"\" keep a list of pixels that need to be looked at, \n",
      "    but haven't yet been filled in - a list of the (x,y) \n",
      "    coordinates of pixels that are neighbors of ones we have \n",
      "    already examined.  Keep looping until there's nothing \n",
      "    left in this list. Finally returns the blob. \"\"\"\n",
      "    # create a blob\n",
      "    blob = Blob()\n",
      "    queue = [(xstart,ystart)]\n",
      "    # add the first red pixel found\n",
      "    blob.add(xstart,ystart)\n",
      "    while queue:\n",
      "        x,y,queue = queue[0][0], queue[0][1], queue[1:]\n",
      "        # if neighboring pixel is red, add to queue, fill white, and add to blob object\n",
      "        if picture[x,y] == RED:\n",
      "            picture[x,y] = WHITE\n",
      "            blob.add(x,y)\n",
      "            if x > 0:\n",
      "                queue.append((x-1,y))\n",
      "            if x < (xsize-1):\n",
      "                queue.append((x+1,y))\n",
      "            if y > 0:\n",
      "                queue.append((x, y-1))\n",
      "            if y < (ysize-1):\n",
      "                queue.append((x, y+1))\n",
      "    return blob\n",
      " \n",
      "                    \n",
      "def countBeads(P,picture,tau):\n",
      "    \"\"\" returns the number of blobs with mass >= P pixels \"\"\"\n",
      "    # get all blobs in a picture with luminance threshold tau\n",
      "    beads = BlobFinder(picture,tau)\n",
      "    count = 0\n",
      "    # loop through all blobs -- if mass >= P, increment count\n",
      "    for bead in beads:\n",
      "        if bead.mass() >= P:\n",
      "            count = count + 1\n",
      "    return count\n",
      "    \n",
      "def getBeads(P,picture,tau):\n",
      "    \"\"\" returns a list of all blobs with mass >= P pixels \"\"\"\n",
      "    # get all blobs in a picture with luminance threshold tau\n",
      "    beads = BlobFinder(picture,tau)\n",
      "    # initialize a list of blobs\n",
      "    blobs = []\n",
      "    # loop through all blobs -- if mass >= P, add blob to list of blobs\n",
      "    for bead in beads:\n",
      "        if bead.mass() >=P:\n",
      "            blobs.append(bead)\n",
      "    return blobs\n",
      "             \n",
      "def printBeads(P,picture,tau):\n",
      "    \"\"\" first print mass and corresponding center of mass of blobs with mass >= P,\n",
      "    then print mass and corresponding center of mass of all blobs found regardless \"\"\"\n",
      "    # get all blobs in a picture with luminance threshold tau\n",
      "    beads = BlobFinder(picture,tau)\n",
      "\n",
      "    # print characteristics of blobs with mass >= P\n",
      "    print \"Beads with at least %s pixels\" %P\n",
      "    for bead in beads:\n",
      "        if bead.mass() >= P:\n",
      "            print \"mass: %s\" %bead.mass()\n",
      "            print \"center of mass: %s %s\" %bead.centerOfMass()\n",
      "            \n",
      "    # print characteristics of all blobs found\n",
      "    print \"All founded beads: \"\n",
      "    for bead in beads:\n",
      "        print \"mass: %s\" %bead.mass()\n",
      "        print \"center of mass: %s %s\" %bead.centerOfMass()"
     ],
     "language": "python",
     "metadata": {},
     "outputs": [
      {
       "output_type": "stream",
       "stream": "stdout",
       "text": [
        "Overwriting BlobFinder2.py\n"
       ]
      }
     ],
     "prompt_number": 77
    },
    {
     "cell_type": "code",
     "collapsed": false,
     "input": [
      "%pylab inline\n",
      "\n",
      "imageFile = \"temp/Hoang_T0012.jpg\"\n",
      "\n",
      "im1=Image.open(imageFile)\n",
      "\n",
      "# im1 = Image.open(imageFile)\n",
      "# print countBeads(25.,im1,165.)\n",
      "getBeads(25,im1,165.)\n",
      "# printBeads(25.,im1,165.)\n",
      "plt.imshow(im1)"
     ],
     "language": "python",
     "metadata": {},
     "outputs": [
      {
       "output_type": "stream",
       "stream": "stdout",
       "text": [
        "Populating the interactive namespace from numpy and matplotlib\n"
       ]
      },
      {
       "metadata": {},
       "output_type": "pyout",
       "prompt_number": 81,
       "text": [
        "<matplotlib.image.AxesImage at 0xe526e80>"
       ]
      },
      {
       "metadata": {},
       "output_type": "display_data",
       "png": "[encoded data removed]",
       "text": [
        "<matplotlib.figure.Figure at 0xafa5e48>"
       ]
      }
     ],
     "prompt_number": 81
    },
    {
     "cell_type": "code",
     "collapsed": false,
     "input": [
      "%pylab inline\n",
      "\n",
      "imageFile = \"data/Hoang_T0012.jpg\"\n",
      "\n",
      "im1=Image.open(imageFile).convert('RGB')\n",
      "\n",
      "# im1 = Image.open(imageFile)\n",
      "# print countBeads(25.,im1,165.)\n",
      "getBeads(25,im1,165.)\n",
      "# printBeads(25.,im1,165.)\n",
      "plt.imshow(im1)"
     ],
     "language": "python",
     "metadata": {},
     "outputs": [
      {
       "output_type": "stream",
       "stream": "stdout",
       "text": [
        "Populating the interactive namespace from numpy and matplotlib\n"
       ]
      },
      {
       "metadata": {},
       "output_type": "pyout",
       "prompt_number": 83,
       "text": [
        "<matplotlib.image.AxesImage at 0xae78048>"
       ]
      },
      {
       "metadata": {},
       "output_type": "display_data",
       "png": "[encoded data removed]",
       "text": [
        "<matplotlib.figure.Figure at 0x15ab3048>"
       ]
      }
     ],
     "prompt_number": 83
    },
    {
     "cell_type": "code",
     "collapsed": false,
     "input": [],
     "language": "python",
     "metadata": {},
     "outputs": []
    }
   ],
   "metadata": {}
  }
 ]
}