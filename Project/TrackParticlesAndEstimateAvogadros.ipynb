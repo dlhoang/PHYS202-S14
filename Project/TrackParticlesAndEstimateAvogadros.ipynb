{
 "metadata": {
  "name": "",
  "signature": "sha256:3bc0bb31cf7351487b8aee354073efb268926627cac19679ba9974634236b030"
 },
 "nbformat": 3,
 "nbformat_minor": 0,
 "worksheets": [
  {
   "cells": [
    {
     "cell_type": "code",
     "collapsed": false,
     "input": [
      "import BlobFinder\n",
      "import numpy as np\n",
      "import matplotlib.pyplot as plt\n",
      "from PIL import Image\n",
      "import requests\n",
      "from StringIO import StringIO\n",
      "\n",
      "def images():\n",
      "    frame = -1\n",
      "    pictures = []\n",
      "    default = 'frame00'\n",
      "    for i in range(0,199):\n",
      "        frame = frame + 1\n",
      "        digit = len(str(frame))\n",
      "        num = 3 - digit\n",
      "        pic = \"\".join([\"0\"]*num) + str(frame)\n",
      "        image = default + str(pic) + \".jpg\"\n",
      "        pictures.append(image)\n",
      "    return pictures\n",
      "\n",
      "def movement(P,pictures,tau,delta):\n",
      "    distance = []\n",
      "\n",
      "    for i in range(0,199):\n",
      "        picture1 = Image.open(pictures[i])\n",
      "        frame1 = BlobFinder.getBeads(P,picture1,tau)\n",
      "        picture2 = Image.open(pictures[i+1])\n",
      "        frame2 = BlobFinder.getBeads(P,picture2,tau)\n",
      "        \n",
      "        j = 0\n",
      "        for blob in frame1:\n",
      "            if blob.distanceTo(frame2[j]) < delta:\n",
      "                distance.append(blob.distanceTo(frame2[j]))\n",
      "            j = j + 1\n",
      "            \n",
      "# def writeFile():\n",
      "    # out = open('DistanceData.txt', 'w')\n",
      "    # loadtxt, savetxt\n",
      "    # out.writelines(distance)\n",
      "    # out.close\n",
      "    \n",
      "pictures = images()\n",
      "movement(25,pictures,180,20)"
     ],
     "language": "python",
     "metadata": {},
     "outputs": [
      {
       "ename": "IndexError",
       "evalue": "list index out of range",
       "output_type": "pyerr",
       "traceback": [
        "\u001b[0;31m---------------------------------------------------------------------------\u001b[0m\n\u001b[0;31mIndexError\u001b[0m                                Traceback (most recent call last)",
        "\u001b[0;32m<ipython-input-2-a9f9bbefd7ca>\u001b[0m in \u001b[0;36m<module>\u001b[0;34m()\u001b[0m\n\u001b[1;32m     41\u001b[0m \u001b[0;34m\u001b[0m\u001b[0m\n\u001b[1;32m     42\u001b[0m \u001b[0mpictures\u001b[0m \u001b[0;34m=\u001b[0m \u001b[0mimages\u001b[0m\u001b[0;34m(\u001b[0m\u001b[0;34m)\u001b[0m\u001b[0;34m\u001b[0m\u001b[0m\n\u001b[0;32m---> 43\u001b[0;31m \u001b[0mmovement\u001b[0m\u001b[0;34m(\u001b[0m\u001b[0;36m25\u001b[0m\u001b[0;34m,\u001b[0m\u001b[0mpictures\u001b[0m\u001b[0;34m,\u001b[0m\u001b[0;36m180\u001b[0m\u001b[0;34m,\u001b[0m\u001b[0;36m20\u001b[0m\u001b[0;34m)\u001b[0m\u001b[0;34m\u001b[0m\u001b[0m\n\u001b[0m",
        "\u001b[0;32m<ipython-input-2-a9f9bbefd7ca>\u001b[0m in \u001b[0;36mmovement\u001b[0;34m(P, pictures, tau, delta)\u001b[0m\n\u001b[1;32m     30\u001b[0m         \u001b[0mj\u001b[0m \u001b[0;34m=\u001b[0m \u001b[0;36m0\u001b[0m\u001b[0;34m\u001b[0m\u001b[0m\n\u001b[1;32m     31\u001b[0m         \u001b[0;32mfor\u001b[0m \u001b[0mblob\u001b[0m \u001b[0;32min\u001b[0m \u001b[0mframe1\u001b[0m\u001b[0;34m:\u001b[0m\u001b[0;34m\u001b[0m\u001b[0m\n\u001b[0;32m---> 32\u001b[0;31m             \u001b[0;32mif\u001b[0m \u001b[0mblob\u001b[0m\u001b[0;34m.\u001b[0m\u001b[0mdistanceTo\u001b[0m\u001b[0;34m(\u001b[0m\u001b[0mframe2\u001b[0m\u001b[0;34m[\u001b[0m\u001b[0mj\u001b[0m\u001b[0;34m]\u001b[0m\u001b[0;34m)\u001b[0m \u001b[0;34m<\u001b[0m \u001b[0mdelta\u001b[0m\u001b[0;34m:\u001b[0m\u001b[0;34m\u001b[0m\u001b[0m\n\u001b[0m\u001b[1;32m     33\u001b[0m                 \u001b[0mdistance\u001b[0m\u001b[0;34m.\u001b[0m\u001b[0mappend\u001b[0m\u001b[0;34m(\u001b[0m\u001b[0mblob\u001b[0m\u001b[0;34m.\u001b[0m\u001b[0mdistanceTo\u001b[0m\u001b[0;34m(\u001b[0m\u001b[0mframe2\u001b[0m\u001b[0;34m[\u001b[0m\u001b[0mj\u001b[0m\u001b[0;34m]\u001b[0m\u001b[0;34m)\u001b[0m\u001b[0;34m)\u001b[0m\u001b[0;34m\u001b[0m\u001b[0m\n\u001b[1;32m     34\u001b[0m             \u001b[0mj\u001b[0m \u001b[0;34m=\u001b[0m \u001b[0mj\u001b[0m \u001b[0;34m+\u001b[0m \u001b[0;36m1\u001b[0m\u001b[0;34m\u001b[0m\u001b[0m\n",
        "\u001b[0;31mIndexError\u001b[0m: list index out of range"
       ]
      }
     ],
     "prompt_number": 2
    },
    {
     "cell_type": "code",
     "collapsed": false,
     "input": [
      "global ext\n",
      "ext = \".jpg\"\n",
      "\n",
      "imageFile = \"frame00001.jpg\"\n",
      "im1 = Image.open(imageFile)\n",
      "BlobFinder(im1,180)\n",
      "countBeads(25,im1,180)\n",
      "plt.imshow(im1)"
     ],
     "language": "python",
     "metadata": {},
     "outputs": []
    },
    {
     "cell_type": "code",
     "collapsed": false,
     "input": [
      "def AvogadrosNumber()\n",
      "    \"\"\" estimating self-diffusion constant \"\"\"\n",
      "    delta_t = 0.5 # seconds\n",
      "    sigma_squared = # (distance**2)/(2*len(file))\n",
      "    D = sigma**2/(2*delta_t)\n",
      "\n",
      "    \"\"\" estimating Boltzmann constant \"\"\"\n",
      "    T = 297 # room temperature, Kelvin\n",
      "    nu = 9.135*(10**(-4)) # viscosity of water, N*s/m2\n",
      "    ro = 0.5*(10**(-6)) # radius of beads, m\n",
      "    k = (D*6*np.pi*nu*ro) / T\n",
      "\n",
      "    \"\"\" estimating Avogadro's number \"\"\"\n",
      "    R = 8.31457 # J/K\u22c5mol\n",
      "    A = R/k"
     ],
     "language": "python",
     "metadata": {},
     "outputs": []
    },
    {
     "cell_type": "code",
     "collapsed": false,
     "input": [],
     "language": "python",
     "metadata": {},
     "outputs": []
    },
    {
     "cell_type": "code",
     "collapsed": false,
     "input": [],
     "language": "python",
     "metadata": {},
     "outputs": []
    }
   ],
   "metadata": {}
  }
 ]
}