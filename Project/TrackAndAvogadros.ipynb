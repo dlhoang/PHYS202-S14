{
 "metadata": {
  "name": "",
  "signature": "sha256:29ef122e901ec4bc7468e3b83e32ab03ec2850661da759185129b083aa36e178"
 },
 "nbformat": 3,
 "nbformat_minor": 0,
 "worksheets": [
  {
   "cells": [
    {
     "cell_type": "code",
     "collapsed": false,
     "input": [
      "import BlobFinder\n",
      "import numpy as np\n",
      "import matplotlib.pyplot as plt\n",
      "from PIL import Image\n",
      "import requests\n",
      "from StringIO import StringIO\n",
      "import os\n",
      "\n",
      "def images(folder):\n",
      "    \"\"\" returns a list of pictures in a folder to be looked at \"\"\"\n",
      "    pictures = []\n",
      "\n",
      "    for file in os.listdir(folder):\n",
      "        if file.endswith(\".jpg\"):\n",
      "            pictures.append(file)\n",
      "\n",
      "    return pictures\n",
      "\n",
      "def movement(P,pictures,tau,delta):\n",
      "    \"\"\" returns a list of all distances between blobs from one frame to another \"\"\"\n",
      "    distance = []\n",
      "    m = 0\n",
      "    \n",
      "    # loop through all images\n",
      "    for i in range(0,199):\n",
      "        # open one picture and get all blobs with luminance threshold tau\n",
      "        picture1 = Image.open(pictures[i])\n",
      "        frame1 = BlobFinder.getBeads(P,picture1,tau)\n",
      "        # open next picture and get all blobs with luminance threshold tau\n",
      "        picture2 = Image.open(pictures[i+1])\n",
      "        frame2 = BlobFinder.getBeads(P,picture2,tau)\n",
      "        # keep track of how many blobs in each picture\n",
      "        beads1 = BlobFinder.countBeads(P,picture1,tau)\n",
      "        beads2 = BlobFinder.countBeads(P,picture2,tau)\n",
      "        \n",
      "        # loop through every blob in first picture\n",
      "        for blob in frame1:\n",
      "            dist = []\n",
      "            \n",
      "            for j in range(0,beads2):\n",
      "                # have a list of all possibilities of distances between current blob with all blobs\n",
      "                # in second frame and get the minimum\n",
      "                for i in range(0,beads2):\n",
      "                    dist.append(blob.distanceTo(frame2[i]))\n",
      "                low = min(dist)\n",
      "                \n",
      "                # if distance between two blobs is smallest and less than delta, add to list of distances\n",
      "                if blob.distanceTo(frame2[j]) < delta and blob.distanceTo(frame2[j]) <= low:\n",
      "                    distance.append(blob.distanceTo(frame2[j]))\n",
      "                    print \"distance \" + str(m)+ \" \" + str(distance[m])\n",
      "                    m = m + 1\n",
      "    return distance\n",
      "\n",
      "def writeFile(lst):\n",
      "    \"\"\" write all distances found to a txt file \"\"\"\n",
      "    # turn list of distances into array in order to use savetxt\n",
      "    myarray = np.asarray(lst)\n",
      "    arr = myarray.reshape(len(lst), 1)\n",
      "    np.savetxt('DistanceData.txt', arr, fmt='%5.4e', header=\"Distance Data\")\n",
      "\n",
      "    x = np.loadtxt('DistanceData.txt', unpack=True)\n",
      "    print x\n",
      "    \n",
      "pictures = images(\"run8\")\n",
      "distance = movement(25,pictures,180,20)\n",
      "writeFile(distance)"
     ],
     "language": "python",
     "metadata": {},
     "outputs": [
      {
       "output_type": "stream",
       "stream": "stdout",
       "text": [
        "distance 0 7.2952\n",
        "distance 1 4.819\n",
        "distance 2 2.1002\n",
        "distance 3 5.527\n",
        "distance 4 5.4356\n",
        "distance 5 4.4087\n",
        "distance 6 3.6486"
       ]
      },
      {
       "output_type": "stream",
       "stream": "stdout",
       "text": [
        "\n",
        "distance 7 4.6738"
       ]
      },
      {
       "output_type": "stream",
       "stream": "stdout",
       "text": [
        "\n",
        "distance 8 3.0642\n",
        "distance 9 4.894\n",
        "distance 10 4.8036\n",
        "distance 11 6.5152\n",
        "distance 12 4.5307\n",
        "distance 13 1.5615\n",
        "distance 14 4.8288\n",
        "distance 15 3.1202"
       ]
      },
      {
       "output_type": "stream",
       "stream": "stdout",
       "text": [
        "\n",
        "distance 16 1.2506"
       ]
      },
      {
       "output_type": "stream",
       "stream": "stdout",
       "text": [
        "\n",
        "distance 17 4.9994\n",
        "distance 18 8.7343\n",
        "distance 19 4.7833\n",
        "distance 20 6.0578\n",
        "distance 21 5.684"
       ]
      },
      {
       "output_type": "stream",
       "stream": "stdout",
       "text": [
        "\n",
        "distance 22 2.8892\n",
        "distance 23 7.0559\n",
        "distance 24 4.1893\n",
        "distance 25 8.465"
       ]
      },
      {
       "output_type": "stream",
       "stream": "stdout",
       "text": [
        "\n",
        "distance 26 4.9346\n",
        "distance 27 3.8963\n",
        "distance 28 5.3916\n",
        "distance 29 7.1384\n",
        "distance 30 0.7005"
       ]
      },
      {
       "output_type": "stream",
       "stream": "stdout",
       "text": [
        "\n",
        "distance 31 11.3121\n",
        "distance 32 2.3392\n",
        "distance 33 3.0315\n",
        "distance 34 2.0163"
       ]
      },
      {
       "output_type": "stream",
       "stream": "stdout",
       "text": [
        "\n",
        "distance 35 1.3962\n",
        "distance 36 5.5419\n",
        "distance 37 1.2115\n",
        "distance 38 2.0423\n",
        "distance 39 1.9922\n",
        "distance 40 3.1992\n",
        "distance 41 3.399\n",
        "distance 42 3.2935"
       ]
      },
      {
       "output_type": "stream",
       "stream": "stdout",
       "text": [
        "\n",
        "distance 43 4.9161"
       ]
      },
      {
       "output_type": "stream",
       "stream": "stdout",
       "text": [
        "\n",
        "distance 44 3.1157\n",
        "distance 45 4.559\n",
        "distance 46 5.1303\n",
        "distance 47 5.395\n",
        "distance 48 4.4611\n",
        "distance 49 6.0394\n",
        "distance 50 5.1826\n",
        "distance 51 3.3091"
       ]
      },
      {
       "output_type": "stream",
       "stream": "stdout",
       "text": [
        "\n",
        "distance 52 3.5915"
       ]
      },
      {
       "output_type": "stream",
       "stream": "stdout",
       "text": [
        "\n",
        "distance 53 3.5972\n",
        "distance 54 0.9332\n",
        "distance 55 4.8565\n",
        "distance 56 5.2057\n",
        "distance 57 5.3786\n",
        "distance 58 2.6338\n",
        "distance 59 7.5387"
       ]
      },
      {
       "output_type": "stream",
       "stream": "stdout",
       "text": [
        "\n",
        "distance 60 4.8213\n",
        "distance 61 1.5363"
       ]
      },
      {
       "output_type": "stream",
       "stream": "stdout",
       "text": [
        "\n",
        "distance 62 10.7817\n",
        "distance 63 3.9319\n",
        "distance 64 5.0423\n",
        "distance 65 5.7486\n",
        "distance 66 6.4109\n",
        "distance 67 2.3675\n",
        "distance 68 2.1228"
       ]
      },
      {
       "output_type": "stream",
       "stream": "stdout",
       "text": [
        "\n",
        "distance 69 5.4738\n",
        "distance 70 5.2142"
       ]
      },
      {
       "output_type": "stream",
       "stream": "stdout",
       "text": [
        "\n",
        "distance 71 6.7876\n",
        "distance 72 6.3786\n",
        "distance 73 2.5953\n",
        "distance 74 2.6274\n",
        "distance 75 10.2289\n",
        "distance 76 6.9063\n",
        "distance 77 5.2387\n",
        "distance 78 1.7012"
       ]
      },
      {
       "output_type": "stream",
       "stream": "stdout",
       "text": [
        "\n",
        "distance 79 4.9398\n",
        "distance 80 6.0286\n",
        "distance 81 3.569\n",
        "distance 82 7.8172\n",
        "distance 83 7.5083\n",
        "distance 84 2.5098\n",
        "distance 85 6.814\n",
        "distance 86 4.7806"
       ]
      },
      {
       "output_type": "stream",
       "stream": "stdout",
       "text": [
        "\n",
        "distance 87 1.824\n",
        "distance 88 4.9998\n",
        "distance 89 5.963\n",
        "distance 90 1.9889\n",
        "distance 91 2.4877\n",
        "distance 92 1.8684\n",
        "distance 93 6.5854"
       ]
      },
      {
       "output_type": "stream",
       "stream": "stdout",
       "text": [
        "\n",
        "distance 94 3.7435\n",
        "distance 95 5.0114\n",
        "distance 96 5.599\n",
        "distance 97 4.686\n",
        "distance 98 6.6867"
       ]
      },
      {
       "output_type": "stream",
       "stream": "stdout",
       "text": [
        "\n",
        "distance 99 9.2957\n",
        "distance 100 1.7132\n",
        "distance 101 12.1225\n",
        "distance 102 3.8794\n",
        "distance 103 8.0372\n",
        "distance 104 3.938"
       ]
      },
      {
       "output_type": "stream",
       "stream": "stdout",
       "text": [
        "\n",
        "distance 105 6.0734\n",
        "distance 106 9.3813\n",
        "distance 107 3.6967\n",
        "distance 108 3.5104\n",
        "distance 109 1.3884\n",
        "distance 110 0.5258\n",
        "distance 111 5.6729\n",
        "distance 112 8.8574"
       ]
      },
      {
       "output_type": "stream",
       "stream": "stdout",
       "text": [
        "\n",
        "distance 113 1.9522\n",
        "distance 114 4.2228\n",
        "distance 115 2.4878\n",
        "distance 116 3.4537\n",
        "distance 117 4.0955\n",
        "distance 118 7.5681\n",
        "distance 119 3.0632\n",
        "distance 120 6.1792\n",
        "distance 121 3.109"
       ]
      },
      {
       "output_type": "stream",
       "stream": "stdout",
       "text": [
        "\n",
        "distance 122 5.4811\n",
        "distance 123 5.4224\n",
        "distance 124 7.3939\n",
        "distance 125 2.8711\n",
        "distance 126 5.3458\n",
        "distance 127 1.0746"
       ]
      },
      {
       "output_type": "stream",
       "stream": "stdout",
       "text": [
        "\n",
        "distance 128 3.7015\n",
        "distance 129 5.5353\n",
        "distance 130 0.3884"
       ]
      },
      {
       "output_type": "stream",
       "stream": "stdout",
       "text": [
        "\n",
        "distance 131 8.7955\n",
        "distance 132 1.0141\n",
        "distance 133 5.5138\n",
        "distance 134 7.465\n",
        "distance 135 3.1858\n",
        "distance 136 4.6553"
       ]
      },
      {
       "output_type": "stream",
       "stream": "stdout",
       "text": [
        "\n",
        "distance 137 3.9085\n",
        "distance 138 1.9772\n",
        "distance 139 3.9927\n",
        "distance 140 3.1471"
       ]
      },
      {
       "output_type": "stream",
       "stream": "stdout",
       "text": [
        "\n",
        "distance 141 2.5947\n",
        "distance 142 5.1694\n",
        "distance 143 1.2747\n",
        "distance 144 1.3165\n",
        "distance 145 2.2201\n",
        "distance 146 5.3334\n",
        "distance 147 0.159\n",
        "distance 148 7.2756"
       ]
      },
      {
       "output_type": "stream",
       "stream": "stdout",
       "text": [
        "\n",
        "distance 149 3.9776\n",
        "distance 150 2.5969"
       ]
      },
      {
       "output_type": "stream",
       "stream": "stdout",
       "text": [
        "\n",
        "distance 151 5.3873\n",
        "distance 152 1.8568\n",
        "distance 153 4.3217\n",
        "distance 154 5.7587\n",
        "distance 155 5.5161\n",
        "distance 156 3.9605\n",
        "distance 157 6.7587"
       ]
      },
      {
       "output_type": "stream",
       "stream": "stdout",
       "text": [
        "\n",
        "distance 158 9.2478\n",
        "distance 159 1.69\n",
        "distance 160 5.8183\n",
        "distance 161 4.3154\n",
        "distance 162 8.1674\n",
        "distance 163 2.7538\n",
        "distance 164 9.2238"
       ]
      },
      {
       "output_type": "stream",
       "stream": "stdout",
       "text": [
        "\n",
        "distance 165 5.9974"
       ]
      },
      {
       "output_type": "stream",
       "stream": "stdout",
       "text": [
        "\n",
        "distance 166 7.3677\n",
        "distance 167 6.5715\n",
        "distance 168 4.5307\n",
        "distance 169 3.1513\n",
        "distance 170 2.394\n",
        "distance 171 5.3871"
       ]
      },
      {
       "output_type": "stream",
       "stream": "stdout",
       "text": [
        "\n",
        "distance 172 5.1728\n",
        "distance 173 3.3294"
       ]
      },
      {
       "output_type": "stream",
       "stream": "stdout",
       "text": [
        "\n",
        "distance 174 7.004\n",
        "distance 175 7.2741\n",
        "distance 176 0.2655\n",
        "distance 177 1.2001\n",
        "distance 178 3.4583\n",
        "distance 179 3.9097\n",
        "distance 180 4.7631\n",
        "distance 181 2.1529\n",
        "distance 182 7.629"
       ]
      },
      {
       "output_type": "stream",
       "stream": "stdout",
       "text": [
        "\n",
        "distance 183 2.3826\n",
        "distance 184 5.9491\n",
        "distance 185 6.2822\n",
        "distance 186 1.1236\n",
        "distance 187 3.6393\n",
        "distance 188 2.9048\n",
        "distance 189 0.3993\n",
        "distance 190 2.5973"
       ]
      },
      {
       "output_type": "stream",
       "stream": "stdout",
       "text": [
        "\n",
        "distance 191 5.7843\n",
        "distance 192 3.0475\n",
        "distance 193 5.9434\n",
        "distance 194 3.0552\n",
        "distance 195 5.4797\n",
        "distance 196 3.0534\n",
        "distance 197 1.4527"
       ]
      },
      {
       "output_type": "stream",
       "stream": "stdout",
       "text": [
        "\n",
        "distance 198 2.7931\n",
        "distance 199 3.4771\n",
        "distance 200 3.6496\n",
        "distance 201 3.5459\n",
        "distance 202 1.0598\n",
        "distance 203 0.7077\n",
        "distance 204 1.1814"
       ]
      },
      {
       "output_type": "stream",
       "stream": "stdout",
       "text": [
        "\n",
        "distance 205 8.0312\n",
        "distance 206 5.7473\n",
        "distance 207 1.6856\n",
        "distance 208 3.953\n",
        "distance 209 4.5068\n",
        "distance 210 1.8187\n",
        "distance 211 6.5572\n",
        "distance 212 1.6826"
       ]
      },
      {
       "output_type": "stream",
       "stream": "stdout",
       "text": [
        "\n",
        "distance 213 4.8351\n",
        "distance 214 8.6342\n",
        "distance 215 3.2311\n",
        "distance 216 7.8098\n",
        "distance 217 5.8537\n",
        "distance 218 3.1913\n",
        "distance 219 5.2245"
       ]
      },
      {
       "output_type": "stream",
       "stream": "stdout",
       "text": [
        "\n",
        "distance 220 5.6032\n",
        "distance 221 9.1082\n",
        "distance 222 2.359\n",
        "distance 223 0.6867\n",
        "distance 224 1.6482\n",
        "distance 225 4.1745\n",
        "distance 226 5.114"
       ]
      },
      {
       "output_type": "stream",
       "stream": "stdout",
       "text": [
        "\n",
        "distance 227 8.1461\n",
        "distance 228 10.2488\n",
        "distance 229 3.3534\n",
        "distance 230 4.593\n",
        "distance 231 5.1435\n",
        "distance 232 0.9243\n"
       ]
      },
      {
       "ename": "KeyboardInterrupt",
       "evalue": "",
       "output_type": "pyerr",
       "traceback": [
        "\u001b[1;31m---------------------------------------------------------------------------\u001b[0m\n\u001b[1;31mKeyboardInterrupt\u001b[0m                         Traceback (most recent call last)",
        "\u001b[1;32m<ipython-input-45-fd7cdfbdb6c3>\u001b[0m in \u001b[0;36m<module>\u001b[1;34m()\u001b[0m\n\u001b[0;32m     63\u001b[0m \u001b[1;33m\u001b[0m\u001b[0m\n\u001b[0;32m     64\u001b[0m \u001b[0mpictures\u001b[0m \u001b[1;33m=\u001b[0m \u001b[0mimages\u001b[0m\u001b[1;33m(\u001b[0m\u001b[1;34m\"run8\"\u001b[0m\u001b[1;33m)\u001b[0m\u001b[1;33m\u001b[0m\u001b[0m\n\u001b[1;32m---> 65\u001b[1;33m \u001b[0mdistance\u001b[0m \u001b[1;33m=\u001b[0m \u001b[0mmovement\u001b[0m\u001b[1;33m(\u001b[0m\u001b[1;36m25\u001b[0m\u001b[1;33m,\u001b[0m\u001b[0mpictures\u001b[0m\u001b[1;33m,\u001b[0m\u001b[1;36m180\u001b[0m\u001b[1;33m,\u001b[0m\u001b[1;36m20\u001b[0m\u001b[1;33m)\u001b[0m\u001b[1;33m\u001b[0m\u001b[0m\n\u001b[0m\u001b[0;32m     66\u001b[0m \u001b[0mwriteFile\u001b[0m\u001b[1;33m(\u001b[0m\u001b[0mdistance\u001b[0m\u001b[1;33m)\u001b[0m\u001b[1;33m\u001b[0m\u001b[0m\n",
        "\u001b[1;32m<ipython-input-45-fd7cdfbdb6c3>\u001b[0m in \u001b[0;36mmovement\u001b[1;34m(P, pictures, tau, delta)\u001b[0m\n\u001b[0;32m     29\u001b[0m         \u001b[1;31m# open next picture and get all blobs with luminance threshold tau\u001b[0m\u001b[1;33m\u001b[0m\u001b[1;33m\u001b[0m\u001b[0m\n\u001b[0;32m     30\u001b[0m         \u001b[0mpicture2\u001b[0m \u001b[1;33m=\u001b[0m \u001b[0mImage\u001b[0m\u001b[1;33m.\u001b[0m\u001b[0mopen\u001b[0m\u001b[1;33m(\u001b[0m\u001b[0mpictures\u001b[0m\u001b[1;33m[\u001b[0m\u001b[0mi\u001b[0m\u001b[1;33m+\u001b[0m\u001b[1;36m1\u001b[0m\u001b[1;33m]\u001b[0m\u001b[1;33m)\u001b[0m\u001b[1;33m\u001b[0m\u001b[0m\n\u001b[1;32m---> 31\u001b[1;33m         \u001b[0mframe2\u001b[0m \u001b[1;33m=\u001b[0m \u001b[0mBlobFinder\u001b[0m\u001b[1;33m.\u001b[0m\u001b[0mgetBeads\u001b[0m\u001b[1;33m(\u001b[0m\u001b[0mP\u001b[0m\u001b[1;33m,\u001b[0m\u001b[0mpicture2\u001b[0m\u001b[1;33m,\u001b[0m\u001b[0mtau\u001b[0m\u001b[1;33m)\u001b[0m\u001b[1;33m\u001b[0m\u001b[0m\n\u001b[0m\u001b[0;32m     32\u001b[0m         \u001b[1;31m# keep track of how many blobs in each picture\u001b[0m\u001b[1;33m\u001b[0m\u001b[1;33m\u001b[0m\u001b[0m\n\u001b[0;32m     33\u001b[0m         \u001b[0mbeads1\u001b[0m \u001b[1;33m=\u001b[0m \u001b[0mBlobFinder\u001b[0m\u001b[1;33m.\u001b[0m\u001b[0mcountBeads\u001b[0m\u001b[1;33m(\u001b[0m\u001b[0mP\u001b[0m\u001b[1;33m,\u001b[0m\u001b[0mpicture1\u001b[0m\u001b[1;33m,\u001b[0m\u001b[0mtau\u001b[0m\u001b[1;33m)\u001b[0m\u001b[1;33m\u001b[0m\u001b[0m\n",
        "\u001b[1;32mC:\\Users\\David Nguyen\\PHYS202-S14\\Project\\BlobFinder.py\u001b[0m in \u001b[0;36mgetBeads\u001b[1;34m(P, picture, tau)\u001b[0m\n\u001b[0;32m     96\u001b[0m \u001b[1;33m\u001b[0m\u001b[0m\n\u001b[0;32m     97\u001b[0m \u001b[1;33m\u001b[0m\u001b[0m\n\u001b[1;32m---> 98\u001b[1;33m \u001b[1;32mdef\u001b[0m \u001b[0mcountBeads\u001b[0m\u001b[1;33m(\u001b[0m\u001b[0mP\u001b[0m\u001b[1;33m,\u001b[0m\u001b[0mpicture\u001b[0m\u001b[1;33m,\u001b[0m\u001b[0mtau\u001b[0m\u001b[1;33m)\u001b[0m\u001b[1;33m:\u001b[0m\u001b[1;33m\u001b[0m\u001b[0m\n\u001b[0m\u001b[0;32m     99\u001b[0m     \u001b[1;34m\"\"\" returns the number of blobs with mass >= P pixels \"\"\"\u001b[0m\u001b[1;33m\u001b[0m\u001b[0m\n\u001b[0;32m    100\u001b[0m     \u001b[1;31m# get all blobs in a picture with luminance threshold tau\u001b[0m\u001b[1;33m\u001b[0m\u001b[1;33m\u001b[0m\u001b[0m\n",
        "\u001b[1;32mC:\\Users\\David Nguyen\\PHYS202-S14\\Project\\BlobFinder.py\u001b[0m in \u001b[0;36mBlobFinder\u001b[1;34m(picture, tau)\u001b[0m\n\u001b[0;32m     55\u001b[0m \u001b[1;32mdef\u001b[0m \u001b[0mBlobFinder\u001b[0m\u001b[1;33m(\u001b[0m\u001b[0mpicture\u001b[0m\u001b[1;33m,\u001b[0m \u001b[0mtau\u001b[0m\u001b[1;33m)\u001b[0m\u001b[1;33m:\u001b[0m\u001b[1;33m\u001b[0m\u001b[0m\n\u001b[0;32m     56\u001b[0m     \u001b[1;34m\"\"\" returns a list of all blobs in the picture using the luminance threshold tau \"\"\"\u001b[0m\u001b[1;33m\u001b[0m\u001b[0m\n\u001b[1;32m---> 57\u001b[1;33m     \u001b[1;31m# turns picture red and black first\u001b[0m\u001b[1;33m\u001b[0m\u001b[1;33m\u001b[0m\u001b[0m\n\u001b[0m\u001b[0;32m     58\u001b[0m     \u001b[0mmonochrome\u001b[0m\u001b[1;33m(\u001b[0m\u001b[0mpicture\u001b[0m\u001b[1;33m,\u001b[0m\u001b[0mtau\u001b[0m\u001b[1;33m)\u001b[0m\u001b[1;33m\u001b[0m\u001b[0m\n\u001b[0;32m     59\u001b[0m     \u001b[0mxsize\u001b[0m\u001b[1;33m,\u001b[0m \u001b[0mysize\u001b[0m \u001b[1;33m=\u001b[0m \u001b[0mpicture\u001b[0m\u001b[1;33m.\u001b[0m\u001b[0msize\u001b[0m\u001b[1;33m\u001b[0m\u001b[0m\n",
        "\u001b[1;31mKeyboardInterrupt\u001b[0m: "
       ]
      }
     ],
     "prompt_number": 45
    },
    {
     "cell_type": "code",
     "collapsed": false,
     "input": [
      "%pylab inline\n",
      "\n",
      "DataOut = column_stack(arr)\n",
      "savetxt('DistanceData.txt', DataOut)\n",
      "out = open('DistanceData.txt', 'w')    \n",
      "\n",
      "y = np.loadtxt('DistanceData.txt', unpack=True)\n",
      "print y"
     ],
     "language": "python",
     "metadata": {},
     "outputs": [
      {
       "output_type": "stream",
       "stream": "stdout",
       "text": [
        "Populating the interactive namespace from numpy and matplotlib\n",
        "[]\n"
       ]
      }
     ],
     "prompt_number": 44
    },
    {
     "cell_type": "code",
     "collapsed": false,
     "input": [
      "def AvogadrosNumber(lst):\n",
      "    \"\"\" returns estimate of Avogadro's number \"\"\"\n",
      "    delta_t = 0.5 # seconds\n",
      "    temp_sigma = 0.0\n",
      "    # loop through all distances\n",
      "    for i in range(0,len(distance)):\n",
      "        # equation to sigma squared\n",
      "        temp_sigma = temp_sigma + (distance[i]* 0.175*10**(-6))**2\n",
      "    sigma_squared = temp_sigma / (2*len(distance))\n",
      "    # print out sigma squared\n",
      "    print \"sigma_squared \" + str(sigma_squared)\n",
      "    \n",
      "    # equation of D -- in this case, D = sigma squared\n",
      "    D = sigma_squared /(2*delta_t)\n",
      "\n",
      "    # estimating Boltzmann constant\n",
      "    T = 297.0 # room temperature, Kelvin\n",
      "    nu = 9.135*(10**(-4)) # viscosity of water, N*s/m^2\n",
      "    ro = 0.5*(10**(-6)) # radius of beads, m\n",
      "    k = (D*6*np.pi*nu*ro) / T # Boltzmann constant, m^2*kg/s*K\n",
      "    \n",
      "    print \"Boltzmann \" + str(k)\n",
      "\n",
      "    \"\"\" estimating Avogadro's number \"\"\"\n",
      "    R = 8.31457 # J/K\u22c5mol\n",
      "    A = round(R/k,4)\n",
      "\n",
      "    return A\n",
      "\n",
      "# ROUND 4 DIGITS\n",
      "AvogadrosNumber(distance)"
     ],
     "language": "python",
     "metadata": {},
     "outputs": [
      {
       "output_type": "stream",
       "stream": "stdout",
       "text": [
        "sigma_squared 4.26458992189e-13\n",
        "Boltzmann 1.23623349406e-23\n"
       ]
      },
      {
       "metadata": {},
       "output_type": "pyout",
       "prompt_number": 40,
       "text": [
        "6.725727817537061e+23"
       ]
      }
     ],
     "prompt_number": 40
    },
    {
     "cell_type": "markdown",
     "metadata": {},
     "source": [
      "To Do:\n",
      "- Round to 4 digits\n",
      "- Write to file"
     ]
    },
    {
     "cell_type": "code",
     "collapsed": false,
     "input": [],
     "language": "python",
     "metadata": {},
     "outputs": []
    }
   ],
   "metadata": {}
  }
 ]
}