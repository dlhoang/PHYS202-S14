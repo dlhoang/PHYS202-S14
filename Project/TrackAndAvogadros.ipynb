{
 "metadata": {
  "name": "",
  "signature": "sha256:99eb0903b11966240019ee3d0a988f600ec51d7341f9558397af2822aa59f375"
 },
 "nbformat": 3,
 "nbformat_minor": 0,
 "worksheets": [
  {
   "cells": [
    {
     "cell_type": "code",
     "collapsed": false,
     "input": [
      "import BlobFinder\n",
      "import numpy as np\n",
      "import matplotlib.pyplot as plt\n",
      "from PIL import Image\n",
      "import requests\n",
      "from StringIO import StringIO\n",
      "\n",
      "def images():\n",
      "    frame = -1\n",
      "    pictures = []\n",
      "    default = 'frame00'\n",
      "    for i in range(0,200):\n",
      "        frame = frame + 1\n",
      "        digit = len(str(frame))\n",
      "        num = 3 - digit\n",
      "        pic = \"\".join([\"0\"]*num) + str(frame)\n",
      "        image = default + str(pic) + \".jpg\"\n",
      "        pictures.append(image)\n",
      "    return pictures\n",
      "\n",
      "def movement(P,pictures,tau,delta):\n",
      "    distance = []\n",
      "    m = 0\n",
      "    \n",
      "    for i in range(0,199):\n",
      "        picture1 = Image.open(pictures[i])\n",
      "        frame1 = BlobFinder.getBeads(P,picture1,tau)\n",
      "        picture2 = Image.open(pictures[i+1])\n",
      "        frame2 = BlobFinder.getBeads(P,picture2,tau)\n",
      "        beads1 = BlobFinder.countBeads(P,picture1,tau)\n",
      "        beads2 = BlobFinder.countBeads(P,picture2,tau)\n",
      "        \n",
      "        for blob in frame1:\n",
      "            dist = []\n",
      "            for j in range(0,beads2):\n",
      "                for i in range(0,beads2):\n",
      "                    dist.append(blob.distanceTo(frame2[i]))\n",
      "                low = min(dist)\n",
      "            \n",
      "                if blob.distanceTo(frame2[j]) < delta and blob.distanceTo(frame2[j]) <= low:\n",
      "                    distance.append(blob.distanceTo(frame2[j]))\n",
      "                    print str(m)+ \" \" + str(distance[m])\n",
      "                    m = m + 1\n",
      "    return distance\n",
      "\n",
      "def writeFile(lst):\n",
      "    out = open('DistanceData.txt', 'w')\n",
      "    # loadtxt, savetxt\n",
      "    out.writelines(\"%s \\n\" % item  for item in lst)\n",
      "    out.close()\n",
      "    \n",
      "pictures = images()\n",
      "distance = movement(25,pictures,180,20)\n",
      "writeFile(distance)"
     ],
     "language": "python",
     "metadata": {},
     "outputs": [
      {
       "output_type": "stream",
       "stream": "stdout",
       "text": [
        "0 7.2952\n",
        "1 4.819\n",
        "2 2.1002\n",
        "3 5.527\n",
        "4 5.4356"
       ]
      },
      {
       "output_type": "stream",
       "stream": "stdout",
       "text": [
        "\n",
        "5 4.4087\n",
        "6 3.6486\n",
        "7 4.6738"
       ]
      },
      {
       "output_type": "stream",
       "stream": "stdout",
       "text": [
        "\n",
        "8 3.0642\n",
        "9 4.894\n",
        "10 4.8036\n",
        "11 6.5152\n",
        "12 4.5307\n",
        "13 1.5615"
       ]
      },
      {
       "output_type": "stream",
       "stream": "stdout",
       "text": [
        "\n",
        "14 4.8288\n",
        "15 3.1202\n",
        "16 1.2506"
       ]
      },
      {
       "output_type": "stream",
       "stream": "stdout",
       "text": [
        "\n",
        "17 4.9994\n",
        "18 8.7343\n",
        "19 4.7833\n",
        "20 6.0578\n",
        "21 5.684"
       ]
      },
      {
       "output_type": "stream",
       "stream": "stdout",
       "text": [
        "\n",
        "22 2.8892\n",
        "23 7.0559\n",
        "24 4.1893\n",
        "25 8.465"
       ]
      },
      {
       "output_type": "stream",
       "stream": "stdout",
       "text": [
        "\n",
        "26 4.9346\n",
        "27 3.8963\n",
        "28 5.3916\n",
        "29 7.1384\n",
        "30 0.7005"
       ]
      },
      {
       "output_type": "stream",
       "stream": "stdout",
       "text": [
        "\n",
        "31 11.3121\n",
        "32 2.3392\n",
        "33 3.0315\n",
        "34 2.0163"
       ]
      },
      {
       "output_type": "stream",
       "stream": "stdout",
       "text": [
        "\n",
        "35 1.3962\n",
        "36 5.5419\n",
        "37 1.2115\n",
        "38 2.0423\n",
        "39 1.9922\n",
        "40 3.1992\n",
        "41 3.399"
       ]
      },
      {
       "output_type": "stream",
       "stream": "stdout",
       "text": [
        "\n",
        "42 3.2935\n",
        "43 4.9161"
       ]
      },
      {
       "output_type": "stream",
       "stream": "stdout",
       "text": [
        "\n",
        "44 3.1157\n",
        "45 4.559\n",
        "46 5.1303\n",
        "47 5.395\n",
        "48 4.4611\n",
        "49 6.0394"
       ]
      },
      {
       "output_type": "stream",
       "stream": "stdout",
       "text": [
        "\n",
        "50 5.1826\n",
        "51 3.3091\n",
        "52 3.5915"
       ]
      },
      {
       "output_type": "stream",
       "stream": "stdout",
       "text": [
        "\n",
        "53 3.5972\n",
        "54 0.9332\n",
        "55 4.8565\n",
        "56 5.2057\n",
        "57 5.3786\n",
        "58 2.6338\n",
        "59 7.5387\n",
        "60 4.8213"
       ]
      },
      {
       "output_type": "stream",
       "stream": "stdout",
       "text": [
        "\n",
        "61 1.5363"
       ]
      },
      {
       "output_type": "stream",
       "stream": "stdout",
       "text": [
        "\n",
        "62 10.7817\n",
        "63 3.9319\n",
        "64 5.0423\n",
        "65 5.7486\n",
        "66 6.4109\n",
        "67 2.3675\n",
        "68 2.1228\n",
        "69 5.4738"
       ]
      },
      {
       "output_type": "stream",
       "stream": "stdout",
       "text": [
        "\n",
        "70 5.2142"
       ]
      },
      {
       "output_type": "stream",
       "stream": "stdout",
       "text": [
        "\n",
        "71 6.7876\n",
        "72 6.3786\n",
        "73 2.5953\n",
        "74 2.6274\n",
        "75 10.2289\n",
        "76 6.9063\n",
        "77 5.2387\n",
        "78 1.7012"
       ]
      },
      {
       "output_type": "stream",
       "stream": "stdout",
       "text": [
        "\n",
        "79 4.9398\n",
        "80 6.0286\n",
        "81 3.569\n",
        "82 7.8172\n",
        "83 7.5083\n",
        "84 2.5098\n",
        "85 6.814"
       ]
      },
      {
       "output_type": "stream",
       "stream": "stdout",
       "text": [
        "\n",
        "86 4.7806"
       ]
      },
      {
       "output_type": "stream",
       "stream": "stdout",
       "text": [
        "\n",
        "87 1.824\n",
        "88 4.9998\n",
        "89 5.963\n",
        "90 1.9889\n",
        "91 2.4877\n",
        "92 1.8684\n",
        "93 6.5854"
       ]
      },
      {
       "output_type": "stream",
       "stream": "stdout",
       "text": [
        "\n",
        "94 3.7435\n",
        "95 5.0114\n",
        "96 5.599\n",
        "97 4.686\n",
        "98 6.6867"
       ]
      },
      {
       "output_type": "stream",
       "stream": "stdout",
       "text": [
        "\n",
        "99 9.2957\n",
        "100 1.7132\n",
        "101 12.1225\n",
        "102 3.8794\n",
        "103 8.0372\n",
        "104 3.938"
       ]
      },
      {
       "output_type": "stream",
       "stream": "stdout",
       "text": [
        "\n",
        "105 6.0734\n",
        "106 9.3813\n",
        "107 3.6967\n",
        "108 3.5104\n",
        "109 1.3884\n",
        "110 0.5258\n",
        "111 5.6729\n",
        "112 8.8574"
       ]
      },
      {
       "output_type": "stream",
       "stream": "stdout",
       "text": [
        "\n",
        "113 1.9522\n",
        "114 4.2228\n",
        "115 2.4878\n",
        "116 3.4537\n",
        "117 4.0955\n",
        "118 7.5681\n",
        "119 3.0632"
       ]
      },
      {
       "output_type": "stream",
       "stream": "stdout",
       "text": [
        "\n",
        "120 6.1792\n",
        "121 3.109"
       ]
      },
      {
       "output_type": "stream",
       "stream": "stdout",
       "text": [
        "\n",
        "122 5.4811\n",
        "123 5.4224\n",
        "124 7.3939\n",
        "125 2.8711\n",
        "126 5.3458\n",
        "127 1.0746\n",
        "128 3.7015"
       ]
      },
      {
       "output_type": "stream",
       "stream": "stdout",
       "text": [
        "\n",
        "129 5.5353\n",
        "130 0.3884"
       ]
      },
      {
       "output_type": "stream",
       "stream": "stdout",
       "text": [
        "\n",
        "131 8.7955\n",
        "132 1.0141\n",
        "133 5.5138\n",
        "134 7.465\n",
        "135 3.1858\n",
        "136 4.6553\n",
        "137 3.9085"
       ]
      },
      {
       "output_type": "stream",
       "stream": "stdout",
       "text": [
        "\n",
        "138 1.9772\n",
        "139 3.9927\n",
        "140 3.1471"
       ]
      },
      {
       "output_type": "stream",
       "stream": "stdout",
       "text": [
        "\n",
        "141 2.5947\n",
        "142 5.1694\n",
        "143 1.2747\n",
        "144 1.3165\n",
        "145 2.2201\n",
        "146 5.3334\n",
        "147 0.159"
       ]
      },
      {
       "output_type": "stream",
       "stream": "stdout",
       "text": [
        "\n",
        "148 7.2756\n",
        "149 3.9776\n",
        "150 2.5969"
       ]
      },
      {
       "output_type": "stream",
       "stream": "stdout",
       "text": [
        "\n",
        "151 5.3873\n",
        "152 1.8568\n",
        "153 4.3217\n",
        "154 5.7587\n",
        "155 5.5161\n",
        "156 3.9605\n",
        "157 6.7587"
       ]
      },
      {
       "output_type": "stream",
       "stream": "stdout",
       "text": [
        "\n",
        "158 9.2478\n",
        "159 1.69\n",
        "160 5.8183\n",
        "161 4.3154\n",
        "162 8.1674\n",
        "163 2.7538"
       ]
      },
      {
       "output_type": "stream",
       "stream": "stdout",
       "text": [
        "\n",
        "164 9.2238\n",
        "165 5.9974"
       ]
      },
      {
       "output_type": "stream",
       "stream": "stdout",
       "text": [
        "\n",
        "166 7.3677\n",
        "167 6.5715\n",
        "168 4.5307\n",
        "169 3.1513\n",
        "170 2.394\n",
        "171 5.3871\n",
        "172 5.1728\n",
        "173 3.3294"
       ]
      },
      {
       "output_type": "stream",
       "stream": "stdout",
       "text": [
        "\n",
        "174 7.004\n",
        "175 7.2741\n",
        "176 0.2655\n",
        "177 1.2001\n",
        "178 3.4583\n",
        "179 3.9097\n",
        "180 4.7631\n",
        "181 2.1529"
       ]
      },
      {
       "output_type": "stream",
       "stream": "stdout",
       "text": [
        "\n",
        "182 7.629"
       ]
      },
      {
       "output_type": "stream",
       "stream": "stdout",
       "text": [
        "\n",
        "183 2.3826\n",
        "184 5.9491\n",
        "185 6.2822\n",
        "186 1.1236\n",
        "187 3.6393\n",
        "188 2.9048"
       ]
      },
      {
       "output_type": "stream",
       "stream": "stdout",
       "text": [
        "\n",
        "189 0.3993\n",
        "190 2.5973"
       ]
      },
      {
       "output_type": "stream",
       "stream": "stdout",
       "text": [
        "\n",
        "191 5.7843\n",
        "192 3.0475\n",
        "193 5.9434\n",
        "194 3.0552\n",
        "195 5.4797\n",
        "196 3.0534\n",
        "197 1.4527"
       ]
      },
      {
       "output_type": "stream",
       "stream": "stdout",
       "text": [
        "\n",
        "198 2.7931\n",
        "199 3.4771\n",
        "200 3.6496\n",
        "201 3.5459\n",
        "202 1.0598\n",
        "203 0.7077\n",
        "204 1.1814"
       ]
      },
      {
       "output_type": "stream",
       "stream": "stdout",
       "text": [
        "\n",
        "205 8.0312\n",
        "206 5.7473\n",
        "207 1.6856\n",
        "208 3.953\n",
        "209 4.5068\n",
        "210 1.8187\n",
        "211 6.5572\n",
        "212 1.6826"
       ]
      },
      {
       "output_type": "stream",
       "stream": "stdout",
       "text": [
        "\n",
        "213 4.8351\n",
        "214 8.6342\n",
        "215 3.2311\n",
        "216 7.8098\n",
        "217 5.8537\n",
        "218 3.1913\n",
        "219 5.2245"
       ]
      },
      {
       "output_type": "stream",
       "stream": "stdout",
       "text": [
        "\n",
        "220 5.6032\n",
        "221 9.1082\n",
        "222 2.359\n",
        "223 0.6867\n",
        "224 1.6482\n",
        "225 4.1745\n",
        "226 5.114"
       ]
      },
      {
       "output_type": "stream",
       "stream": "stdout",
       "text": [
        "\n",
        "227 8.1461\n",
        "228 10.2488\n",
        "229 3.3534\n",
        "230 4.593\n",
        "231 5.1435\n",
        "232 0.9243\n",
        "233 4.0613"
       ]
      },
      {
       "output_type": "stream",
       "stream": "stdout",
       "text": [
        "\n",
        "234 4.2116\n",
        "235 4.6358\n",
        "236 2.1597\n",
        "237 4.0439\n",
        "238 2.09\n",
        "239 3.6186\n",
        "240 4.7906"
       ]
      },
      {
       "output_type": "stream",
       "stream": "stdout",
       "text": [
        "\n",
        "241 1.0471\n",
        "242 3.597\n",
        "243 7.6141\n",
        "244 4.3469\n",
        "245 4.5168\n",
        "246 2.1452\n",
        "247 1.22"
       ]
      },
      {
       "output_type": "stream",
       "stream": "stdout",
       "text": [
        "\n",
        "248 7.286\n",
        "249 5.4058\n",
        "250 5.4932\n",
        "251 3.9547\n",
        "252 6.5926\n",
        "253 4.1162\n",
        "254 6.4661"
       ]
      },
      {
       "output_type": "stream",
       "stream": "stdout",
       "text": [
        "\n",
        "255 0.6078\n",
        "256 4.0743\n",
        "257 6.4243\n",
        "258 4.473\n",
        "259 3.3614\n",
        "260 5.978\n",
        "261 3.3353"
       ]
      },
      {
       "output_type": "stream",
       "stream": "stdout",
       "text": [
        "\n",
        "262 8.1018\n",
        "263 3.7632\n",
        "264 4.5377\n",
        "265 1.2321\n",
        "266 2.4367\n",
        "267 5.4718\n",
        "268 6.738"
       ]
      },
      {
       "output_type": "stream",
       "stream": "stdout",
       "text": [
        "\n",
        "269 4.2452\n",
        "270 9.2486\n",
        "271 3.8126\n",
        "272 6.5071\n",
        "273 5.469\n",
        "274 11.2998\n",
        "275 3.3019"
       ]
      },
      {
       "output_type": "stream",
       "stream": "stdout",
       "text": [
        "\n",
        "276 3.3461\n",
        "277 0.9085\n",
        "278 2.0205\n",
        "279 8.9812\n",
        "280 5.8811\n",
        "281 5.6192\n",
        "282 4.5633"
       ]
      },
      {
       "output_type": "stream",
       "stream": "stdout",
       "text": [
        "\n",
        "283 5.3791\n",
        "284 1.4035\n",
        "285 5.3706\n",
        "286 5.0734\n",
        "287 5.9417\n",
        "288 6.8956\n",
        "289 6.0057"
       ]
      },
      {
       "output_type": "stream",
       "stream": "stdout",
       "text": [
        "\n",
        "290 7.3983\n",
        "291 1.4392\n",
        "292 4.2967\n",
        "293 2.9771\n",
        "294 4.8711\n",
        "295 5.8953\n",
        "296 8.5209"
       ]
      },
      {
       "output_type": "stream",
       "stream": "stdout",
       "text": [
        "\n",
        "297 1.7003\n",
        "298 2.4805\n",
        "299 5.2279\n",
        "300 3.4973\n",
        "301 4.9228\n",
        "302 2.9437"
       ]
      },
      {
       "output_type": "stream",
       "stream": "stdout",
       "text": [
        "\n",
        "303 2.6418\n",
        "304 6.9391\n",
        "305 9.955\n",
        "306 4.4488"
       ]
      },
      {
       "output_type": "stream",
       "stream": "stdout",
       "text": [
        "\n",
        "307 1.9508\n",
        "308 5.4206\n",
        "309 6.6561\n",
        "310 5.5197\n",
        "311 0.3092"
       ]
      },
      {
       "output_type": "stream",
       "stream": "stdout",
       "text": [
        "\n",
        "312 6.7829\n",
        "313 4.6744\n",
        "314 5.166\n",
        "315 2.6457\n",
        "316 8.9558"
       ]
      },
      {
       "output_type": "stream",
       "stream": "stdout",
       "text": [
        "\n",
        "317 5.3428\n",
        "318 4.763\n",
        "319 7.1088\n",
        "320 4.0337\n",
        "321 2.8733"
       ]
      },
      {
       "output_type": "stream",
       "stream": "stdout",
       "text": [
        "\n",
        "322 3.316\n",
        "323 4.5323\n",
        "324 6.2523\n",
        "325 0.7632\n",
        "326 8.7927"
       ]
      },
      {
       "output_type": "stream",
       "stream": "stdout",
       "text": [
        "\n",
        "327 7.3397\n",
        "328 0.8099\n",
        "329 8.9097\n",
        "330 5.4067\n",
        "331 2.7265"
       ]
      },
      {
       "output_type": "stream",
       "stream": "stdout",
       "text": [
        "\n",
        "332 1.7292\n",
        "333 7.2501\n",
        "334 6.3605\n",
        "335 6.176"
       ]
      },
      {
       "output_type": "stream",
       "stream": "stdout",
       "text": [
        "\n",
        "336 5.0788\n",
        "337 10.5335\n",
        "338 0.7812\n",
        "339 2.0306\n",
        "340 4.143"
       ]
      },
      {
       "output_type": "stream",
       "stream": "stdout",
       "text": [
        "\n",
        "341 4.7755\n",
        "342 5.9396\n",
        "343 2.7777\n",
        "344 2.3446"
       ]
      },
      {
       "output_type": "stream",
       "stream": "stdout",
       "text": [
        "\n",
        "345 3.9457\n",
        "346 4.7422\n",
        "347 10.9148\n",
        "348 4.4246"
       ]
      },
      {
       "output_type": "stream",
       "stream": "stdout",
       "text": [
        "\n",
        "349 3.9429\n",
        "350 6.3945\n",
        "351 5.984"
       ]
      },
      {
       "output_type": "stream",
       "stream": "stdout",
       "text": [
        "\n",
        "352 1.0223\n",
        "353 1.636\n",
        "354 4.3437\n",
        "355 1.5565"
       ]
      },
      {
       "output_type": "stream",
       "stream": "stdout",
       "text": [
        "\n",
        "356 3.8347\n",
        "357 7.5156\n",
        "358 6.7638\n",
        "359 5.0078"
       ]
      },
      {
       "output_type": "stream",
       "stream": "stdout",
       "text": [
        "\n",
        "360 12.4035\n",
        "361 5.7058\n",
        "362 3.9367\n",
        "363 3.4977"
       ]
      },
      {
       "output_type": "stream",
       "stream": "stdout",
       "text": [
        "\n",
        "364 8.146\n",
        "365 2.2864\n",
        "366 0.4761\n",
        "367 3.1806"
       ]
      },
      {
       "output_type": "stream",
       "stream": "stdout",
       "text": [
        "\n",
        "368 3.3291\n",
        "369 4.9902\n",
        "370 1.7372"
       ]
      },
      {
       "output_type": "stream",
       "stream": "stdout",
       "text": [
        "\n",
        "371 1.73\n",
        "372 7.1065\n",
        "373 1.5729"
       ]
      },
      {
       "output_type": "stream",
       "stream": "stdout",
       "text": [
        "\n",
        "374 1.6379\n",
        "375 3.4352\n",
        "376 3.074\n",
        "377 7.1356\n",
        "378 8.127"
       ]
      },
      {
       "output_type": "stream",
       "stream": "stdout",
       "text": [
        "\n",
        "379 4.266\n",
        "380 3.3248\n",
        "381 5.6202"
       ]
      },
      {
       "output_type": "stream",
       "stream": "stdout",
       "text": [
        "\n",
        "382 3.6412\n",
        "383 2.0366\n",
        "384 5.4423\n",
        "385 5.8463"
       ]
      },
      {
       "output_type": "stream",
       "stream": "stdout",
       "text": [
        "\n",
        "386 3.3732\n",
        "387 2.5108\n",
        "388 3.7192\n",
        "389 8.1902\n",
        "390 5.9676\n",
        "391 3.5687"
       ]
      },
      {
       "output_type": "stream",
       "stream": "stdout",
       "text": [
        "\n",
        "392 3.8897\n",
        "393 1.8349\n",
        "394 5.3661\n",
        "395 5.4764\n",
        "396 6.9926"
       ]
      },
      {
       "output_type": "stream",
       "stream": "stdout",
       "text": [
        "\n",
        "397 2.1965\n",
        "398 8.3739\n",
        "399 8.4038\n",
        "400 5.3763\n",
        "401 1.372"
       ]
      },
      {
       "output_type": "stream",
       "stream": "stdout",
       "text": [
        "\n",
        "402 4.8885\n",
        "403 2.6683\n",
        "404 0.8836\n",
        "405 4.9711\n",
        "406 5.2587"
       ]
      },
      {
       "output_type": "stream",
       "stream": "stdout",
       "text": [
        "\n",
        "407 2.0356\n",
        "408 6.0813\n",
        "409 3.9796\n",
        "410 10.3163\n",
        "411 4.3492\n",
        "412 5.2742"
       ]
      },
      {
       "output_type": "stream",
       "stream": "stdout",
       "text": [
        "\n",
        "413 2.2982\n",
        "414 4.3745\n",
        "415 3.0709\n",
        "416 4.289\n",
        "417 2.2073"
       ]
      },
      {
       "output_type": "stream",
       "stream": "stdout",
       "text": [
        "\n",
        "418 5.4734\n",
        "419 5.7784\n",
        "420 5.843\n",
        "421 2.7445"
       ]
      },
      {
       "output_type": "stream",
       "stream": "stdout",
       "text": [
        "\n",
        "422 7.8997\n",
        "423 3.8352\n",
        "424 2.6005\n",
        "425 0.4454"
       ]
      },
      {
       "output_type": "stream",
       "stream": "stdout",
       "text": [
        "\n",
        "426 5.2088\n",
        "427 2.5315\n",
        "428 7.2405\n",
        "429 11.1204\n",
        "430 3.4982"
       ]
      },
      {
       "output_type": "stream",
       "stream": "stdout",
       "text": [
        "\n",
        "431 4.7152\n",
        "432 2.5982\n",
        "433 10.4048"
       ]
      },
      {
       "output_type": "stream",
       "stream": "stdout",
       "text": [
        "\n",
        "434 4.9542\n",
        "435 4.4721"
       ]
      },
      {
       "output_type": "stream",
       "stream": "stdout",
       "text": [
        "\n",
        "436 3.6229\n",
        "437 5.4934\n",
        "438 4.442"
       ]
      },
      {
       "output_type": "stream",
       "stream": "stdout",
       "text": [
        "\n",
        "439 6.346\n",
        "440 2.3267\n",
        "441 5.2033"
       ]
      },
      {
       "output_type": "stream",
       "stream": "stdout",
       "text": [
        "\n",
        "442 10.0001\n",
        "443 2.9758\n",
        "444 4.6809"
       ]
      },
      {
       "output_type": "stream",
       "stream": "stdout",
       "text": [
        "\n",
        "445 7.5712\n",
        "446 2.1429\n",
        "447 5.0576\n",
        "448 2.0284"
       ]
      },
      {
       "output_type": "stream",
       "stream": "stdout",
       "text": [
        "\n",
        "449 9.3646\n",
        "450 1.9016\n",
        "451 6.2971\n",
        "452 3.7743\n",
        "453 5.0555\n",
        "454 5.0323"
       ]
      },
      {
       "output_type": "stream",
       "stream": "stdout",
       "text": [
        "\n",
        "455 12.7399\n",
        "456 6.1749\n",
        "457 6.0195\n",
        "458 4.5201\n",
        "459 4.3598\n",
        "460 7.1139"
       ]
      },
      {
       "output_type": "stream",
       "stream": "stdout",
       "text": [
        "\n",
        "461 2.507\n",
        "462 5.6112\n",
        "463 3.7258\n",
        "464 2.4729\n",
        "465 1.1476\n",
        "466 4.7237"
       ]
      },
      {
       "output_type": "stream",
       "stream": "stdout",
       "text": [
        "\n",
        "467 8.3563\n",
        "468 2.3891\n",
        "469 5.6526\n",
        "470 10.6301\n",
        "471 0.5137"
       ]
      },
      {
       "output_type": "stream",
       "stream": "stdout",
       "text": [
        "\n",
        "472 8.4175\n",
        "473 5.1191\n",
        "474 3.1786\n",
        "475 1.5724\n",
        "476 4.8462\n",
        "477 1.3482"
       ]
      },
      {
       "output_type": "stream",
       "stream": "stdout",
       "text": [
        "\n",
        "478 5.8968\n",
        "479 6.6429\n",
        "480 6.3806\n",
        "481 6.0103\n",
        "482 3.1222\n",
        "483 7.3594"
       ]
      },
      {
       "output_type": "stream",
       "stream": "stdout",
       "text": [
        "\n",
        "484 6.0199\n",
        "485 3.343\n",
        "486 2.7206\n",
        "487 7.6268\n",
        "488 1.3673\n",
        "489 3.0453"
       ]
      },
      {
       "output_type": "stream",
       "stream": "stdout",
       "text": [
        "\n",
        "490 3.9061\n",
        "491 4.7745\n",
        "492 2.3287\n",
        "493 2.7362\n",
        "494 4.8115\n",
        "495 1.9467\n",
        "496 3.4608\n",
        "497 2.7854"
       ]
      },
      {
       "output_type": "stream",
       "stream": "stdout",
       "text": [
        "\n",
        "498 3.1545\n",
        "499 7.8548\n",
        "500 4.4993\n",
        "501 0.7844\n",
        "502 8.9881\n",
        "503 2.3096"
       ]
      },
      {
       "output_type": "stream",
       "stream": "stdout",
       "text": [
        "\n",
        "504 5.7678\n",
        "505 6.0001\n",
        "506 3.9643\n",
        "507 6.4888\n",
        "508 2.7142\n",
        "509 6.0559\n",
        "510 4.1592"
       ]
      },
      {
       "output_type": "stream",
       "stream": "stdout",
       "text": [
        "\n",
        "511 4.3585\n",
        "512 9.0214\n",
        "513 3.6669\n",
        "514 4.7328\n",
        "515 4.4251\n",
        "516 0.8712\n",
        "517 4.4844"
       ]
      },
      {
       "output_type": "stream",
       "stream": "stdout",
       "text": [
        "\n",
        "518 4.8418\n",
        "519 8.233\n",
        "520 4.1947\n",
        "521 6.7874\n",
        "522 9.5313\n",
        "523 5.8024\n",
        "524 4.1816"
       ]
      },
      {
       "output_type": "stream",
       "stream": "stdout",
       "text": [
        "\n",
        "525 5.9333\n",
        "526 5.3657\n",
        "527 3.8849\n",
        "528 10.2793\n",
        "529 3.9266\n",
        "530 5.8266\n",
        "531 5.8077"
       ]
      },
      {
       "output_type": "stream",
       "stream": "stdout",
       "text": [
        "\n",
        "532 2.3022\n",
        "533 7.0021\n",
        "534 7.973\n",
        "535 7.4482\n",
        "536 4.0066\n",
        "537 2.5293\n",
        "538 4.7319\n",
        "539 6.3198"
       ]
      },
      {
       "output_type": "stream",
       "stream": "stdout",
       "text": [
        "\n",
        "540 9.4778\n",
        "541 6.1307\n",
        "542 5.8199\n",
        "543 2.6225\n",
        "544 4.1756\n",
        "545 5.1576\n",
        "546 11.6307"
       ]
      },
      {
       "output_type": "stream",
       "stream": "stdout",
       "text": [
        "\n",
        "547 1.6492"
       ]
      },
      {
       "output_type": "stream",
       "stream": "stdout",
       "text": [
        "\n",
        "548 6.0251\n",
        "549 9.591\n",
        "550 2.8557\n",
        "551 0.7061\n",
        "552 2.8192\n",
        "553 4.9699"
       ]
      },
      {
       "output_type": "stream",
       "stream": "stdout",
       "text": [
        "\n",
        "554 1.4471\n",
        "555 4.9261"
       ]
      },
      {
       "output_type": "stream",
       "stream": "stdout",
       "text": [
        "\n",
        "556 2.9654\n",
        "557 5.5678\n",
        "558 1.8284\n",
        "559 7.199\n",
        "560 2.361"
       ]
      },
      {
       "output_type": "stream",
       "stream": "stdout",
       "text": [
        "\n",
        "561 2.8298\n",
        "562 1.2205\n",
        "563 3.1972\n",
        "564 6.9102"
       ]
      },
      {
       "output_type": "stream",
       "stream": "stdout",
       "text": [
        "\n",
        "565 4.7728\n",
        "566 2.2484\n",
        "567 2.915\n",
        "568 8.7444\n",
        "569 2.6854\n",
        "570 3.1523"
       ]
      },
      {
       "output_type": "stream",
       "stream": "stdout",
       "text": [
        "\n",
        "571 4.1788\n",
        "572 5.3561\n",
        "573 14.3109\n",
        "574 2.1205"
       ]
      },
      {
       "output_type": "stream",
       "stream": "stdout",
       "text": [
        "\n",
        "575 6.3607\n",
        "576 4.9534\n",
        "577 4.3739\n",
        "578 3.693\n",
        "579 2.3415"
       ]
      },
      {
       "output_type": "stream",
       "stream": "stdout",
       "text": [
        "\n",
        "580 3.1164\n",
        "581 0.6141\n",
        "582 2.8712\n",
        "583 7.8605\n",
        "584 6.9715"
       ]
      },
      {
       "output_type": "stream",
       "stream": "stdout",
       "text": [
        "\n",
        "585 6.4481"
       ]
      },
      {
       "output_type": "stream",
       "stream": "stdout",
       "text": [
        "\n",
        "586 2.8543\n",
        "587 7.7696\n",
        "588 3.434\n",
        "589 2.8555\n",
        "590 2.0609"
       ]
      },
      {
       "output_type": "stream",
       "stream": "stdout",
       "text": [
        "\n",
        "591 3.2355\n",
        "592 5.2003\n",
        "593 1.4808\n",
        "594 7.9067\n",
        "595 4.4729"
       ]
      },
      {
       "output_type": "stream",
       "stream": "stdout",
       "text": [
        "\n",
        "596 4.776\n",
        "597 7.904\n",
        "598 5.8544\n",
        "599 2.0527\n",
        "600 2.0814\n",
        "601 5.9413"
       ]
      },
      {
       "output_type": "stream",
       "stream": "stdout",
       "text": [
        "\n",
        "602 6.0403\n",
        "603 0.6464\n",
        "604 5.2127"
       ]
      },
      {
       "output_type": "stream",
       "stream": "stdout",
       "text": [
        "\n",
        "605 4.6129\n",
        "606 13.8161\n",
        "607 7.5263\n",
        "608 2.165\n",
        "609 5.8238\n",
        "610 2.8926"
       ]
      },
      {
       "output_type": "stream",
       "stream": "stdout",
       "text": [
        "\n",
        "611 4.0678\n",
        "612 6.6341\n",
        "613 5.2976"
       ]
      },
      {
       "output_type": "stream",
       "stream": "stdout",
       "text": [
        "\n",
        "614 2.3513\n",
        "615 8.5899\n",
        "616 6.1181\n",
        "617 3.1025"
       ]
      },
      {
       "output_type": "stream",
       "stream": "stdout",
       "text": [
        "\n",
        "618 4.7423\n",
        "619 4.2536\n",
        "620 4.3975\n",
        "621 2.6561"
       ]
      },
      {
       "output_type": "stream",
       "stream": "stdout",
       "text": [
        "\n",
        "622 4.0469\n",
        "623 4.1289\n",
        "624 1.7424\n",
        "625 7.2984\n",
        "626 5.3296"
       ]
      },
      {
       "output_type": "stream",
       "stream": "stdout",
       "text": [
        "\n",
        "627 2.6945\n",
        "628 4.5594\n",
        "629 8.3755\n",
        "630 3.5953\n",
        "631 1.568"
       ]
      },
      {
       "output_type": "stream",
       "stream": "stdout",
       "text": [
        "\n",
        "632 5.2368\n",
        "633 1.4513\n",
        "634 4.6582\n",
        "635 7.1754\n",
        "636 4.1795"
       ]
      },
      {
       "output_type": "stream",
       "stream": "stdout",
       "text": [
        "\n",
        "637 1.7758\n",
        "638 10.3424\n",
        "639 10.5729\n",
        "640 5.5267\n",
        "641 1.713"
       ]
      },
      {
       "output_type": "stream",
       "stream": "stdout",
       "text": [
        "\n",
        "642 1.9021"
       ]
      },
      {
       "output_type": "stream",
       "stream": "stdout",
       "text": [
        "\n",
        "643 6.5036\n",
        "644 6.0733\n",
        "645 1.7888\n",
        "646 8.7883\n",
        "647 2.8051\n",
        "648 5.3213\n",
        "649 3.7509"
       ]
      },
      {
       "output_type": "stream",
       "stream": "stdout",
       "text": [
        "\n",
        "650 5.3181"
       ]
      },
      {
       "output_type": "stream",
       "stream": "stdout",
       "text": [
        "\n",
        "651 7.661\n",
        "652 0.7798\n",
        "653 8.8146\n",
        "654 4.5845\n",
        "655 5.8799\n",
        "656 6.4051\n",
        "657 2.0199"
       ]
      },
      {
       "output_type": "stream",
       "stream": "stdout",
       "text": [
        "\n",
        "658 0.5284"
       ]
      },
      {
       "output_type": "stream",
       "stream": "stdout",
       "text": [
        "\n",
        "659 3.1737\n",
        "660 1.8299\n",
        "661 4.4891\n",
        "662 7.5001\n",
        "663 7.498\n",
        "664 1.628"
       ]
      },
      {
       "output_type": "stream",
       "stream": "stdout",
       "text": [
        "\n",
        "665 5.4484\n",
        "666 3.7746\n",
        "667 4.5009"
       ]
      },
      {
       "output_type": "stream",
       "stream": "stdout",
       "text": [
        "\n",
        "668 6.4673\n",
        "669 3.3639\n",
        "670 6.7268\n",
        "671 4.0553\n",
        "672 2.0325"
       ]
      },
      {
       "output_type": "stream",
       "stream": "stdout",
       "text": [
        "\n",
        "673 3.279\n",
        "674 1.05\n",
        "675 8.3792"
       ]
      },
      {
       "output_type": "stream",
       "stream": "stdout",
       "text": [
        "\n",
        "676 3.3194\n",
        "677 4.203\n",
        "678 1.1318\n",
        "679 2.729"
       ]
      },
      {
       "output_type": "stream",
       "stream": "stdout",
       "text": [
        "\n",
        "680 4.5941\n",
        "681 2.1467\n",
        "682 3.6203\n",
        "683 9.818"
       ]
      },
      {
       "output_type": "stream",
       "stream": "stdout",
       "text": [
        "\n",
        "684 1.5939"
       ]
      },
      {
       "output_type": "stream",
       "stream": "stdout",
       "text": [
        "\n",
        "685 4.007\n",
        "686 4.86\n",
        "687 7.9117\n",
        "688 4.1719"
       ]
      },
      {
       "output_type": "stream",
       "stream": "stdout",
       "text": [
        "\n",
        "689 2.1103\n",
        "690 4.1877\n",
        "691 1.7353"
       ]
      },
      {
       "output_type": "stream",
       "stream": "stdout",
       "text": [
        "\n",
        "692 2.6212"
       ]
      },
      {
       "output_type": "stream",
       "stream": "stdout",
       "text": [
        "\n",
        "693 3.1153\n",
        "694 4.89\n",
        "695 5.6021\n",
        "696 7.9319"
       ]
      },
      {
       "output_type": "stream",
       "stream": "stdout",
       "text": [
        "\n",
        "697 3.6927\n",
        "698 6.3663\n",
        "699 3.7994\n",
        "700 5.3364"
       ]
      },
      {
       "output_type": "stream",
       "stream": "stdout",
       "text": [
        "\n",
        "701 3.4747"
       ]
      },
      {
       "output_type": "stream",
       "stream": "stdout",
       "text": [
        "\n",
        "702 1.9399\n",
        "703 6.5508\n",
        "704 4.27\n",
        "705 6.7951\n",
        "706 6.9413\n",
        "707 5.5049"
       ]
      },
      {
       "output_type": "stream",
       "stream": "stdout",
       "text": [
        "\n",
        "708 9.5637"
       ]
      },
      {
       "output_type": "stream",
       "stream": "stdout",
       "text": [
        "\n",
        "709 1.6806\n",
        "710 0.7242\n",
        "711 0.6473\n",
        "712 4.3217\n",
        "713 1.3113\n",
        "714 2.1257"
       ]
      },
      {
       "output_type": "stream",
       "stream": "stdout",
       "text": [
        "\n",
        "715 6.349\n",
        "716 2.2272\n",
        "717 1.9323\n",
        "718 7.8151"
       ]
      },
      {
       "output_type": "stream",
       "stream": "stdout",
       "text": [
        "\n",
        "719 4.2473\n",
        "720 4.3571\n",
        "721 3.4599\n",
        "722 6.9643\n",
        "723 3.2956"
       ]
      },
      {
       "output_type": "stream",
       "stream": "stdout",
       "text": [
        "\n",
        "724 2.7222\n",
        "725 6.32\n",
        "726 4.8126\n",
        "727 3.8932\n",
        "728 5.7169\n",
        "729 1.2973"
       ]
      },
      {
       "output_type": "stream",
       "stream": "stdout",
       "text": [
        "\n",
        "730 6.1506\n",
        "731 1.8574\n",
        "732 5.9831"
       ]
      },
      {
       "output_type": "stream",
       "stream": "stdout",
       "text": [
        "\n",
        "733 6.8291\n",
        "734 3.8563\n",
        "735 4.7786\n",
        "736 6.0896\n",
        "737 6.5734"
       ]
      },
      {
       "output_type": "stream",
       "stream": "stdout",
       "text": [
        "\n",
        "738 7.5404\n",
        "739 3.5771\n",
        "740 3.4807\n",
        "741 3.4892\n",
        "742 4.0871"
       ]
      },
      {
       "output_type": "stream",
       "stream": "stdout",
       "text": [
        "\n",
        "743 4.0624"
       ]
      },
      {
       "output_type": "stream",
       "stream": "stdout",
       "text": [
        "\n",
        "744 4.9971\n",
        "745 4.3324\n",
        "746 5.4287\n",
        "747 10.62\n",
        "748 7.035"
       ]
      },
      {
       "output_type": "stream",
       "stream": "stdout",
       "text": [
        "\n",
        "749 3.8763\n",
        "750 6.7991\n",
        "751 2.4783"
       ]
      },
      {
       "output_type": "stream",
       "stream": "stdout",
       "text": [
        "\n",
        "752 6.8069\n",
        "753 3.5582\n",
        "754 2.8167\n",
        "755 9.5938\n",
        "756 1.5526"
       ]
      },
      {
       "output_type": "stream",
       "stream": "stdout",
       "text": [
        "\n",
        "757 2.932\n",
        "758 1.0233"
       ]
      },
      {
       "output_type": "stream",
       "stream": "stdout",
       "text": [
        "\n",
        "759 7.2329\n",
        "760 6.461\n",
        "761 4.0731\n",
        "762 3.1785\n",
        "763 2.3318\n",
        "764 3.518\n",
        "765 5.643"
       ]
      },
      {
       "output_type": "stream",
       "stream": "stdout",
       "text": [
        "\n",
        "766 2.6089"
       ]
      },
      {
       "output_type": "stream",
       "stream": "stdout",
       "text": [
        "\n",
        "767 3.4727\n",
        "768 4.4881\n",
        "769 5.9665\n",
        "770 11.069"
       ]
      },
      {
       "output_type": "stream",
       "stream": "stdout",
       "text": [
        "\n",
        "771 3.3685\n",
        "772 1.4843\n",
        "773 5.5943"
       ]
      },
      {
       "output_type": "stream",
       "stream": "stdout",
       "text": [
        "\n",
        "774 5.2857\n",
        "775 2.75\n",
        "776 6.0196\n",
        "777 1.9542\n",
        "778 3.2411\n",
        "779 5.2525"
       ]
      },
      {
       "output_type": "stream",
       "stream": "stdout",
       "text": [
        "\n",
        "780 5.6337\n",
        "781 3.0111"
       ]
      },
      {
       "output_type": "stream",
       "stream": "stdout",
       "text": [
        "\n",
        "782 3.6204\n",
        "783 3.5524\n",
        "784 6.7896\n",
        "785 3.3982\n",
        "786 3.4413\n",
        "787 3.6926\n",
        "788 4.8175"
       ]
      },
      {
       "output_type": "stream",
       "stream": "stdout",
       "text": [
        "\n",
        "789 1.0886\n",
        "790 3.9985\n",
        "791 1.49\n",
        "792 8.5237\n",
        "793 0.3567\n",
        "794 2.6804\n",
        "795 4.7296"
       ]
      },
      {
       "output_type": "stream",
       "stream": "stdout",
       "text": [
        "\n",
        "796 3.5567\n",
        "797 0.947\n",
        "798 0.1987\n",
        "799 4.5799\n",
        "800 2.1376\n",
        "801 2.9778\n",
        "802 3.7999"
       ]
      },
      {
       "output_type": "stream",
       "stream": "stdout",
       "text": [
        "\n",
        "803 3.2814\n",
        "804 6.9785\n",
        "805 4.7834\n",
        "806 7.5647\n",
        "807 4.241\n",
        "808 2.4006\n",
        "809 1.3891"
       ]
      },
      {
       "output_type": "stream",
       "stream": "stdout",
       "text": [
        "\n",
        "810 2.5787\n",
        "811 2.1833\n",
        "812 5.4581\n",
        "813 6.0016\n",
        "814 1.9021\n",
        "815 6.142\n",
        "816 4.5225"
       ]
      },
      {
       "output_type": "stream",
       "stream": "stdout",
       "text": [
        "\n",
        "817 1.9541\n",
        "818 3.0951\n",
        "819 3.068\n",
        "820 4.1807\n",
        "821 9.7926\n",
        "822 6.4803\n",
        "823 2.1151\n",
        "824 7.0791"
       ]
      },
      {
       "output_type": "stream",
       "stream": "stdout",
       "text": [
        "\n",
        "825 7.9565\n",
        "826 8.6896\n",
        "827 4.6846\n",
        "828 2.8516\n",
        "829 5.0727\n",
        "830 9.0123"
       ]
      },
      {
       "output_type": "stream",
       "stream": "stdout",
       "text": [
        "\n",
        "831 4.5017\n",
        "832 2.4572\n",
        "833 3.4707\n",
        "834 9.8223\n",
        "835 2.0434\n",
        "836 7.2047\n",
        "837 4.2513"
       ]
      },
      {
       "output_type": "stream",
       "stream": "stdout",
       "text": [
        "\n",
        "838 6.0068"
       ]
      },
      {
       "output_type": "stream",
       "stream": "stdout",
       "text": [
        "\n",
        "839 6.1871\n",
        "840 6.0923\n",
        "841 2.0945\n",
        "842 4.451\n",
        "843 1.4258\n",
        "844 9.4373"
       ]
      },
      {
       "output_type": "stream",
       "stream": "stdout",
       "text": [
        "\n",
        "845 5.9855\n",
        "846 5.662\n",
        "847 7.678\n",
        "848 5.5836\n",
        "849 2.8201"
       ]
      },
      {
       "output_type": "stream",
       "stream": "stdout",
       "text": [
        "\n",
        "850 4.367\n",
        "851 5.3412\n",
        "852 4.0612\n",
        "853 9.1623\n",
        "854 3.8676"
       ]
      },
      {
       "output_type": "stream",
       "stream": "stdout",
       "text": [
        "\n",
        "855 6.3246\n",
        "856 2.4345\n",
        "857 3.2023\n",
        "858 0.5574\n",
        "859 3.1755\n",
        "860 5.966"
       ]
      },
      {
       "output_type": "stream",
       "stream": "stdout",
       "text": [
        "\n",
        "861 3.2928\n",
        "862 9.3717\n",
        "863 6.9539\n",
        "864 2.4048\n",
        "865 7.8562\n",
        "866 1.6291\n",
        "867 5.3939"
       ]
      },
      {
       "output_type": "stream",
       "stream": "stdout",
       "text": [
        "\n",
        "868 4.7516"
       ]
      },
      {
       "output_type": "stream",
       "stream": "stdout",
       "text": [
        "\n",
        "869 1.1501\n",
        "870 2.499\n",
        "871 4.4501\n",
        "872 7.9155\n",
        "873 1.1446"
       ]
      },
      {
       "output_type": "stream",
       "stream": "stdout",
       "text": [
        "\n",
        "874 5.788\n",
        "875 2.8398\n",
        "876 6.7534\n",
        "877 0.8841"
       ]
      },
      {
       "output_type": "stream",
       "stream": "stdout",
       "text": [
        "\n",
        "878 2.4701\n",
        "879 5.0016\n",
        "880 2.8611\n",
        "881 5.0779"
       ]
      },
      {
       "output_type": "stream",
       "stream": "stdout",
       "text": [
        "\n",
        "882 8.3374\n",
        "883 3.6413\n",
        "884 2.8855\n",
        "885 5.8418\n",
        "886 3.6752"
       ]
      },
      {
       "output_type": "stream",
       "stream": "stdout",
       "text": [
        "\n",
        "887 3.7066\n",
        "888 3.3375"
       ]
      },
      {
       "output_type": "stream",
       "stream": "stdout",
       "text": [
        "\n",
        "889 4.9441\n",
        "890 5.362\n",
        "891 4.4855\n",
        "892 7.0276\n",
        "893 9.8138"
       ]
      },
      {
       "output_type": "stream",
       "stream": "stdout",
       "text": [
        "\n",
        "894 5.4458\n",
        "895 4.6545\n",
        "896 6.5151\n",
        "897 5.6596"
       ]
      },
      {
       "output_type": "stream",
       "stream": "stdout",
       "text": [
        "\n",
        "898 2.8615\n",
        "899 4.3884"
       ]
      },
      {
       "output_type": "stream",
       "stream": "stdout",
       "text": [
        "\n",
        "900 8.8431\n",
        "901 3.7503\n",
        "902 7.0697\n",
        "903 3.9486\n",
        "904 4.5426"
       ]
      },
      {
       "output_type": "stream",
       "stream": "stdout",
       "text": [
        "\n",
        "905 8.3656\n",
        "906 4.8324\n",
        "907 4.3408\n",
        "908 4.6138\n",
        "909 5.0696"
       ]
      },
      {
       "output_type": "stream",
       "stream": "stdout",
       "text": [
        "\n",
        "910 8.1094\n",
        "911 5.52"
       ]
      },
      {
       "output_type": "stream",
       "stream": "stdout",
       "text": [
        "\n",
        "912 4.8115\n",
        "913 5.4888\n",
        "914 7.128\n",
        "915 1.3108\n",
        "916 1.5059\n",
        "917 5.9158"
       ]
      },
      {
       "output_type": "stream",
       "stream": "stdout",
       "text": [
        "\n",
        "918 6.4993\n",
        "919 7.2361\n",
        "920 0.7048\n",
        "921 3.1496\n",
        "922 18.8542"
       ]
      },
      {
       "output_type": "stream",
       "stream": "stdout",
       "text": [
        "\n",
        "923 9.0045\n",
        "924 4.2159\n",
        "925 2.4916\n",
        "926 4.591\n",
        "927 4.1196\n",
        "928 2.1969\n",
        "929 0.4764\n",
        "930 4.4669"
       ]
      },
      {
       "output_type": "stream",
       "stream": "stdout",
       "text": [
        "\n",
        "931 4.0087"
       ]
      },
      {
       "output_type": "stream",
       "stream": "stdout",
       "text": [
        "\n",
        "932 6.0269\n",
        "933 6.9302\n",
        "934 4.2133\n",
        "935 4.607\n",
        "936 0.9909\n",
        "937 2.7689"
       ]
      },
      {
       "output_type": "stream",
       "stream": "stdout",
       "text": [
        "\n",
        "938 6.5193"
       ]
      },
      {
       "output_type": "stream",
       "stream": "stdout",
       "text": [
        "\n",
        "939 0.8189\n",
        "940 4.7624\n",
        "941 2.82\n",
        "942 2.0738\n",
        "943 2.7663"
       ]
      },
      {
       "output_type": "stream",
       "stream": "stdout",
       "text": [
        "\n",
        "944 2.2232\n",
        "945 3.7276\n",
        "946 3.5512\n",
        "947 1.8857"
       ]
      },
      {
       "output_type": "stream",
       "stream": "stdout",
       "text": [
        "\n",
        "948 9.6318\n",
        "949 6.6131\n",
        "950 1.5463\n",
        "951 4.1409"
       ]
      },
      {
       "output_type": "stream",
       "stream": "stdout",
       "text": [
        "\n",
        "952 2.2808\n",
        "953 2.0093\n",
        "954 8.5269\n",
        "955 4.8227\n",
        "956 8.9549"
       ]
      },
      {
       "output_type": "stream",
       "stream": "stdout",
       "text": [
        "\n",
        "957 7.0553\n",
        "958 2.7961\n",
        "959 9.2915\n",
        "960 5.0515\n",
        "961 2.9858\n",
        "962 3.8886\n",
        "963 5.3218"
       ]
      },
      {
       "output_type": "stream",
       "stream": "stdout",
       "text": [
        "\n",
        "964 17.0835\n",
        "965 4.0741\n",
        "966 5.8173\n",
        "967 2.5723\n",
        "968 2.2443\n",
        "969 6.7039\n",
        "970 1.5784\n",
        "971 9.0763"
       ]
      },
      {
       "output_type": "stream",
       "stream": "stdout",
       "text": [
        "\n",
        "972 3.5207"
       ]
      },
      {
       "output_type": "stream",
       "stream": "stdout",
       "text": [
        "\n",
        "973 2.645\n",
        "974 2.1334\n",
        "975 9.2938\n",
        "976 12.2156\n",
        "977 5.2237"
       ]
      },
      {
       "output_type": "stream",
       "stream": "stdout",
       "text": [
        "\n",
        "978 2.3022\n",
        "979 4.0263\n",
        "980 9.6443"
       ]
      },
      {
       "output_type": "stream",
       "stream": "stdout",
       "text": [
        "\n",
        "981 1.8328\n",
        "982 2.0733\n",
        "983 8.9516\n",
        "984 1.5005\n",
        "985 4.5208\n",
        "986 3.954\n",
        "987 5.283\n",
        "988 8.1948"
       ]
      },
      {
       "output_type": "stream",
       "stream": "stdout",
       "text": [
        "\n",
        "989 3.3305\n",
        "990 2.5141\n",
        "991 0.9541\n",
        "992 4.7012"
       ]
      },
      {
       "output_type": "stream",
       "stream": "stdout",
       "text": [
        "\n",
        "993 5.5574\n",
        "994 6.3185\n",
        "995 3.7639\n",
        "996 6.5862"
       ]
      },
      {
       "output_type": "stream",
       "stream": "stdout",
       "text": [
        "\n",
        "997 2.0797\n",
        "998 7.0863\n",
        "999 6.5125\n",
        "1000 7.1815\n",
        "1001 7.2047\n",
        "1002 4.6658"
       ]
      },
      {
       "output_type": "stream",
       "stream": "stdout",
       "text": [
        "\n",
        "1003 5.7474\n",
        "1004 1.8169\n",
        "1005 8.25\n",
        "1006 1.5519\n",
        "1007 4.2042\n",
        "1008 6.282\n",
        "1009 6.9815"
       ]
      },
      {
       "output_type": "stream",
       "stream": "stdout",
       "text": [
        "\n",
        "1010 1.1434"
       ]
      },
      {
       "output_type": "stream",
       "stream": "stdout",
       "text": [
        "\n",
        "1011 8.4084\n",
        "1012 1.1018\n",
        "1013 1.4856\n",
        "1014 3.0324\n",
        "1015 10.5316"
       ]
      },
      {
       "output_type": "stream",
       "stream": "stdout",
       "text": [
        "\n",
        "1016 7.3675\n",
        "1017 5.2369\n",
        "1018 5.1816\n",
        "1019 8.4968"
       ]
      },
      {
       "output_type": "stream",
       "stream": "stdout",
       "text": [
        "\n",
        "1020 5.7102\n",
        "1021 3.0747\n",
        "1022 3.0783"
       ]
      },
      {
       "output_type": "stream",
       "stream": "stdout",
       "text": [
        "\n",
        "1023 1.9546\n",
        "1024 3.2913\n",
        "1025 2.5637\n",
        "1026 4.6819"
       ]
      },
      {
       "output_type": "stream",
       "stream": "stdout",
       "text": [
        "\n",
        "1027 4.8431\n",
        "1028 6.3415\n",
        "1029 1.3444\n",
        "1030 5.3296\n",
        "1031 3.5884"
       ]
      },
      {
       "output_type": "stream",
       "stream": "stdout",
       "text": [
        "\n",
        "1032 0.2653\n",
        "1033 0.7422\n",
        "1034 7.575\n",
        "1035 3.3729\n",
        "1036 6.6383"
       ]
      },
      {
       "output_type": "stream",
       "stream": "stdout",
       "text": [
        "\n",
        "1037 10.647\n",
        "1038 4.3569\n",
        "1039 4.475"
       ]
      },
      {
       "output_type": "stream",
       "stream": "stdout",
       "text": [
        "\n",
        "1040 2.8066\n",
        "1041 3.2185\n",
        "1042 1.128\n",
        "1043 4.5865"
       ]
      },
      {
       "output_type": "stream",
       "stream": "stdout",
       "text": [
        "\n",
        "1044 4.91\n",
        "1045 4.1635\n",
        "1046 3.5783"
       ]
      },
      {
       "output_type": "stream",
       "stream": "stdout",
       "text": [
        "\n",
        "1047 2.1409\n",
        "1048 3.5255\n",
        "1049 8.5947\n",
        "1050 3.7195\n",
        "1051 7.5156\n",
        "1052 6.5485"
       ]
      },
      {
       "output_type": "stream",
       "stream": "stdout",
       "text": [
        "\n",
        "1053 4.6045"
       ]
      },
      {
       "output_type": "stream",
       "stream": "stdout",
       "text": [
        "\n",
        "1054 8.1014\n",
        "1055 3.0784\n",
        "1056 9.0527\n",
        "1057 3.86\n",
        "1058 7.5218\n",
        "1059 6.2569"
       ]
      },
      {
       "output_type": "stream",
       "stream": "stdout",
       "text": [
        "\n",
        "1060 4.9929\n",
        "1061 4.0319\n",
        "1062 10.6525\n",
        "1063 1.1316\n",
        "1064 4.1112"
       ]
      },
      {
       "output_type": "stream",
       "stream": "stdout",
       "text": [
        "\n",
        "1065 4.3971\n",
        "1066 3.7713\n",
        "1067 5.0786\n",
        "1068 2.9847\n",
        "1069 6.0474\n",
        "1070 5.0879"
       ]
      },
      {
       "output_type": "stream",
       "stream": "stdout",
       "text": [
        "\n",
        "1071 2.7533\n",
        "1072 5.3802\n",
        "1073 4.8815\n",
        "1074 1.2728\n",
        "1075 2.1435"
       ]
      },
      {
       "output_type": "stream",
       "stream": "stdout",
       "text": [
        "\n",
        "1076 2.1587\n",
        "1077 7.2631"
       ]
      },
      {
       "output_type": "stream",
       "stream": "stdout",
       "text": [
        "\n",
        "1078 3.6546\n",
        "1079 4.4438\n",
        "1080 3.6936\n",
        "1081 8.7655\n",
        "1082 5.1647"
       ]
      },
      {
       "output_type": "stream",
       "stream": "stdout",
       "text": [
        "\n",
        "1083 2.1068\n",
        "1084 6.2753\n",
        "1085 7.3337\n",
        "1086 9.5921\n",
        "1087 4.4889"
       ]
      },
      {
       "output_type": "stream",
       "stream": "stdout",
       "text": [
        "\n",
        "1088 7.2798\n",
        "1089 3.2485\n",
        "1090 2.5604\n",
        "1091 1.1243\n",
        "1092 0.8938"
       ]
      },
      {
       "output_type": "stream",
       "stream": "stdout",
       "text": [
        "\n",
        "1093 2.1212\n",
        "1094 1.669\n",
        "1095 2.2321"
       ]
      },
      {
       "output_type": "stream",
       "stream": "stdout",
       "text": [
        "\n",
        "1096 7.5612\n",
        "1097 2.0881\n",
        "1098 7.7163\n",
        "1099 3.61"
       ]
      },
      {
       "output_type": "stream",
       "stream": "stdout",
       "text": [
        "\n",
        "1100 9.573\n",
        "1101 1.3957\n",
        "1102 7.934\n",
        "1103 5.0786\n",
        "1104 5.3116"
       ]
      },
      {
       "output_type": "stream",
       "stream": "stdout",
       "text": [
        "\n",
        "1105 2.9018\n",
        "1106 2.4737\n",
        "1107 1.4636\n",
        "1108 4.5251"
       ]
      },
      {
       "output_type": "stream",
       "stream": "stdout",
       "text": [
        "\n",
        "1109 6.2781\n",
        "1110 5.3933\n",
        "1111 1.4346"
       ]
      },
      {
       "output_type": "stream",
       "stream": "stdout",
       "text": [
        "\n",
        "1112 3.7235\n",
        "1113 1.8848\n",
        "1114 2.9028\n",
        "1115 2.9117"
       ]
      },
      {
       "output_type": "stream",
       "stream": "stdout",
       "text": [
        "\n",
        "1116 3.1138\n",
        "1117 4.5068\n",
        "1118 4.2735\n",
        "1119 4.1496\n",
        "1120 4.0227\n",
        "1121 4.846\n",
        "1122 8.541"
       ]
      },
      {
       "output_type": "stream",
       "stream": "stdout",
       "text": [
        "\n",
        "1123 8.2041\n",
        "1124 1.3837\n",
        "1125 9.067\n",
        "1126 1.7854\n",
        "1127 6.8685\n",
        "1128 7.4054\n",
        "1129 4.68"
       ]
      },
      {
       "output_type": "stream",
       "stream": "stdout",
       "text": [
        "\n",
        "1130 1.6167\n",
        "1131 10.5632\n",
        "1132 4.1883\n",
        "1133 8.7605\n",
        "1134 4.2319\n",
        "1135 3.1623\n",
        "1136 4.4329\n",
        "1137 3.264"
       ]
      },
      {
       "output_type": "stream",
       "stream": "stdout",
       "text": [
        "\n",
        "1138 4.0284\n",
        "1139 4.0461\n",
        "1140 3.8512\n",
        "1141 3.1243\n",
        "1142 8.8735\n",
        "1143 7.5059\n",
        "1144 4.9462\n",
        "1145 0.4054"
       ]
      },
      {
       "output_type": "stream",
       "stream": "stdout",
       "text": [
        "\n",
        "1146 12.221\n",
        "1147 5.3052\n",
        "1148 11.4297\n",
        "1149 11.1323\n",
        "1150 0.8919\n",
        "1151 0.1619"
       ]
      },
      {
       "output_type": "stream",
       "stream": "stdout",
       "text": [
        "\n",
        "1152 4.4273\n",
        "1153 3.583\n",
        "1154 10.964\n",
        "1155 0.7204\n",
        "1156 6.1374"
       ]
      },
      {
       "output_type": "stream",
       "stream": "stdout",
       "text": [
        "\n",
        "1157 0.6905\n",
        "1158 2.8664\n",
        "1159 3.2574\n",
        "1160 3.2161"
       ]
      },
      {
       "output_type": "stream",
       "stream": "stdout",
       "text": [
        "\n",
        "1161 4.9073\n",
        "1162 9.26"
       ]
      },
      {
       "output_type": "stream",
       "stream": "stdout",
       "text": [
        "\n",
        "1163 4.7989\n",
        "1164 2.0866"
       ]
      },
      {
       "output_type": "stream",
       "stream": "stdout",
       "text": [
        "\n",
        "1165 8.0032\n",
        "1166 3.848\n",
        "1167 0.4755"
       ]
      },
      {
       "output_type": "stream",
       "stream": "stdout",
       "text": [
        "\n",
        "1168 1.8901\n",
        "1169 2.527\n",
        "1170 3.0872\n",
        "1171 3.7281"
       ]
      },
      {
       "output_type": "stream",
       "stream": "stdout",
       "text": [
        "\n",
        "1172 5.8632\n",
        "1173 5.3459\n",
        "1174 3.1618\n",
        "1175 7.3118"
       ]
      },
      {
       "output_type": "stream",
       "stream": "stdout",
       "text": [
        "\n",
        "1176 4.4252\n",
        "1177 4.557\n",
        "1178 5.8782\n",
        "1179 2.5473"
       ]
      },
      {
       "output_type": "stream",
       "stream": "stdout",
       "text": [
        "\n",
        "1180 5.092\n",
        "1181 11.899\n",
        "1182 5.6418\n",
        "1183 9.9927\n",
        "1184 2.6709\n",
        "1185 3.4403"
       ]
      },
      {
       "output_type": "stream",
       "stream": "stdout",
       "text": [
        "\n",
        "1186 3.3995\n",
        "1187 6.0634\n",
        "1188 7.3834\n",
        "1189 6.294\n",
        "1190 5.0525\n",
        "1191 5.3113"
       ]
      },
      {
       "output_type": "stream",
       "stream": "stdout",
       "text": [
        "\n",
        "1192 5.9363\n",
        "1193 6.5799\n",
        "1194 1.2671\n",
        "1195 2.4727\n",
        "1196 2.9412"
       ]
      },
      {
       "output_type": "stream",
       "stream": "stdout",
       "text": [
        "\n",
        "1197 4.7574\n",
        "1198 4.4773\n",
        "1199 8.4168\n",
        "1200 7.1525\n",
        "1201 5.0537\n",
        "1202 3.4164"
       ]
      },
      {
       "output_type": "stream",
       "stream": "stdout",
       "text": [
        "\n",
        "1203 1.8131\n",
        "1204 6.0101\n",
        "1205 3.6316\n",
        "1206 6.0883\n",
        "1207 7.2573"
       ]
      },
      {
       "output_type": "stream",
       "stream": "stdout",
       "text": [
        "\n",
        "1208 4.4646\n",
        "1209 2.8637\n",
        "1210 5.0109"
       ]
      },
      {
       "output_type": "stream",
       "stream": "stdout",
       "text": [
        "\n",
        "1211 4.6465\n",
        "1212 8.3888\n",
        "1213 2.2225"
       ]
      },
      {
       "output_type": "stream",
       "stream": "stdout",
       "text": [
        "\n",
        "1214 7.4158\n",
        "1215 3.9773\n",
        "1216 0.4435\n",
        "1217 0.5885"
       ]
      },
      {
       "output_type": "stream",
       "stream": "stdout",
       "text": [
        "\n",
        "1218 5.3675\n",
        "1219 2.3969\n",
        "1220 4.2144\n",
        "1221 6.8395"
       ]
      },
      {
       "output_type": "stream",
       "stream": "stdout",
       "text": [
        "\n",
        "1222 2.4397\n",
        "1223 2.0961\n",
        "1224 4.9478"
       ]
      },
      {
       "output_type": "stream",
       "stream": "stdout",
       "text": [
        "\n",
        "1225 4.2623\n",
        "1226 9.2644\n",
        "1227 3.6986"
       ]
      },
      {
       "output_type": "stream",
       "stream": "stdout",
       "text": [
        "\n",
        "1228 5.7552\n",
        "1229 7.3075\n",
        "1230 3.924\n",
        "1231 6.2569"
       ]
      },
      {
       "output_type": "stream",
       "stream": "stdout",
       "text": [
        "\n",
        "1232 5.0418\n",
        "1233 5.0538\n",
        "1234 3.1576"
       ]
      },
      {
       "output_type": "stream",
       "stream": "stdout",
       "text": [
        "\n",
        "1235 6.5867\n",
        "1236 2.8719"
       ]
      },
      {
       "output_type": "stream",
       "stream": "stdout",
       "text": [
        "\n",
        "1237 2.9533"
       ]
      },
      {
       "output_type": "stream",
       "stream": "stdout",
       "text": [
        "\n",
        "1238 4.7006"
       ]
      },
      {
       "output_type": "stream",
       "stream": "stdout",
       "text": [
        "\n",
        "1239 8.3431\n",
        "1240 4.8549\n",
        "1241 3.6106\n",
        "1242 0.59"
       ]
      },
      {
       "output_type": "stream",
       "stream": "stdout",
       "text": [
        "\n",
        "1243 4.657\n",
        "1244 3.9202\n",
        "1245 6.6685\n"
       ]
      }
     ],
     "prompt_number": 34
    },
    {
     "cell_type": "code",
     "collapsed": false,
     "input": [
      "data = open(\"DistanceData.txt\")\n",
      "data.read()"
     ],
     "language": "python",
     "metadata": {},
     "outputs": [
      {
       "metadata": {},
       "output_type": "pyout",
       "prompt_number": 37,
       "text": [
        "'7.2952\\n4.819\\n2.1002\\n5.527\\n5.4356\\n4.4087\\n3.6486\\n4.6738\\n3.0642\\n4.894\\n4.8036\\n6.5152\\n4.5307\\n1.5615\\n4.8288\\n3.1202\\n1.2506\\n4.9994\\n8.7343\\n4.7833\\n6.0578\\n5.684\\n2.8892\\n7.0559\\n4.1893\\n8.465\\n4.9346\\n3.8963\\n5.3916\\n7.1384\\n0.7005\\n11.3121\\n2.3392\\n3.0315\\n2.0163\\n1.3962\\n5.5419\\n1.2115\\n2.0423\\n1.9922\\n3.1992\\n3.399\\n3.2935\\n4.9161\\n3.1157\\n4.559\\n5.1303\\n5.395\\n4.4611\\n6.0394\\n5.1826\\n3.3091\\n3.5915\\n3.5972\\n0.9332\\n4.8565\\n5.2057\\n5.3786\\n2.6338\\n7.5387\\n4.8213\\n1.5363\\n10.7817\\n3.9319\\n5.0423\\n5.7486\\n6.4109\\n2.3675\\n2.1228\\n5.4738\\n5.2142\\n6.7876\\n6.3786\\n2.5953\\n2.6274\\n10.2289\\n6.9063\\n5.2387\\n1.7012\\n4.9398\\n6.0286\\n3.569\\n7.8172\\n7.5083\\n2.5098\\n6.814\\n4.7806\\n1.824\\n4.9998\\n5.963\\n1.9889\\n2.4877\\n1.8684\\n6.5854\\n3.7435\\n5.0114\\n5.599\\n4.686\\n6.6867\\n9.2957\\n1.7132\\n12.1225\\n3.8794\\n8.0372\\n3.938\\n6.0734\\n9.3813\\n3.6967\\n3.5104\\n1.3884\\n0.5258\\n5.6729\\n8.8574\\n1.9522\\n4.2228\\n2.4878\\n3.4537\\n4.0955\\n7.5681\\n3.0632\\n6.1792\\n3.109\\n5.4811\\n5.4224\\n7.3939\\n2.8711\\n5.3458\\n1.0746\\n3.7015\\n5.5353\\n0.3884\\n8.7955\\n1.0141\\n5.5138\\n7.465\\n3.1858\\n4.6553\\n3.9085\\n1.9772\\n3.9927\\n3.1471\\n2.5947\\n5.1694\\n1.2747\\n1.3165\\n2.2201\\n5.3334\\n0.159\\n7.2756\\n3.9776\\n2.5969\\n5.3873\\n1.8568\\n4.3217\\n5.7587\\n5.5161\\n3.9605\\n6.7587\\n9.2478\\n1.69\\n5.8183\\n4.3154\\n8.1674\\n2.7538\\n9.2238\\n5.9974\\n7.3677\\n6.5715\\n4.5307\\n3.1513\\n2.394\\n5.3871\\n5.1728\\n3.3294\\n7.004\\n7.2741\\n0.2655\\n1.2001\\n3.4583\\n3.9097\\n4.7631\\n2.1529\\n7.629\\n2.3826\\n5.9491\\n6.2822\\n1.1236\\n3.6393\\n2.9048\\n0.3993\\n2.5973\\n5.7843\\n3.0475\\n5.9434\\n3.0552\\n5.4797\\n3.0534\\n1.4527\\n2.7931\\n3.4771\\n3.6496\\n3.5459\\n1.0598\\n0.7077\\n1.1814\\n8.0312\\n5.7473\\n1.6856\\n3.953\\n4.5068\\n1.8187\\n6.5572\\n1.6826\\n4.8351\\n8.6342\\n3.2311\\n7.8098\\n5.8537\\n3.1913\\n5.2245\\n5.6032\\n9.1082\\n2.359\\n0.6867\\n1.6482\\n4.1745\\n5.114\\n8.1461\\n10.2488\\n3.3534\\n4.593\\n5.1435\\n0.9243\\n4.0613\\n4.2116\\n4.6358\\n2.1597\\n4.0439\\n2.09\\n3.6186\\n4.7906\\n1.0471\\n3.597\\n7.6141\\n4.3469\\n4.5168\\n2.1452\\n1.22\\n7.286\\n5.4058\\n5.4932\\n3.9547\\n6.5926\\n4.1162\\n6.4661\\n0.6078\\n4.0743\\n6.4243\\n4.473\\n3.3614\\n5.978\\n3.3353\\n8.1018\\n3.7632\\n4.5377\\n1.2321\\n2.4367\\n5.4718\\n6.738\\n4.2452\\n9.2486\\n3.8126\\n6.5071\\n5.469\\n11.2998\\n3.3019\\n3.3461\\n0.9085\\n2.0205\\n8.9812\\n5.8811\\n5.6192\\n4.5633\\n5.3791\\n1.4035\\n5.3706\\n5.0734\\n5.9417\\n6.8956\\n6.0057\\n7.3983\\n1.4392\\n4.2967\\n2.9771\\n4.8711\\n5.8953\\n8.5209\\n1.7003\\n2.4805\\n5.2279\\n3.4973\\n4.9228\\n2.9437\\n2.6418\\n6.9391\\n9.955\\n4.4488\\n1.9508\\n5.4206\\n6.6561\\n5.5197\\n0.3092\\n6.7829\\n4.6744\\n5.166\\n2.6457\\n8.9558\\n5.3428\\n4.763\\n7.1088\\n4.0337\\n2.8733\\n3.316\\n4.5323\\n6.2523\\n0.7632\\n8.7927\\n7.3397\\n0.8099\\n8.9097\\n5.4067\\n2.7265\\n1.7292\\n7.2501\\n6.3605\\n6.176\\n5.0788\\n10.5335\\n0.7812\\n2.0306\\n4.143\\n4.7755\\n5.9396\\n2.7777\\n2.3446\\n3.9457\\n4.7422\\n10.9148\\n4.4246\\n3.9429\\n6.3945\\n5.984\\n1.0223\\n1.636\\n4.3437\\n1.5565\\n3.8347\\n7.5156\\n6.7638\\n5.0078\\n12.4035\\n5.7058\\n3.9367\\n3.4977\\n8.146\\n2.2864\\n0.4761\\n3.1806\\n3.3291\\n4.9902\\n1.7372\\n1.73\\n7.1065\\n1.5729\\n1.6379\\n3.4352\\n3.074\\n7.1356\\n8.127\\n4.266\\n3.3248\\n5.6202\\n3.6412\\n2.0366\\n5.4423\\n5.8463\\n3.3732\\n2.5108\\n3.7192\\n8.1902\\n5.9676\\n3.5687\\n3.8897\\n1.8349\\n5.3661\\n5.4764\\n6.9926\\n2.1965\\n8.3739\\n8.4038\\n5.3763\\n1.372\\n4.8885\\n2.6683\\n0.8836\\n4.9711\\n5.2587\\n2.0356\\n6.0813\\n3.9796\\n10.3163\\n4.3492\\n5.2742\\n2.2982\\n4.3745\\n3.0709\\n4.289\\n2.2073\\n5.4734\\n5.7784\\n5.843\\n2.7445\\n7.8997\\n3.8352\\n2.6005\\n0.4454\\n5.2088\\n2.5315\\n7.2405\\n11.1204\\n3.4982\\n4.7152\\n2.5982\\n10.4048\\n4.9542\\n4.4721\\n3.6229\\n5.4934\\n4.442\\n6.346\\n2.3267\\n5.2033\\n10.0001\\n2.9758\\n4.6809\\n7.5712\\n2.1429\\n5.0576\\n2.0284\\n9.3646\\n1.9016\\n6.2971\\n3.7743\\n5.0555\\n5.0323\\n12.7399\\n6.1749\\n6.0195\\n4.5201\\n4.3598\\n7.1139\\n2.507\\n5.6112\\n3.7258\\n2.4729\\n1.1476\\n4.7237\\n8.3563\\n2.3891\\n5.6526\\n10.6301\\n0.5137\\n8.4175\\n5.1191\\n3.1786\\n1.5724\\n4.8462\\n1.3482\\n5.8968\\n6.6429\\n6.3806\\n6.0103\\n3.1222\\n7.3594\\n6.0199\\n3.343\\n2.7206\\n7.6268\\n1.3673\\n3.0453\\n3.9061\\n4.7745\\n2.3287\\n2.7362\\n4.8115\\n1.9467\\n3.4608\\n2.7854\\n3.1545\\n7.8548\\n4.4993\\n0.7844\\n8.9881\\n2.3096\\n5.7678\\n6.0001\\n3.9643\\n6.4888\\n2.7142\\n6.0559\\n4.1592\\n4.3585\\n9.0214\\n3.6669\\n4.7328\\n4.4251\\n0.8712\\n4.4844\\n4.8418\\n8.233\\n4.1947\\n6.7874\\n9.5313\\n5.8024\\n4.1816\\n5.9333\\n5.3657\\n3.8849\\n10.2793\\n3.9266\\n5.8266\\n5.8077\\n2.3022\\n7.0021\\n7.973\\n7.4482\\n4.0066\\n2.5293\\n4.7319\\n6.3198\\n9.4778\\n6.1307\\n5.8199\\n2.6225\\n4.1756\\n5.1576\\n11.6307\\n1.6492\\n6.0251\\n9.591\\n2.8557\\n0.7061\\n2.8192\\n4.9699\\n1.4471\\n4.9261\\n2.9654\\n5.5678\\n1.8284\\n7.199\\n2.361\\n2.8298\\n1.2205\\n3.1972\\n6.9102\\n4.7728\\n2.2484\\n2.915\\n8.7444\\n2.6854\\n3.1523\\n4.1788\\n5.3561\\n14.3109\\n2.1205\\n6.3607\\n4.9534\\n4.3739\\n3.693\\n2.3415\\n3.1164\\n0.6141\\n2.8712\\n7.8605\\n6.9715\\n6.4481\\n2.8543\\n7.7696\\n3.434\\n2.8555\\n2.0609\\n3.2355\\n5.2003\\n1.4808\\n7.9067\\n4.4729\\n4.776\\n7.904\\n5.8544\\n2.0527\\n2.0814\\n5.9413\\n6.0403\\n0.6464\\n5.2127\\n4.6129\\n13.8161\\n7.5263\\n2.165\\n5.8238\\n2.8926\\n4.0678\\n6.6341\\n5.2976\\n2.3513\\n8.5899\\n6.1181\\n3.1025\\n4.7423\\n4.2536\\n4.3975\\n2.6561\\n4.0469\\n4.1289\\n1.7424\\n7.2984\\n5.3296\\n2.6945\\n4.5594\\n8.3755\\n3.5953\\n1.568\\n5.2368\\n1.4513\\n4.6582\\n7.1754\\n4.1795\\n1.7758\\n10.3424\\n10.5729\\n5.5267\\n1.713\\n1.9021\\n6.5036\\n6.0733\\n1.7888\\n8.7883\\n2.8051\\n5.3213\\n3.7509\\n5.3181\\n7.661\\n0.7798\\n8.8146\\n4.5845\\n5.8799\\n6.4051\\n2.0199\\n0.5284\\n3.1737\\n1.8299\\n4.4891\\n7.5001\\n7.498\\n1.628\\n5.4484\\n3.7746\\n4.5009\\n6.4673\\n3.3639\\n6.7268\\n4.0553\\n2.0325\\n3.279\\n1.05\\n8.3792\\n3.3194\\n4.203\\n1.1318\\n2.729\\n4.5941\\n2.1467\\n3.6203\\n9.818\\n1.5939\\n4.007\\n4.86\\n7.9117\\n4.1719\\n2.1103\\n4.1877\\n1.7353\\n2.6212\\n3.1153\\n4.89\\n5.6021\\n7.9319\\n3.6927\\n6.3663\\n3.7994\\n5.3364\\n3.4747\\n1.9399\\n6.5508\\n4.27\\n6.7951\\n6.9413\\n5.5049\\n9.5637\\n1.6806\\n0.7242\\n0.6473\\n4.3217\\n1.3113\\n2.1257\\n6.349\\n2.2272\\n1.9323\\n7.8151\\n4.2473\\n4.3571\\n3.4599\\n6.9643\\n3.2956\\n2.7222\\n6.32\\n4.8126\\n3.8932\\n5.7169\\n1.2973\\n6.1506\\n1.8574\\n5.9831\\n6.8291\\n3.8563\\n4.7786\\n6.0896\\n6.5734\\n7.5404\\n3.5771\\n3.4807\\n3.4892\\n4.0871\\n4.0624\\n4.9971\\n4.3324\\n5.4287\\n10.62\\n7.035\\n3.8763\\n6.7991\\n2.4783\\n6.8069\\n3.5582\\n2.8167\\n9.5938\\n1.5526\\n2.932\\n1.0233\\n7.2329\\n6.461\\n4.0731\\n3.1785\\n2.3318\\n3.518\\n5.643\\n2.6089\\n3.4727\\n4.4881\\n5.9665\\n11.069\\n3.3685\\n1.4843\\n5.5943\\n5.2857\\n2.75\\n6.0196\\n1.9542\\n3.2411\\n5.2525\\n5.6337\\n3.0111\\n3.6204\\n3.5524\\n6.7896\\n3.3982\\n3.4413\\n3.6926\\n4.8175\\n1.0886\\n3.9985\\n1.49\\n8.5237\\n0.3567\\n2.6804\\n4.7296\\n3.5567\\n0.947\\n0.1987\\n4.5799\\n2.1376\\n2.9778\\n3.7999\\n3.2814\\n6.9785\\n4.7834\\n7.5647\\n4.241\\n2.4006\\n1.3891\\n2.5787\\n2.1833\\n5.4581\\n6.0016\\n1.9021\\n6.142\\n4.5225\\n1.9541\\n3.0951\\n3.068\\n4.1807\\n9.7926\\n6.4803\\n2.1151\\n7.0791\\n7.9565\\n8.6896\\n4.6846\\n2.8516\\n5.0727\\n9.0123\\n4.5017\\n2.4572\\n3.4707\\n9.8223\\n2.0434\\n7.2047\\n4.2513\\n6.0068\\n6.1871\\n6.0923\\n2.0945\\n4.451\\n1.4258\\n9.4373\\n5.9855\\n5.662\\n7.678\\n5.5836\\n2.8201\\n4.367\\n5.3412\\n4.0612\\n9.1623\\n3.8676\\n6.3246\\n2.4345\\n3.2023\\n0.5574\\n3.1755\\n5.966\\n3.2928\\n9.3717\\n6.9539\\n2.4048\\n7.8562\\n1.6291\\n5.3939\\n4.7516\\n1.1501\\n2.499\\n4.4501\\n7.9155\\n1.1446\\n5.788\\n2.8398\\n6.7534\\n0.8841\\n2.4701\\n5.0016\\n2.8611\\n5.0779\\n8.3374\\n3.6413\\n2.8855\\n5.8418\\n3.6752\\n3.7066\\n3.3375\\n4.9441\\n5.362\\n4.4855\\n7.0276\\n9.8138\\n5.4458\\n4.6545\\n6.5151\\n5.6596\\n2.8615\\n4.3884\\n8.8431\\n3.7503\\n7.0697\\n3.9486\\n4.5426\\n8.3656\\n4.8324\\n4.3408\\n4.6138\\n5.0696\\n8.1094\\n5.52\\n4.8115\\n5.4888\\n7.128\\n1.3108\\n1.5059\\n5.9158\\n6.4993\\n7.2361\\n0.7048\\n3.1496\\n18.8542\\n9.0045\\n4.2159\\n2.4916\\n4.591\\n4.1196\\n2.1969\\n0.4764\\n4.4669\\n4.0087\\n6.0269\\n6.9302\\n4.2133\\n4.607\\n0.9909\\n2.7689\\n6.5193\\n0.8189\\n4.7624\\n2.82\\n2.0738\\n2.7663\\n2.2232\\n3.7276\\n3.5512\\n1.8857\\n9.6318\\n6.6131\\n1.5463\\n4.1409\\n2.2808\\n2.0093\\n8.5269\\n4.8227\\n8.9549\\n7.0553\\n2.7961\\n9.2915\\n5.0515\\n2.9858\\n3.8886\\n5.3218\\n17.0835\\n4.0741\\n5.8173\\n2.5723\\n2.2443\\n6.7039\\n1.5784\\n9.0763\\n3.5207\\n2.645\\n2.1334\\n9.2938\\n12.2156\\n5.2237\\n2.3022\\n4.0263\\n9.6443\\n1.8328\\n2.0733\\n8.9516\\n1.5005\\n4.5208\\n3.954\\n5.283\\n8.1948\\n3.3305\\n2.5141\\n0.9541\\n4.7012\\n5.5574\\n6.3185\\n3.7639\\n6.5862\\n2.0797\\n7.0863\\n6.5125\\n7.1815\\n7.2047\\n4.6658\\n5.7474\\n1.8169\\n8.25\\n1.5519\\n4.2042\\n6.282\\n6.9815\\n1.1434\\n8.4084\\n1.1018\\n1.4856\\n3.0324\\n10.5316\\n7.3675\\n5.2369\\n5.1816\\n8.4968\\n5.7102\\n3.0747\\n3.0783\\n1.9546\\n3.2913\\n2.5637\\n4.6819\\n4.8431\\n6.3415\\n1.3444\\n5.3296\\n3.5884\\n0.2653\\n0.7422\\n7.575\\n3.3729\\n6.6383\\n10.647\\n4.3569\\n4.475\\n2.8066\\n3.2185\\n1.128\\n4.5865\\n4.91\\n4.1635\\n3.5783\\n2.1409\\n3.5255\\n8.5947\\n3.7195\\n7.5156\\n6.5485\\n4.6045\\n8.1014\\n3.0784\\n9.0527\\n3.86\\n7.5218\\n6.2569\\n4.9929\\n4.0319\\n10.6525\\n1.1316\\n4.1112\\n4.3971\\n3.7713\\n5.0786\\n2.9847\\n6.0474\\n5.0879\\n2.7533\\n5.3802\\n4.8815\\n1.2728\\n2.1435\\n2.1587\\n7.2631\\n3.6546\\n4.4438\\n3.6936\\n8.7655\\n5.1647\\n2.1068\\n6.2753\\n7.3337\\n9.5921\\n4.4889\\n7.2798\\n3.2485\\n2.5604\\n1.1243\\n0.8938\\n2.1212\\n1.669\\n2.2321\\n7.5612\\n2.0881\\n7.7163\\n3.61\\n9.573\\n1.3957\\n7.934\\n5.0786\\n5.3116\\n2.9018\\n2.4737\\n1.4636\\n4.5251\\n6.2781\\n5.3933\\n1.4346\\n3.7235\\n1.8848\\n2.9028\\n2.9117\\n3.1138\\n4.5068\\n4.2735\\n4.1496\\n4.0227\\n4.846\\n8.541\\n8.2041\\n1.3837\\n9.067\\n1.7854\\n6.8685\\n7.4054\\n4.68\\n1.6167\\n10.5632\\n4.1883\\n8.7605\\n4.2319\\n3.1623\\n4.4329\\n3.264\\n4.0284\\n4.0461\\n3.8512\\n3.1243\\n8.8735\\n7.5059\\n4.9462\\n0.4054\\n12.221\\n5.3052\\n11.4297\\n11.1323\\n0.8919\\n0.1619\\n4.4273\\n3.583\\n10.964\\n0.7204\\n6.1374\\n0.6905\\n2.8664\\n3.2574\\n3.2161\\n4.9073\\n9.26\\n4.7989\\n2.0866\\n8.0032\\n3.848\\n0.4755\\n1.8901\\n2.527\\n3.0872\\n3.7281\\n5.8632\\n5.3459\\n3.1618\\n7.3118\\n4.4252\\n4.557\\n5.8782\\n2.5473\\n5.092\\n11.899\\n5.6418\\n9.9927\\n2.6709\\n3.4403\\n3.3995\\n6.0634\\n7.3834\\n6.294\\n5.0525\\n5.3113\\n5.9363\\n6.5799\\n1.2671\\n2.4727\\n2.9412\\n4.7574\\n4.4773\\n8.4168\\n7.1525\\n5.0537\\n3.4164\\n1.8131\\n6.0101\\n3.6316\\n6.0883\\n7.2573\\n4.4646\\n2.8637\\n5.0109\\n4.6465\\n8.3888\\n2.2225\\n7.4158\\n3.9773\\n0.4435\\n0.5885\\n5.3675\\n2.3969\\n4.2144\\n6.8395\\n2.4397\\n2.0961\\n4.9478\\n4.2623\\n9.2644\\n3.6986\\n5.7552\\n7.3075\\n3.924\\n6.2569\\n5.0418\\n5.0538\\n3.1576\\n6.5867\\n2.8719\\n2.9533\\n4.7006\\n8.3431\\n4.8549\\n3.6106\\n0.59\\n4.657\\n3.9202\\n6.6685\\n'"
       ]
      }
     ],
     "prompt_number": 37
    },
    {
     "cell_type": "code",
     "collapsed": false,
     "input": [
      "def AvogadrosNumber(lst):\n",
      "    \"\"\" estimating self-diffusion constant \"\"\"\n",
      "    delta_t = 0.5 # seconds\n",
      "    temp_sigma = 0.0\n",
      "    for i in range(0,len(distance)):\n",
      "        temp_sigma = temp_sigma + (distance[i]* 0.175*10**(-6))**2\n",
      "        \n",
      "    sigma_squared = temp_sigma / (2*len(distance))\n",
      "    print \"sigma_squared \" + str(sigma_squared)\n",
      "    \n",
      "    D = sigma_squared /(2*delta_t)\n",
      "\n",
      "    \"\"\" estimating Boltzmann constant \"\"\"\n",
      "    T = 297.0 # room temperature, Kelvin\n",
      "    nu = 9.135*(10**(-4)) # viscosity of water, N*s/m2\n",
      "    ro = 0.5*(10**(-6)) # radius of beads, m\n",
      "    k = (D*6*np.pi*nu*ro) / T\n",
      "    \n",
      "    print \"Boltzmann \" + str(k)\n",
      "\n",
      "    \"\"\" estimating Avogadro's number \"\"\"\n",
      "    R = 8.31457 # J/K\u22c5mol\n",
      "    A = round(R/k,4)\n",
      "\n",
      "    return A\n",
      "\n",
      "# ROUND 4 DIGITS\n",
      "AvogadrosNumber(distance)"
     ],
     "language": "python",
     "metadata": {},
     "outputs": [
      {
       "output_type": "stream",
       "stream": "stdout",
       "text": [
        "sigma_squared 4.26458992189e-13\n",
        "Boltzmann 1.23623349406e-23\n"
       ]
      },
      {
       "metadata": {},
       "output_type": "pyout",
       "prompt_number": 65,
       "text": [
        "6.725727817537061e+23"
       ]
      }
     ],
     "prompt_number": 65
    },
    {
     "cell_type": "markdown",
     "metadata": {},
     "source": [
      "To Do:\n",
      "- Round to 4 digits\n",
      "- Write to file"
     ]
    },
    {
     "cell_type": "code",
     "collapsed": false,
     "input": [],
     "language": "python",
     "metadata": {},
     "outputs": []
    }
   ],
   "metadata": {}
  }
 ]
}