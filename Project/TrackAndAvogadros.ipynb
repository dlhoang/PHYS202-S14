{
 "metadata": {
  "name": "",
  "signature": "sha256:563c5ba0a035dfa73b438dc09f2cd8055ef8cf3c5cbb36d4605bb17e985ab8b8"
 },
 "nbformat": 3,
 "nbformat_minor": 0,
 "worksheets": [
  {
   "cells": [
    {
     "cell_type": "code",
     "collapsed": false,
     "input": [
      "import BlobFinder\n",
      "import numpy as np\n",
      "import matplotlib.pyplot as plt\n",
      "from PIL import Image\n",
      "import requests\n",
      "from StringIO import StringIO\n",
      "import os\n",
      "\n",
      "def images(folder):\n",
      "    \"\"\" returns a list of pictures in a folder to be looked at \"\"\"\n",
      "    pictures = []\n",
      "\n",
      "    for file in os.listdir(folder):\n",
      "        if file.endswith(\".jpg\"):\n",
      "            filename = folder + \"/\" + file\n",
      "            pictures.append(filename)\n",
      "\n",
      "    return pictures\n",
      "\n",
      "def movement(P,pictures,tau,delta):\n",
      "    \"\"\" returns a list of all distances between blobs from one frame to another \"\"\"\n",
      "    distance = []\n",
      "    \n",
      "    # loop through all images\n",
      "    for i in range(0,len(pictures)-1):\n",
      "        # open one picture and get all blobs with luminance threshold tau\n",
      "        picture1 = Image.open(pictures[i])\n",
      "        frame1 = BlobFinder.getBeads(P,picture1,tau)\n",
      "        # open next picture and get all blobs with luminance threshold tau\n",
      "        picture2 = Image.open(pictures[i+1])\n",
      "        frame2 = BlobFinder.getBeads(P,picture2,tau)\n",
      "        # keep track of how many blobs in each picture\n",
      "        # beads1 = BlobFinder.countBeads(P,picture1,tau)\n",
      "        # beads2 = BlobFinder.countBeads(P,picture2,tau)\n",
      "        \n",
      "        # loop through every blob in first picture\n",
      "        for blob in frame1:\n",
      "            dist = []\n",
      "            \n",
      "            for j in xrange(len(frame2)):\n",
      "                # have a list of all possibilities of distances between current blob with all blobs\n",
      "                # in second frame and get the minimum\n",
      "                dist.append(blob.distanceTo(frame2[i]))\n",
      "                low = min(x for x in dist if x != 0.0)\n",
      "                \n",
      "            # if distance between two blobs is smallest and less than delta, add to list of distances\n",
      "            if low < delta:\n",
      "                distance.append(low)\n",
      "\n",
      "    return distance\n",
      "\n",
      "def writeFile(lst):\n",
      "    \"\"\" write all distances found to a txt file \"\"\"\n",
      "    # turn list of distances into array in order to use savetxt\n",
      "    myarray = np.asarray(distance)\n",
      "    arr = myarray.reshape(len(distance), 1)\n",
      "    np.savetxt('DistanceData.txt', arr, fmt='%5.4e', header=\"Distance Data\")\n",
      "\n",
      "    out = open('DistanceData.txt')\n",
      "    y = out.read()\n",
      "    print y\n",
      "    out.close()\n",
      "    \n",
      "pictures = images(\"run4\")\n",
      "distance = movement(25.,pictures,200.,10.)\n",
      "writeFile(distance)"
     ],
     "language": "python",
     "metadata": {},
     "outputs": [
      {
       "output_type": "stream",
       "stream": "stdout",
       "text": [
        "# Distance Data\n",
        "2.7300e-02\n",
        "3.0040e-01\n",
        "5.6660e-01\n",
        "\n"
       ]
      }
     ],
     "prompt_number": 57
    },
    {
     "cell_type": "code",
     "collapsed": false,
     "input": [],
     "language": "python",
     "metadata": {},
     "outputs": []
    },
    {
     "cell_type": "code",
     "collapsed": false,
     "input": [],
     "language": "python",
     "metadata": {},
     "outputs": []
    },
    {
     "cell_type": "code",
     "collapsed": false,
     "input": [],
     "language": "python",
     "metadata": {},
     "outputs": [],
     "prompt_number": 59
    },
    {
     "cell_type": "code",
     "collapsed": false,
     "input": [
      "def AvogadrosNumber(lst):\n",
      "    \"\"\" returns estimate of Avogadro's number \"\"\"\n",
      "    delta_t = 0.5 # seconds\n",
      "    temp_sigma = 0.0\n",
      "    # loop through all distances\n",
      "    for i in range(0,len(distance)):\n",
      "        # equation to sigma squared\n",
      "        temp_sigma = temp_sigma + (distance[i]* 0.175*10**(-6))**2\n",
      "    sigma_squared = temp_sigma / (2*len(distance))\n",
      "    # print out sigma squared\n",
      "    print \"sigma_squared \" + str(sigma_squared)\n",
      "    \n",
      "    # equation of D -- in this case, D = sigma squared\n",
      "    D = sigma_squared /(2*delta_t)\n",
      "\n",
      "    # estimating Boltzmann constant\n",
      "    T = 297.0 # room temperature, Kelvin\n",
      "    nu = 9.135*(10**(-4)) # viscosity of water, N*s/m^2\n",
      "    ro = 0.5*(10**(-6)) # radius of beads, m\n",
      "    k = (D*6*np.pi*nu*ro) / T # Boltzmann constant, m^2*kg/s*K\n",
      "    \n",
      "    print \"Boltzmann \" + str(k)\n",
      "\n",
      "    \"\"\" estimating Avogadro's number \"\"\"\n",
      "    R = 8.31457 # J/K\u22c5mol\n",
      "    A = (\"%.4e\" % (R/k))\n",
      "\n",
      "    return A\n",
      "\n",
      "# ROUND 4 DIGITS\n",
      "print AvogadrosNumber(distance)\n",
      "print ((1.3639e26 - 6.03e23) / 6.03e23)*100"
     ],
     "language": "python",
     "metadata": {},
     "outputs": [
      {
       "output_type": "stream",
       "stream": "stdout",
       "text": [
        "sigma_squared 2.10302390521e-15\n",
        "Boltzmann 6.09631556154e-26\n",
        "1.3639e+26\n",
        "22518.5737977\n"
       ]
      }
     ],
     "prompt_number": 58
    },
    {
     "cell_type": "code",
     "collapsed": false,
     "input": [],
     "language": "python",
     "metadata": {},
     "outputs": []
    }
   ],
   "metadata": {}
  }
 ]
}