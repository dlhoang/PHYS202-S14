{
 "metadata": {
  "name": "",
  "signature": "sha256:08a0be5782284f16727a4fa0a2b2bcb1ac0b4eea2dd0bfcbe9f999ea9672be9c"
 },
 "nbformat": 3,
 "nbformat_minor": 0,
 "worksheets": [
  {
   "cells": [
    {
     "cell_type": "code",
     "collapsed": false,
     "input": [
      "import BlobFinder\n",
      "import numpy as np\n",
      "import matplotlib.pyplot as plt\n",
      "from PIL import Image\n",
      "import requests\n",
      "from StringIO import StringIO"
     ],
     "language": "python",
     "metadata": {},
     "outputs": [],
     "prompt_number": 1
    },
    {
     "cell_type": "code",
     "collapsed": false,
     "input": [
      "# estimating self-diffusion constant\n",
      "D =\n",
      "\n",
      "# estimating Boltzmann constant\n",
      "T = 297 # room temperature, Kelvin\n",
      "nu = 9.135*(10**(-4)) # viscosity of water, N*s/m2\n",
      "ro = 0.5*(10**(-6)) # radius of beads, m\n",
      "k = (D*6*np.pi*nu*ro) / T\n",
      "\n",
      "# estimating Avogadro's number"
     ],
     "language": "python",
     "metadata": {},
     "outputs": []
    }
   ],
   "metadata": {}
  }
 ]
}