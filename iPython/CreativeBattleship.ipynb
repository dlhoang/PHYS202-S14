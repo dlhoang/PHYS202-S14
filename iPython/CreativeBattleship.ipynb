{
 "metadata": {
  "name": "",
  "signature": "sha256:e4dd301d50b578f4c1905ed756491e8f606ac4468f940e8418ef385466a69be6"
 },
 "nbformat": 3,
 "nbformat_minor": 0,
 "worksheets": [
  {
   "cells": [
    {
     "cell_type": "code",
     "collapsed": false,
     "input": [
      "# Import necessary libraries\n",
      "from random import randint\n",
      "from ipythonblocks import BlockGrid\n",
      "\n",
      "# Prompt user to enter size of board\n",
      "size = int(raw_input(\"Size of board: \"))\n",
      "\n",
      "# Propmt user to try again if size of board is not positive\n",
      "if size <= 0:\n",
      "    print \"Size of board must be greater than 0. Try again.\"\n",
      "    size = int(raw_input(\"Size of board: \"))\n",
      "\n",
      "# Create grid with desired size\n",
      "grid = BlockGrid(size, size, fill=(173, 216, 230))\n",
      "\n",
      "# Prompt user to enter desired ship size\n",
      "length = int(raw_input(\"Length of ship: \"))\n",
      "\n",
      "# Prompt user to try again if ship length is not positive or greater than board size\n",
      "if length <= 0:\n",
      "    print \"Length of ship must be greater than 0. Try again.\"\n",
      "\n",
      "if length > size:\n",
      "    print \"Length of ship must be smaller than board size. Try again.\"\n",
      "    length = int(raw_input(\"Length of ship: \"))\n",
      "\n",
      "# Create two empty lists to hold ship location   \n",
      "ship_row = list([])\n",
      "ship_col = list([])\n",
      "\n",
      "# Randomize ship orientation\n",
      "def ship_orientation(grid):\n",
      "    value = randint(0,1)\n",
      "    if value == 0:\n",
      "        return \"Vertical\"\n",
      "    elif value == 1:\n",
      "        return \"Horizontal\"\n",
      "             \n",
      "# Randomize the start of ship\n",
      "def start_row(grid):\n",
      "    return randint(0,grid.height-length)\n",
      "\n",
      "def start_col(grid):\n",
      "    return randint(0,grid.width-length)\n",
      "\n",
      "# Assign ship starting information to variables\n",
      "orient = ship_orientation(grid)\n",
      "start_row = start_row(grid)\n",
      "start_col = start_col(grid)\n",
      "\n",
      "# Store ship row values in list\n",
      "def ship_row_placement(grid):\n",
      "    for i in range(0,length):\n",
      "        if orient == \"Vertical\":\n",
      "            ship_row.append(start_row + i)\n",
      "            i = i + 1\n",
      "        \n",
      "        elif orient == \"Horizontal\":\n",
      "            ship_row.append(start_row)\n",
      "            i = i + 1           \n",
      "    return ship_row\n",
      " \n",
      "# Store ship column values in list\n",
      "def ship_col_placement(grid):\n",
      "    for i in range(0,length):\n",
      "        if orient == \"Vertical\":\n",
      "            ship_col.append(start_col)\n",
      "    \n",
      "        elif orient == \"Horizontal\":\n",
      "            ship_col.append(start_col + i)\n",
      "    return ship_col\n",
      "\n",
      "row = ship_row_placement(grid)\n",
      "col = ship_col_placement(grid)\n",
      "\n",
      "# Color in blocks where ship is placed\n",
      "for i in range(0,len(ship_row)):\n",
      "    grid[row[i],col[i]] = (100,0,0)\n",
      "\n",
      "# Prompt user to enter number of attempts they'd like\n",
      "limit = int(raw_input(\"Enter number of attempts desired: \"))\n",
      "\n",
      "# Number of hits is set to 0 at the start of game\n",
      "hit = 0\n",
      "\n",
      "# Start game\n",
      "print \"Let's play Battleship!\"\n",
      "\n",
      "for turn in range(0,limit):\n",
      "    # Let user know which attempt they're on   \n",
      "    print \"Turn\", turn + 1\n",
      "    \n",
      "    # Prompt user to enter guess\n",
      "    guess_row = int(raw_input(\"Guess Row: \"))\n",
      "    guess_col = int(raw_input(\"Guess Column: \"))\n",
      "    \n",
      "    # If else statements to consider casses where guess is off the grid, guess is repeated, or guess missed ship\n",
      "    while (guess_row >= grid.height or guess_row < 0 or guess_col >= grid.width or guess_col < 0):\n",
      "        print \"Oops, that's not even in the ocean. Try again.\"\n",
      "        guess_row = int(raw_input(\"Guess Row: \"))\n",
      "        guess_col = int(raw_input(\"Guess Column: \"))\n",
      "    if (grid[guess_row, guess_col].red == 0):\n",
      "        print \"You guessed that one already.\" \n",
      "    elif grid[guess_row, guess_col].red != 100 and grid[guess_row, guess_col].red != 255:\n",
      "        print \"You missed my ship.\"\n",
      "        grid[guess_row, guess_col] = (0,0,0)\n",
      "    \n",
      "    # When guess is correct, notify user it is a hit, change block to red, and increment the number of hits\n",
      "    for j in range(0,len(row)): \n",
      "        if guess_row == row[j] and guess_col == col[j]:\n",
      "            if grid[guess_row, guess_col].red == 255:\n",
      "                print \"You guessed that one already.\"\n",
      "            else:\n",
      "                hit = hit + 1\n",
      "                grid[guess_row, guess_col] = (255,0,0)\n",
      "                print \"A hit!\"\n",
      "                \n",
      "    # If entire ship is hit, player wins, game ends\n",
      "    if hit == len(row):\n",
      "        print \"You win!\"\n",
      "        break\n",
      "       \n",
      "    # if ship hasn't been sunk but number of attempts is up, player loses, game ends\n",
      "    if turn == limit -1:       \n",
      "        print \"Game Over!\"\n",
      "grid"
     ],
     "language": "python",
     "metadata": {},
     "outputs": [
      {
       "name": "stdout",
       "output_type": "stream",
       "stream": "stdout",
       "text": [
        "Size of board: 6\n"
       ]
      },
      {
       "name": "stdout",
       "output_type": "stream",
       "stream": "stdout",
       "text": [
        "Length of ship: 4\n"
       ]
      },
      {
       "name": "stdout",
       "output_type": "stream",
       "stream": "stdout",
       "text": [
        "Enter number of attempts desired: 20\n"
       ]
      },
      {
       "output_type": "stream",
       "stream": "stdout",
       "text": [
        "Let's play Battleship!\n",
        "Turn 1\n"
       ]
      },
      {
       "name": "stdout",
       "output_type": "stream",
       "stream": "stdout",
       "text": [
        "Guess Row: 0\n"
       ]
      },
      {
       "name": "stdout",
       "output_type": "stream",
       "stream": "stdout",
       "text": [
        "Guess Column: 0\n"
       ]
      },
      {
       "output_type": "stream",
       "stream": "stdout",
       "text": [
        "A hit!\n",
        "Turn 2\n"
       ]
      },
      {
       "name": "stdout",
       "output_type": "stream",
       "stream": "stdout",
       "text": [
        "Guess Row: 0\n"
       ]
      },
      {
       "name": "stdout",
       "output_type": "stream",
       "stream": "stdout",
       "text": [
        "Guess Column: 0\n"
       ]
      },
      {
       "output_type": "stream",
       "stream": "stdout",
       "text": [
        "You guessed that one already.\n",
        "Turn 3\n"
       ]
      },
      {
       "name": "stdout",
       "output_type": "stream",
       "stream": "stdout",
       "text": [
        "Guess Row: 1\n"
       ]
      },
      {
       "name": "stdout",
       "output_type": "stream",
       "stream": "stdout",
       "text": [
        "Guess Column: 0\n"
       ]
      },
      {
       "output_type": "stream",
       "stream": "stdout",
       "text": [
        "You missed my ship.\n",
        "Turn 4\n"
       ]
      },
      {
       "name": "stdout",
       "output_type": "stream",
       "stream": "stdout",
       "text": [
        "Guess Row: 0\n"
       ]
      },
      {
       "name": "stdout",
       "output_type": "stream",
       "stream": "stdout",
       "text": [
        "Guess Column: 1\n"
       ]
      },
      {
       "output_type": "stream",
       "stream": "stdout",
       "text": [
        "A hit!\n",
        "Turn 5\n"
       ]
      },
      {
       "name": "stdout",
       "output_type": "stream",
       "stream": "stdout",
       "text": [
        "Guess Row: 1\n"
       ]
      },
      {
       "name": "stdout",
       "output_type": "stream",
       "stream": "stdout",
       "text": [
        "Guess Column: 0\n"
       ]
      },
      {
       "output_type": "stream",
       "stream": "stdout",
       "text": [
        "You guessed that one already.\n",
        "Turn 6\n"
       ]
      },
      {
       "name": "stdout",
       "output_type": "stream",
       "stream": "stdout",
       "text": [
        "Guess Row: 0\n"
       ]
      },
      {
       "name": "stdout",
       "output_type": "stream",
       "stream": "stdout",
       "text": [
        "Guess Column: 2\n"
       ]
      },
      {
       "output_type": "stream",
       "stream": "stdout",
       "text": [
        "A hit!\n",
        "Turn 7\n"
       ]
      },
      {
       "name": "stdout",
       "output_type": "stream",
       "stream": "stdout",
       "text": [
        "Guess Row: 0\n"
       ]
      },
      {
       "name": "stdout",
       "output_type": "stream",
       "stream": "stdout",
       "text": [
        "Guess Column: 3\n"
       ]
      },
      {
       "output_type": "stream",
       "stream": "stdout",
       "text": [
        "A hit!\n",
        "You win!\n"
       ]
      },
      {
       "html": [
        "<style type=\"text/css\">table.blockgrid {border: none;} .blockgrid tr {border: none;} .blockgrid td {padding: 0px;} #blocks8728c9f3-23fd-4c67-b141-19f7cc206f2f td {border: 1px solid white;}</style><table id=\"blocks8728c9f3-23fd-4c67-b141-19f7cc206f2f\" class=\"blockgrid\"><tbody><tr><td title=\"Index: [0, 0]&#10;Color: (255, 0, 0)\" style=\"width: 20px; height: 20px;background-color: rgb(255, 0, 0);\"></td><td title=\"Index: [0, 1]&#10;Color: (255, 0, 0)\" style=\"width: 20px; height: 20px;background-color: rgb(255, 0, 0);\"></td><td title=\"Index: [0, 2]&#10;Color: (255, 0, 0)\" style=\"width: 20px; height: 20px;background-color: rgb(255, 0, 0);\"></td><td title=\"Index: [0, 3]&#10;Color: (255, 0, 0)\" style=\"width: 20px; height: 20px;background-color: rgb(255, 0, 0);\"></td><td title=\"Index: [0, 4]&#10;Color: (173, 216, 230)\" style=\"width: 20px; height: 20px;background-color: rgb(173, 216, 230);\"></td><td title=\"Index: [0, 5]&#10;Color: (173, 216, 230)\" style=\"width: 20px; height: 20px;background-color: rgb(173, 216, 230);\"></td></tr><tr><td title=\"Index: [1, 0]&#10;Color: (0, 0, 0)\" style=\"width: 20px; height: 20px;background-color: rgb(0, 0, 0);\"></td><td title=\"Index: [1, 1]&#10;Color: (173, 216, 230)\" style=\"width: 20px; height: 20px;background-color: rgb(173, 216, 230);\"></td><td title=\"Index: [1, 2]&#10;Color: (173, 216, 230)\" style=\"width: 20px; height: 20px;background-color: rgb(173, 216, 230);\"></td><td title=\"Index: [1, 3]&#10;Color: (173, 216, 230)\" style=\"width: 20px; height: 20px;background-color: rgb(173, 216, 230);\"></td><td title=\"Index: [1, 4]&#10;Color: (173, 216, 230)\" style=\"width: 20px; height: 20px;background-color: rgb(173, 216, 230);\"></td><td title=\"Index: [1, 5]&#10;Color: (173, 216, 230)\" style=\"width: 20px; height: 20px;background-color: rgb(173, 216, 230);\"></td></tr><tr><td title=\"Index: [2, 0]&#10;Color: (173, 216, 230)\" style=\"width: 20px; height: 20px;background-color: rgb(173, 216, 230);\"></td><td title=\"Index: [2, 1]&#10;Color: (173, 216, 230)\" style=\"width: 20px; height: 20px;background-color: rgb(173, 216, 230);\"></td><td title=\"Index: [2, 2]&#10;Color: (173, 216, 230)\" style=\"width: 20px; height: 20px;background-color: rgb(173, 216, 230);\"></td><td title=\"Index: [2, 3]&#10;Color: (173, 216, 230)\" style=\"width: 20px; height: 20px;background-color: rgb(173, 216, 230);\"></td><td title=\"Index: [2, 4]&#10;Color: (173, 216, 230)\" style=\"width: 20px; height: 20px;background-color: rgb(173, 216, 230);\"></td><td title=\"Index: [2, 5]&#10;Color: (173, 216, 230)\" style=\"width: 20px; height: 20px;background-color: rgb(173, 216, 230);\"></td></tr><tr><td title=\"Index: [3, 0]&#10;Color: (173, 216, 230)\" style=\"width: 20px; height: 20px;background-color: rgb(173, 216, 230);\"></td><td title=\"Index: [3, 1]&#10;Color: (173, 216, 230)\" style=\"width: 20px; height: 20px;background-color: rgb(173, 216, 230);\"></td><td title=\"Index: [3, 2]&#10;Color: (173, 216, 230)\" style=\"width: 20px; height: 20px;background-color: rgb(173, 216, 230);\"></td><td title=\"Index: [3, 3]&#10;Color: (173, 216, 230)\" style=\"width: 20px; height: 20px;background-color: rgb(173, 216, 230);\"></td><td title=\"Index: [3, 4]&#10;Color: (173, 216, 230)\" style=\"width: 20px; height: 20px;background-color: rgb(173, 216, 230);\"></td><td title=\"Index: [3, 5]&#10;Color: (173, 216, 230)\" style=\"width: 20px; height: 20px;background-color: rgb(173, 216, 230);\"></td></tr><tr><td title=\"Index: [4, 0]&#10;Color: (173, 216, 230)\" style=\"width: 20px; height: 20px;background-color: rgb(173, 216, 230);\"></td><td title=\"Index: [4, 1]&#10;Color: (173, 216, 230)\" style=\"width: 20px; height: 20px;background-color: rgb(173, 216, 230);\"></td><td title=\"Index: [4, 2]&#10;Color: (173, 216, 230)\" style=\"width: 20px; height: 20px;background-color: rgb(173, 216, 230);\"></td><td title=\"Index: [4, 3]&#10;Color: (173, 216, 230)\" style=\"width: 20px; height: 20px;background-color: rgb(173, 216, 230);\"></td><td title=\"Index: [4, 4]&#10;Color: (173, 216, 230)\" style=\"width: 20px; height: 20px;background-color: rgb(173, 216, 230);\"></td><td title=\"Index: [4, 5]&#10;Color: (173, 216, 230)\" style=\"width: 20px; height: 20px;background-color: rgb(173, 216, 230);\"></td></tr><tr><td title=\"Index: [5, 0]&#10;Color: (173, 216, 230)\" style=\"width: 20px; height: 20px;background-color: rgb(173, 216, 230);\"></td><td title=\"Index: [5, 1]&#10;Color: (173, 216, 230)\" style=\"width: 20px; height: 20px;background-color: rgb(173, 216, 230);\"></td><td title=\"Index: [5, 2]&#10;Color: (173, 216, 230)\" style=\"width: 20px; height: 20px;background-color: rgb(173, 216, 230);\"></td><td title=\"Index: [5, 3]&#10;Color: (173, 216, 230)\" style=\"width: 20px; height: 20px;background-color: rgb(173, 216, 230);\"></td><td title=\"Index: [5, 4]&#10;Color: (173, 216, 230)\" style=\"width: 20px; height: 20px;background-color: rgb(173, 216, 230);\"></td><td title=\"Index: [5, 5]&#10;Color: (173, 216, 230)\" style=\"width: 20px; height: 20px;background-color: rgb(173, 216, 230);\"></td></tr></tbody></table>"
       ],
       "metadata": {},
       "output_type": "pyout",
       "prompt_number": 2,
       "text": [
        "<ipythonblocks.ipythonblocks.BlockGrid at 0x293ecd0>"
       ]
      }
     ],
     "prompt_number": 2
    },
    {
     "cell_type": "code",
     "collapsed": false,
     "input": [
      "# Import necessary libraries\n",
      "from random import randint\n",
      "from ipythonblocks import BlockGrid\n",
      "\n",
      "# Prompt user to enter size of board\n",
      "size = int(raw_input(\"Size of board: \"))\n",
      "\n",
      "# Propmt user to try again if size of board is not positive\n",
      "if size <= 0:\n",
      "    print \"Size of board must be greater than 0. Try again.\"\n",
      "    size = int(raw_input(\"Size of board: \"))\n",
      "\n",
      "# Create grid with desired size\n",
      "grid = BlockGrid(size, size, fill=(173, 216, 230))\n",
      "\n",
      "# Prompt user to enter desired ship size\n",
      "length = int(raw_input(\"Length of ship: \"))\n",
      "\n",
      "# Prompt user to try again if ship length is not positive or greater than board size\n",
      "if length <= 0:\n",
      "    print \"Length of ship must be greater than 0. Try again.\"\n",
      "\n",
      "if length > size:\n",
      "    print \"Length of ship must be smaller than board size. Try again.\"\n",
      "    length = int(raw_input(\"Length of ship: \"))\n",
      "\n",
      "# Create two empty lists to hold ship location   \n",
      "ship_row = list([])\n",
      "ship_col = list([])\n",
      "\n",
      "# Randomize ship orientation\n",
      "def ship_orientation(grid):\n",
      "    value = randint(0,1)\n",
      "    if value == 0:\n",
      "        return \"Vertical\"\n",
      "    elif value == 1:\n",
      "        return \"Horizontal\"\n",
      "             \n",
      "# Randomize the start of ship\n",
      "def start_row(grid):\n",
      "    return randint(0,grid.height-length)\n",
      "\n",
      "def start_col(grid):\n",
      "    return randint(0,grid.width-length)\n",
      "\n",
      "# Assign ship starting information to variables\n",
      "orient = ship_orientation(grid)\n",
      "start_row = start_row(grid)\n",
      "start_col = start_col(grid)\n",
      "\n",
      "# Store ship row values in list\n",
      "def ship_row_placement(grid):\n",
      "    for i in range(0,length):\n",
      "        if orient == \"Vertical\":\n",
      "            ship_row.append(start_row + i)\n",
      "            i = i + 1\n",
      "        \n",
      "        elif orient == \"Horizontal\":\n",
      "            ship_row.append(start_row)\n",
      "            i = i + 1           \n",
      "    return ship_row\n",
      " \n",
      "# Store ship column values in list\n",
      "def ship_col_placement(grid):\n",
      "    for i in range(0,length):\n",
      "        if orient == \"Vertical\":\n",
      "            ship_col.append(start_col)\n",
      "    \n",
      "        elif orient == \"Horizontal\":\n",
      "            ship_col.append(start_col + i)\n",
      "    return ship_col\n",
      "\n",
      "row = ship_row_placement(grid)\n",
      "col = ship_col_placement(grid)\n",
      "\n",
      "# Color in blocks where ship is placed\n",
      "for i in range(0,len(ship_row)):\n",
      "    grid[row[i],col[i]] = (100,0,0)\n",
      "\n",
      "# Prompt user to enter number of attempts they'd like\n",
      "limit = int(raw_input(\"Enter number of attempts desired: \"))\n",
      "\n",
      "# Number of hits is set to 0 at the start of game\n",
      "hit = 0\n",
      "\n",
      "# Start game\n",
      "print \"Let's play Battleship!\"\n",
      "\n",
      "for turn in range(0,limit):\n",
      "    # Let user know which attempt they're on   \n",
      "    print \"Turn\", turn + 1\n",
      "    \n",
      "    # Prompt user to enter guess\n",
      "    guess_row = int(raw_input(\"Guess Row: \"))\n",
      "    guess_col = int(raw_input(\"Guess Column: \"))\n",
      "    \n",
      "    # If else statements to consider casses where guess is off the grid, guess is repeated, or guess missed ship\n",
      "    while (guess_row >= grid.height or guess_row < 0 or guess_col >= grid.width or guess_col < 0):\n",
      "        print \"Oops, that's not even in the ocean. Try again.\"\n",
      "        guess_row = int(raw_input(\"Guess Row: \"))\n",
      "        guess_col = int(raw_input(\"Guess Column: \"))\n",
      "    if (grid[guess_row, guess_col].red == 0):\n",
      "        print \"You guessed that one already.\" \n",
      "    elif grid[guess_row, guess_col].red != 100 and grid[guess_row, guess_col].red != 255:\n",
      "        print \"You missed my ship.\"\n",
      "        grid[guess_row, guess_col] = (0,0,0)\n",
      "    \n",
      "    # When guess is correct, notify user it is a hit, change block to red, and increment the number of hits\n",
      "    for j in range(0,len(row)): \n",
      "        if guess_row == row[j] and guess_col == col[j]:\n",
      "            if grid[guess_row, guess_col].red == 255:\n",
      "                print \"You guessed that one already.\"\n",
      "            else:\n",
      "                hit = hit + 1\n",
      "                grid[guess_row, guess_col] = (255,0,0)\n",
      "                print \"A hit!\"\n",
      "                \n",
      "    # If entire ship is hit, player wins, game ends\n",
      "    if hit == len(row):\n",
      "        print \"You win!\"\n",
      "        break\n",
      "       \n",
      "    # if ship hasn't been sunk but number of attempts is up, player loses, game ends\n",
      "    if turn == limit -1:       \n",
      "        print \"Game Over!\"\n",
      "grid"
     ],
     "language": "python",
     "metadata": {},
     "outputs": [
      {
       "name": "stdout",
       "output_type": "stream",
       "stream": "stdout",
       "text": [
        "Size of board: 6\n"
       ]
      },
      {
       "name": "stdout",
       "output_type": "stream",
       "stream": "stdout",
       "text": [
        "Length of ship: 4\n"
       ]
      },
      {
       "name": "stdout",
       "output_type": "stream",
       "stream": "stdout",
       "text": [
        "Enter number of attempts desired: 5\n"
       ]
      },
      {
       "output_type": "stream",
       "stream": "stdout",
       "text": [
        "Let's play Battleship!\n",
        "Turn 1\n"
       ]
      },
      {
       "name": "stdout",
       "output_type": "stream",
       "stream": "stdout",
       "text": [
        "Guess Row: 0\n"
       ]
      },
      {
       "name": "stdout",
       "output_type": "stream",
       "stream": "stdout",
       "text": [
        "Guess Column: 0\n"
       ]
      },
      {
       "output_type": "stream",
       "stream": "stdout",
       "text": [
        "A hit!\n",
        "Turn 2\n"
       ]
      },
      {
       "name": "stdout",
       "output_type": "stream",
       "stream": "stdout",
       "text": [
        "Guess Row: 1\n"
       ]
      },
      {
       "name": "stdout",
       "output_type": "stream",
       "stream": "stdout",
       "text": [
        "Guess Column: 0\n"
       ]
      },
      {
       "output_type": "stream",
       "stream": "stdout",
       "text": [
        "A hit!\n",
        "Turn 3\n"
       ]
      },
      {
       "name": "stdout",
       "output_type": "stream",
       "stream": "stdout",
       "text": [
        "Guess Row: 0\n"
       ]
      },
      {
       "name": "stdout",
       "output_type": "stream",
       "stream": "stdout",
       "text": [
        "Guess Column: 2\n"
       ]
      },
      {
       "output_type": "stream",
       "stream": "stdout",
       "text": [
        "You missed my ship.\n",
        "Turn 4\n"
       ]
      },
      {
       "name": "stdout",
       "output_type": "stream",
       "stream": "stdout",
       "text": [
        "Guess Row: 0\n"
       ]
      },
      {
       "name": "stdout",
       "output_type": "stream",
       "stream": "stdout",
       "text": [
        "Guess Column: 1\n"
       ]
      },
      {
       "output_type": "stream",
       "stream": "stdout",
       "text": [
        "You missed my ship.\n",
        "Turn 5\n"
       ]
      },
      {
       "name": "stdout",
       "output_type": "stream",
       "stream": "stdout",
       "text": [
        "Guess Row: 6\n"
       ]
      },
      {
       "name": "stdout",
       "output_type": "stream",
       "stream": "stdout",
       "text": [
        "Guess Column: 7\n"
       ]
      },
      {
       "output_type": "stream",
       "stream": "stdout",
       "text": [
        "Oops, that's not even in the ocean. Try again.\n"
       ]
      },
      {
       "name": "stdout",
       "output_type": "stream",
       "stream": "stdout",
       "text": [
        "Guess Row: 6\n"
       ]
      },
      {
       "name": "stdout",
       "output_type": "stream",
       "stream": "stdout",
       "text": [
        "Guess Column: 8\n"
       ]
      },
      {
       "output_type": "stream",
       "stream": "stdout",
       "text": [
        "Oops, that's not even in the ocean. Try again.\n"
       ]
      },
      {
       "name": "stdout",
       "output_type": "stream",
       "stream": "stdout",
       "text": [
        "Guess Row: 3\n"
       ]
      },
      {
       "name": "stdout",
       "output_type": "stream",
       "stream": "stdout",
       "text": [
        "Guess Column: 2\n"
       ]
      },
      {
       "output_type": "stream",
       "stream": "stdout",
       "text": [
        "You missed my ship.\n",
        "Game Over!\n"
       ]
      },
      {
       "html": [
        "<style type=\"text/css\">table.blockgrid {border: none;} .blockgrid tr {border: none;} .blockgrid td {padding: 0px;} #blocks70789113-df62-4e13-8435-d2d1448b26c7 td {border: 1px solid white;}</style><table id=\"blocks70789113-df62-4e13-8435-d2d1448b26c7\" class=\"blockgrid\"><tbody><tr><td title=\"Index: [0, 0]&#10;Color: (255, 0, 0)\" style=\"width: 20px; height: 20px;background-color: rgb(255, 0, 0);\"></td><td title=\"Index: [0, 1]&#10;Color: (0, 0, 0)\" style=\"width: 20px; height: 20px;background-color: rgb(0, 0, 0);\"></td><td title=\"Index: [0, 2]&#10;Color: (0, 0, 0)\" style=\"width: 20px; height: 20px;background-color: rgb(0, 0, 0);\"></td><td title=\"Index: [0, 3]&#10;Color: (173, 216, 230)\" style=\"width: 20px; height: 20px;background-color: rgb(173, 216, 230);\"></td><td title=\"Index: [0, 4]&#10;Color: (173, 216, 230)\" style=\"width: 20px; height: 20px;background-color: rgb(173, 216, 230);\"></td><td title=\"Index: [0, 5]&#10;Color: (173, 216, 230)\" style=\"width: 20px; height: 20px;background-color: rgb(173, 216, 230);\"></td></tr><tr><td title=\"Index: [1, 0]&#10;Color: (255, 0, 0)\" style=\"width: 20px; height: 20px;background-color: rgb(255, 0, 0);\"></td><td title=\"Index: [1, 1]&#10;Color: (173, 216, 230)\" style=\"width: 20px; height: 20px;background-color: rgb(173, 216, 230);\"></td><td title=\"Index: [1, 2]&#10;Color: (173, 216, 230)\" style=\"width: 20px; height: 20px;background-color: rgb(173, 216, 230);\"></td><td title=\"Index: [1, 3]&#10;Color: (173, 216, 230)\" style=\"width: 20px; height: 20px;background-color: rgb(173, 216, 230);\"></td><td title=\"Index: [1, 4]&#10;Color: (173, 216, 230)\" style=\"width: 20px; height: 20px;background-color: rgb(173, 216, 230);\"></td><td title=\"Index: [1, 5]&#10;Color: (173, 216, 230)\" style=\"width: 20px; height: 20px;background-color: rgb(173, 216, 230);\"></td></tr><tr><td title=\"Index: [2, 0]&#10;Color: (100, 0, 0)\" style=\"width: 20px; height: 20px;background-color: rgb(100, 0, 0);\"></td><td title=\"Index: [2, 1]&#10;Color: (173, 216, 230)\" style=\"width: 20px; height: 20px;background-color: rgb(173, 216, 230);\"></td><td title=\"Index: [2, 2]&#10;Color: (173, 216, 230)\" style=\"width: 20px; height: 20px;background-color: rgb(173, 216, 230);\"></td><td title=\"Index: [2, 3]&#10;Color: (173, 216, 230)\" style=\"width: 20px; height: 20px;background-color: rgb(173, 216, 230);\"></td><td title=\"Index: [2, 4]&#10;Color: (173, 216, 230)\" style=\"width: 20px; height: 20px;background-color: rgb(173, 216, 230);\"></td><td title=\"Index: [2, 5]&#10;Color: (173, 216, 230)\" style=\"width: 20px; height: 20px;background-color: rgb(173, 216, 230);\"></td></tr><tr><td title=\"Index: [3, 0]&#10;Color: (100, 0, 0)\" style=\"width: 20px; height: 20px;background-color: rgb(100, 0, 0);\"></td><td title=\"Index: [3, 1]&#10;Color: (173, 216, 230)\" style=\"width: 20px; height: 20px;background-color: rgb(173, 216, 230);\"></td><td title=\"Index: [3, 2]&#10;Color: (0, 0, 0)\" style=\"width: 20px; height: 20px;background-color: rgb(0, 0, 0);\"></td><td title=\"Index: [3, 3]&#10;Color: (173, 216, 230)\" style=\"width: 20px; height: 20px;background-color: rgb(173, 216, 230);\"></td><td title=\"Index: [3, 4]&#10;Color: (173, 216, 230)\" style=\"width: 20px; height: 20px;background-color: rgb(173, 216, 230);\"></td><td title=\"Index: [3, 5]&#10;Color: (173, 216, 230)\" style=\"width: 20px; height: 20px;background-color: rgb(173, 216, 230);\"></td></tr><tr><td title=\"Index: [4, 0]&#10;Color: (173, 216, 230)\" style=\"width: 20px; height: 20px;background-color: rgb(173, 216, 230);\"></td><td title=\"Index: [4, 1]&#10;Color: (173, 216, 230)\" style=\"width: 20px; height: 20px;background-color: rgb(173, 216, 230);\"></td><td title=\"Index: [4, 2]&#10;Color: (173, 216, 230)\" style=\"width: 20px; height: 20px;background-color: rgb(173, 216, 230);\"></td><td title=\"Index: [4, 3]&#10;Color: (173, 216, 230)\" style=\"width: 20px; height: 20px;background-color: rgb(173, 216, 230);\"></td><td title=\"Index: [4, 4]&#10;Color: (173, 216, 230)\" style=\"width: 20px; height: 20px;background-color: rgb(173, 216, 230);\"></td><td title=\"Index: [4, 5]&#10;Color: (173, 216, 230)\" style=\"width: 20px; height: 20px;background-color: rgb(173, 216, 230);\"></td></tr><tr><td title=\"Index: [5, 0]&#10;Color: (173, 216, 230)\" style=\"width: 20px; height: 20px;background-color: rgb(173, 216, 230);\"></td><td title=\"Index: [5, 1]&#10;Color: (173, 216, 230)\" style=\"width: 20px; height: 20px;background-color: rgb(173, 216, 230);\"></td><td title=\"Index: [5, 2]&#10;Color: (173, 216, 230)\" style=\"width: 20px; height: 20px;background-color: rgb(173, 216, 230);\"></td><td title=\"Index: [5, 3]&#10;Color: (173, 216, 230)\" style=\"width: 20px; height: 20px;background-color: rgb(173, 216, 230);\"></td><td title=\"Index: [5, 4]&#10;Color: (173, 216, 230)\" style=\"width: 20px; height: 20px;background-color: rgb(173, 216, 230);\"></td><td title=\"Index: [5, 5]&#10;Color: (173, 216, 230)\" style=\"width: 20px; height: 20px;background-color: rgb(173, 216, 230);\"></td></tr></tbody></table>"
       ],
       "metadata": {},
       "output_type": "pyout",
       "prompt_number": 3,
       "text": [
        "<ipythonblocks.ipythonblocks.BlockGrid at 0x29563d0>"
       ]
      }
     ],
     "prompt_number": 3
    },
    {
     "cell_type": "code",
     "collapsed": false,
     "input": [],
     "language": "python",
     "metadata": {},
     "outputs": []
    }
   ],
   "metadata": {}
  }
 ]
}