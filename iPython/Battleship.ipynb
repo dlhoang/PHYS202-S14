{
 "metadata": {
  "name": "",
  "signature": "sha256:168989e58f16ed3fb567f01f699e6e63b387b749cbf5091c1458fa6fe79ff4d8"
 },
 "nbformat": 3,
 "nbformat_minor": 0,
 "worksheets": [
  {
   "cells": [
    {
     "cell_type": "code",
     "collapsed": false,
     "input": [
      "from random import randint\n",
      "from ipythonblocks import BlockGrid\n",
      "\n",
      "grid = BlockGrid(8, 8, fill=(173, 216, 230))\n",
      "grid\n",
      "\n",
      "def ship_orientation(grid):\n",
      "    value = randint(0,1)\n",
      "    if value == 0:\n",
      "        return \"Vertical\"\n",
      "    elif value == 1:\n",
      "        return \"Horizontal\"\n",
      "             \n",
      "def start_row(grid):\n",
      "    return randint(0,grid.height-4)\n",
      "\n",
      "def start_col(grid):\n",
      "    return randint(0,grid.width-4)\n",
      "    \n",
      "orient = ship_orientation(grid)\n",
      "row1 = start_row(grid)\n",
      "col1 = start_col(grid)\n",
      "\n",
      "def row_two(grid):\n",
      "    if orient == \"Verticle\":\n",
      "        return row1+1\n",
      "    elif orient == \"Horizontal\":\n",
      "        return row1\n",
      "\n",
      "def row_three(grid):\n",
      "    if orient == \"Verticle\":\n",
      "        return row1+2\n",
      "    elif orient == \"Horizontal\":\n",
      "        return row1\n",
      "    \n",
      "def row_four(grid):\n",
      "    if orient == \"Verticle\":\n",
      "        return row1+3\n",
      "    elif orient == \"Horizontal\":\n",
      "        return row1\n",
      "    \n",
      "def col_two(grid):\n",
      "    if orient == \"Verticle\":\n",
      "        return col1\n",
      "    elif orient == \"Horizontal\":\n",
      "        return col1+1\n",
      "    \n",
      "def col_three(grid):\n",
      "    if orient == \"Verticle\":\n",
      "        return col1\n",
      "    elif orient == \"Horizontal\":\n",
      "        return col1+2\n",
      "    \n",
      "def col_four(grid):\n",
      "    if orient == \"Verticle\":\n",
      "        return col1\n",
      "    if orient == \"Horizontal\":\n",
      "        return col1+3\n",
      "\n",
      "row2 = row_two(grid)\n",
      "row3 = row_three(grid)\n",
      "row4 = row_four(grid)\n",
      "col2 = col_two(grid)\n",
      "col3 = col_three(grid)\n",
      "col4 = col_four(grid)\n",
      "\n",
      "grid[row1,col1] = (100,0,0)\n",
      "grid[row2,col2] = (100,0,0)\n",
      "grid[row3,col3] = (100,0,0)\n",
      "grid[row4,col4] = (100,0,0)\n",
      "\n",
      "limit = int(raw_input(\"Attempts allowed to sink ship: \"))\n",
      "\n",
      "hit = 0\n",
      "\n",
      "for turn in range(0,limit):\n",
      "        \n",
      "    guess_row = int(raw_input(\"Guess Row: \"))\n",
      "    guess_col = int(raw_input(\"Guess Column: \"))\n",
      "\n",
      "    if (guess_row >= grid.height or guess_row < 0 or guess_col >= grid.width or guess_col < 0):\n",
      "            print \"Oops, that's not even in the ocean.\"\n",
      "            \n",
      "    elif grid[guess_row, guess_col].red == 255:\n",
      "        print \"Ship hit already. Try again.\"\n",
      "        \n",
      "    elif (guess_row == row1 or guess_row == row2 or guess_row == row3 or guess_row == row4) \\\n",
      "        and (guess_col == col1 or guess_col == col2 or guess_col == col3 or guess_col == col4):\n",
      "        hit = hit + 1\n",
      "        grid[guess_row, guess_col] = (255,0,0)\n",
      "        print \"A hit!\"\n",
      "\n",
      "        if hit == 4:\n",
      "            print \"You win!\"\n",
      "            break\n",
      "        \n",
      "    else:\n",
      "        if (guess_row >= grid.height or guess_row < 0 or guess_col >= grid.width or guess_col < 0):\n",
      "            print \"Oops, that's not even in the ocean.\"\n",
      "        elif (grid[guess_row, guess_col].red == 0 and grid[guess_row, guess_col].green == 0 \\\n",
      "              and grid[guess_row, guess_col].blue == 0):\n",
      "            print \"You guessed that one already.\"\n",
      "        else:\n",
      "            print \"You missed my battleship.\"\n",
      "            grid[guess_row, guess_col] = (0,0,0)\n",
      "            \n",
      "    if turn == limit-1:\n",
      "        print \"Game Over!\"\n",
      "\n",
      "grid"
     ],
     "language": "python",
     "metadata": {},
     "outputs": [
      {
       "name": "stdout",
       "output_type": "stream",
       "stream": "stdout",
       "text": [
        "Attempts allowed to sink ship: 30\n"
       ]
      },
      {
       "name": "stdout",
       "output_type": "stream",
       "stream": "stdout",
       "text": [
        "Guess Row: 0\n"
       ]
      },
      {
       "name": "stdout",
       "output_type": "stream",
       "stream": "stdout",
       "text": [
        "Guess Column: 0\n"
       ]
      },
      {
       "output_type": "stream",
       "stream": "stdout",
       "text": [
        "You missed my battleship.\n"
       ]
      },
      {
       "name": "stdout",
       "output_type": "stream",
       "stream": "stdout",
       "text": [
        "Guess Row: 0\n"
       ]
      },
      {
       "name": "stdout",
       "output_type": "stream",
       "stream": "stdout",
       "text": [
        "Guess Column: 0\n"
       ]
      },
      {
       "output_type": "stream",
       "stream": "stdout",
       "text": [
        "You guessed that one already.\n"
       ]
      }
     ]
    },
    {
     "cell_type": "code",
     "collapsed": false,
     "input": [],
     "language": "python",
     "metadata": {},
     "outputs": []
    }
   ],
   "metadata": {}
  }
 ]
}