{
 "metadata": {
  "name": "",
  "signature": "sha256:bd293199ea833bf4ceeb887bd98e088c10d9c4e2c7ad63d7256a449b0b383057"
 },
 "nbformat": 3,
 "nbformat_minor": 0,
 "worksheets": []
}