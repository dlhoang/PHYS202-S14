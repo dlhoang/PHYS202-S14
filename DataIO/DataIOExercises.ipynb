{
 "metadata": {
  "name": "",
  "signature": "sha256:c3592c7c30273c2e7837fc103dad240b17ec3bf4e6a3155d0a2dcae896d025f1"
 },
 "nbformat": 3,
 "nbformat_minor": 0,
 "worksheets": [
  {
   "cells": [
    {
     "cell_type": "heading",
     "level": 1,
     "metadata": {},
     "source": [
      "Data IO Exercises"
     ]
    },
    {
     "cell_type": "code",
     "collapsed": false,
     "input": [
      "%pylab inline\n",
      "import numpy as np"
     ],
     "language": "python",
     "metadata": {},
     "outputs": []
    },
    {
     "cell_type": "code",
     "collapsed": false,
     "input": [
      "f = open('messy_data.dat', 'w')\n",
      "import random\n",
      "for i in range(100):\n",
      "    for j in range(5):\n",
      "        f.write(' ' * random.randint(0,6))\n",
      "        f.write('%0*.*g' % (random.randint(8,12), random.randint(5,10), 100*random.random()))\n",
      "        \n",
      "        if j != 4:\n",
      "            f.write(',')\n",
      "        f.write('\\n')\n",
      "f.close()"
     ],
     "language": "python",
     "metadata": {},
     "outputs": []
    },
    {
     "cell_type": "code",
     "collapsed": false,
     "input": [
      "!more -4 messy_data.dat"
     ],
     "language": "python",
     "metadata": {},
     "outputs": [
      {
       "output_type": "stream",
       "stream": "stdout",
       "text": [
        "0097.7911617,\r\n",
        "00000068.972,\r\n",
        "      00091.541,\r\n",
        "  00091.010184,\r\n",
        "\u001b[7m--More--(0%)\u001b[m"
       ]
      }
     ]
    },
    {
     "cell_type": "markdown",
     "metadata": {},
     "source": [
      "(a) Write a program that reads in the contents of \"messy_data.dat\" and extracts the numbers from each line, using the string manipulations we used in section 1 (remember that float() will convert a suitable string to a floating-point number)."
     ]
    },
    {
     "cell_type": "code",
     "collapsed": false,
     "input": [
      "f = open('messy_data.dat')\n",
      "print f.read()"
     ],
     "language": "python",
     "metadata": {},
     "outputs": []
    },
    {
     "cell_type": "markdown",
     "metadata": {},
     "source": [
      "(b) Next write out a new file named \"clean_data.dat\". The new file should contain the same data as the old file, but with uniform formatting and aligned columns."
     ]
    },
    {
     "cell_type": "code",
     "collapsed": false,
     "input": [
      "contents = open('messy_data.dat').read()\n",
      "out = open('middle_data.dat', 'w')\n",
      "out.write(contents.replace(',', '\\n'))\n",
      "out.close()\n",
      "\n",
      "contents = open('middle_data.dat').read()\n",
      "out = open('clean_data.dat', 'w')\n",
      "out.write(contents.replace(' ', ''))\n",
      "out.close()\n",
      "\n",
      "f = open('clean_data.dat')\n",
      "for i in f.readlines():\n",
      "    line = float(i)\n",
      "    print line\n",
      "f.close()"
     ],
     "language": "python",
     "metadata": {},
     "outputs": []
    },
    {
     "cell_type": "code",
     "collapsed": false,
     "input": [
      "!more clean_data.dat"
     ],
     "language": "python",
     "metadata": {},
     "outputs": []
    },
    {
     "cell_type": "code",
     "collapsed": false,
     "input": [],
     "language": "python",
     "metadata": {},
     "outputs": []
    },
    {
     "cell_type": "code",
     "collapsed": false,
     "input": [],
     "language": "python",
     "metadata": {},
     "outputs": []
    },
    {
     "cell_type": "code",
     "collapsed": false,
     "input": [
      "x, y = loadtxt('clean_data.dat',unpack=True, delimiter=',', usecols=[0,1])\n",
      "savetxt('output.dat', (x,y))\n",
      "DataOut = column_stack((x,y))\n",
      "savetxt('output.dat', DataOut)\n",
      "!more output.dat"
     ],
     "language": "python",
     "metadata": {},
     "outputs": []
    },
    {
     "cell_type": "code",
     "collapsed": false,
     "input": [],
     "language": "python",
     "metadata": {},
     "outputs": []
    }
   ],
   "metadata": {}
  }
 ]
}