{
 "metadata": {
  "name": "",
  "signature": "sha256:13874819fe209f704fd18749c405eb3ee99847720fab1750feb2f1c6ca30e581"
 },
 "nbformat": 3,
 "nbformat_minor": 0,
 "worksheets": [
  {
   "cells": [
    {
     "cell_type": "code",
     "collapsed": false,
     "input": [
      "class Blob():\n",
      "    def __init__(self, mass, cm, brightness):\n",
      "        self.mass = mass\n",
      "        self.cm = cm\n",
      "        self.brightness = brightness\n",
      "        \n",
      "    # add a pixel (i, j) to the blob\n",
      "    def add(i,j):\n",
      "        pass\n",
      "    \n",
      "    # return number of pixels added = its mass\n",
      "    def mass():\n",
      "        pass\n",
      "    \n",
      "    # return distance between centers of masses of this blob and b\n",
      "    def distanceTo(blob):\n",
      "        pass\n",
      "    \n",
      "    # return tuple of (x,y) values for this blob's center of mass\n",
      "    # format center-of-mass coordinates with 4 digits to right\n",
      "    # of decimal point\n",
      "    def centerOfMass():\n",
      "        pass\n",
      "    \n",
      "    # find all blobs in the picture using the luminance threshold tau\n",
      "    def BlobFinder(picture, tau):\n",
      "    \n",
      "    # return the number of beads with >= P pixels\n",
      "    def countBeads(P):\n",
      "\n",
      "    # return all beads with >= P pixels\n",
      "    def getBeads(P):\n",
      "        \n",
      "def monochrome(picture, threshold):\n",
      "    \"\"\"loops over the pixels in the loaded image, \n",
      "    replacing the RGB values of each with either \n",
      "    black or white depending on whether its total \n",
      "    luminance is above or below some threshold \n",
      "    passed in by the user\"\"\"\n",
      "    black = (0, 0, 0)\n",
      "    white = (255, 255, 255)\n",
      "    xsize, ysize = picture.size\n",
      "    temp = picture.load()\n",
      "    for x in range(xsize):\n",
      "        for y in range(ysize):\n",
      "            r,g,b = temp[x,y]\n",
      "            if r+g+b <= threshold: \n",
      "                temp[x,y] = black\n",
      "            else:\n",
      "                temp[x,y] = white"
     ],
     "language": "python",
     "metadata": {},
     "outputs": [],
     "prompt_number": 1
    },
    {
     "cell_type": "code",
     "collapsed": false,
     "input": [],
     "language": "python",
     "metadata": {},
     "outputs": []
    }
   ],
   "metadata": {}
  }
 ]
}